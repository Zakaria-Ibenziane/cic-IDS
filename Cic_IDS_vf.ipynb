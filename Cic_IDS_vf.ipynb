{
  "nbformat": 4,
  "nbformat_minor": 0,
  "metadata": {
    "colab": {
      "provenance": [],
      "collapsed_sections": [
        "zQJh5tI95HCN",
        "KEQWl_M5pzhN",
        "V5-EspG6osje",
        "DVWPGvY54l86",
        "1u8NwxV_-Ohr"
      ],
      "mount_file_id": "1NNfqGhp5I6nsLyBYtz2GrLH0vTwdOFjq",
      "authorship_tag": "ABX9TyMP8VHjNyetaWC5/d+iAKaC",
      "include_colab_link": true
    },
    "kernelspec": {
      "name": "python3",
      "display_name": "Python 3"
    },
    "language_info": {
      "name": "python"
    }
  },
  "cells": [
    {
      "cell_type": "markdown",
      "metadata": {
        "id": "view-in-github",
        "colab_type": "text"
      },
      "source": [
        "<a href=\"https://colab.research.google.com/github/Zakaria-Ibenziane/cic-IDS/blob/main/Cic_IDS_vf.ipynb\" target=\"_parent\"><img src=\"https://colab.research.google.com/assets/colab-badge.svg\" alt=\"Open In Colab\"/></a>"
      ]
    },
    {
      "cell_type": "markdown",
      "source": [
        "# *Modele de detection d'intrusion :*\n",
        "\n",
        "\n",
        "---\n",
        "\n",
        "\\"
      ],
      "metadata": {
        "id": "o9KiGztfcdpf"
      }
    },
    {
      "cell_type": "markdown",
      "source": [
        "## ⚒ Importation de data"
      ],
      "metadata": {
        "id": "zQJh5tI95HCN"
      }
    },
    {
      "cell_type": "code",
      "source": [
        "# from google.colab import drive\n",
        "# drive.mount('/content/drive/')"
      ],
      "metadata": {
        "id": "q0MINJ9iR578"
      },
      "execution_count": null,
      "outputs": []
    },
    {
      "cell_type": "code",
      "execution_count": null,
      "metadata": {
        "id": "HY2X5MNieCU_"
      },
      "outputs": [],
      "source": [
        "from mpl_toolkits.mplot3d import Axes3D\n",
        "from sklearn.preprocessing import StandardScaler, LabelEncoder, MinMaxScaler\n",
        "import matplotlib.pyplot as plt  ; plt.rcdefaults()\n",
        "import numpy as np # linear algebra\n",
        "import os # accessing directory structure\n",
        "import pandas as pd # data processing, CSV file I/O (e.g. pd.read_csv)\n",
        "%matplotlib inline\n",
        "\n",
        "from sklearn.preprocessing import RobustScaler\n",
        "from sklearn.model_selection import train_test_split\n",
        "\n",
        "from sklearn.metrics import mean_absolute_error,r2_score,mean_squared_error, accuracy_score\n",
        "from sklearn.metrics import classification_report, confusion_matrix, ConfusionMatrixDisplay\n",
        "\n",
        "import time\n",
        "seconds = time.time()\n",
        "\n",
        "from scipy import stats\n",
        "import seaborn as sns\n",
        "\n",
        "#from imblearn.under_sampling import RandomUnderSampler\n",
        "from sklearn import tree\n",
        "from sklearn.model_selection import cross_val_score\n",
        "\n",
        "from sklearn.ensemble import RandomForestClassifier\n",
        "\n",
        "from sklearn import metrics\n",
        "from sklearn.feature_selection import SelectKBest\n",
        "from sklearn.feature_selection import chi2\n",
        "\n",
        "import pickle\n",
        "import warnings\n",
        "warnings.filterwarnings('ignore')\n",
        "\n",
        "pd.set_option('display.max_columns', None)\n",
        "pd.set_option('display.max_rows', None)\n",
        "nRowsRead = None"
      ]
    },
    {
      "cell_type": "code",
      "source": [
        "# si\n",
        "df1 = pd.read_csv (\"OneDrive/Bureau/BCP/DataSet/MachineLearningCVE/Friday-WorkingHours-Afternoon-DDos.pcap_ISCX.csv\")\n",
        "df2 = pd.read_csv (\"OneDrive/Bureau/BCP/DataSet/MachineLearningCVE/Friday-WorkingHours-Afternoon-PortScan.pcap_ISCX.csv\")\n",
        "df3 = pd.read_csv (\"OneDrive/Bureau/BCP/DataSet/MachineLearningCVE/Friday-WorkingHours-Morning.pcap_ISCX.csv\")\n",
        "df4 = pd.read_csv (\"OneDrive/Bureau/BCP/DataSet/MachineLearningCVE/Monday-WorkingHours.pcap_ISCX.csv\")\n",
        "df5 = pd.read_csv (\"OneDrive/Bureau/BCP/DataSet/MachineLearningCVE/Thursday-WorkingHours-Afternoon-Infilteration.pcap_ISCX.csv\")\n",
        "df6 = pd.read_csv (\"OneDrive/Bureau/BCP/DataSet/MachineLearningCVE/Thursday-WorkingHours-Morning-WebAttacks.pcap_ISCX.csv\")\n",
        "df7 = pd.read_csv (\"OneDrive/Bureau/BCP/DataSet/MachineLearningCVE/Tuesday-WorkingHours.pcap_ISCX.csv\")\n",
        "df8 = pd.read_csv (\"OneDrive/Bureau/BCP/DataSet/MachineLearningCVE/Wednesday-workingHours.pcap_ISCX.csv\")\n",
        "\n",
        "# df1 = pd.read_csv(\"/content/drive/MyDrive/MachineLearningCVE/Friday-WorkingHours-Afternoon-DDos.pcap_ISCX.csv\")\n",
        "# df2=pd.read_csv(\"/content/drive/MyDrive/MachineLearningCVE/Friday-WorkingHours-Afternoon-PortScan.pcap_ISCX.csv\")\n",
        "# df3=pd.read_csv(\"/content/drive/MyDrive/MachineLearningCVE/Friday-WorkingHours-Morning.pcap_ISCX.csv\")\n",
        "# df4=pd.read_csv(\"/content/drive/MyDrive/MachineLearningCVE/Monday-WorkingHours.pcap_ISCX.csv\")\n",
        "# df5=pd.read_csv(\"/content/drive/MyDrive/MachineLearningCVE/Thursday-WorkingHours-Afternoon-Infilteration.pcap_ISCX.csv\")\n",
        "# df6=pd.read_csv(\"/content/drive/MyDrive/MachineLearningCVE/Thursday-WorkingHours-Morning-WebAttacks.pcap_ISCX.csv\")\n",
        "# df7=pd.read_csv(\"/content/drive/MyDrive/MachineLearningCVE/Tuesday-WorkingHours.pcap_ISCX.csv\")\n",
        "# df8=pd.read_csv(\"/content/drive/MyDrive/MachineLearningCVE/Wednesday-workingHours.pcap_ISCX.csv\")"
      ],
      "metadata": {
        "id": "tcAaQktPy2I1"
      },
      "execution_count": null,
      "outputs": []
    },
    {
      "cell_type": "code",
      "source": [
        "\n",
        "df = pd.concat([df1,df2])\n",
        "del df1,df2\n",
        "df = pd.concat([df,df3])\n",
        "del df3\n",
        "df = pd.concat([df,df4])\n",
        "del df4\n",
        "df = pd.concat([df,df5])\n",
        "del df5\n",
        "df = pd.concat([df,df6])\n",
        "del df6\n",
        "df = pd.concat([df,df7])\n",
        "del df7\n",
        "df = pd.concat([df,df8])\n",
        "del df8\n",
        "\n",
        "nRow, nCol = df.shape\n",
        "\n",
        "print('la taille de notre dataset au debut : ', df.shape)\n",
        "print('le nombre de lignes duppliquees est : ', df.duplicated().sum())\n",
        "\n",
        "df =  df.drop_duplicates(keep=\"first\")\n",
        "\n",
        "print('le nombre de lignes duppliquees apres traitement est : ', df.duplicated().sum())\n",
        "print('la taille de notre dataset apres traitement des lignes duppliquees devient : ', df.shape)\n",
        "\n",
        "\n",
        "# df.tail()\n"
      ],
      "metadata": {
        "id": "JHaXe_6xeX5j",
        "colab": {
          "base_uri": "https://localhost:8080/"
        },
        "outputId": "1dd19f73-1bde-4b3c-cee3-183ce9514a26"
      },
      "execution_count": null,
      "outputs": [
        {
          "output_type": "stream",
          "name": "stdout",
          "text": [
            "la taille de notre dataset au debut :  (2830743, 79)\n",
            "le nombre de lignes duppliquees est :  308381\n",
            "le nombre de lignes duppliquees apres traitement est :  0\n",
            "la taille de notre dataset apres traitement des lignes duppliquees devient :  (2522362, 79)\n"
          ]
        }
      ]
    },
    {
      "cell_type": "markdown",
      "source": [
        "## ♾ Statistiques"
      ],
      "metadata": {
        "id": "KEQWl_M5pzhN"
      }
    },
    {
      "cell_type": "code",
      "source": [
        "df.rename(columns={' Label': 'Label'}, inplace=True)\n",
        "df['Label'].value_counts()"
      ],
      "metadata": {
        "colab": {
          "base_uri": "https://localhost:8080/"
        },
        "id": "aT8zrpHgqAlh",
        "outputId": "e539bd9b-e2f6-47de-8f5b-0eda4704d5b3"
      },
      "execution_count": null,
      "outputs": [
        {
          "output_type": "execute_result",
          "data": {
            "text/plain": [
              "Label\n",
              "BENIGN                        2096484\n",
              "DoS Hulk                       172849\n",
              "DDoS                           128016\n",
              "PortScan                        90819\n",
              "DoS GoldenEye                   10286\n",
              "FTP-Patator                      5933\n",
              "DoS slowloris                    5385\n",
              "DoS Slowhttptest                 5228\n",
              "SSH-Patator                      3219\n",
              "Bot                              1953\n",
              "Web Attack � Brute Force         1470\n",
              "Web Attack � XSS                  652\n",
              "Infiltration                       36\n",
              "Web Attack � Sql Injection         21\n",
              "Heartbleed                         11\n",
              "Name: count, dtype: int64"
            ]
          },
          "metadata": {},
          "execution_count": 38
        }
      ]
    },
    {
      "cell_type": "code",
      "source": [
        "plt.figure(figsize=(12,6))\n",
        "plot=sns.countplot(data=df['Label'],y=df['Label'].loc[df['Label']!='BEGINE'])\n",
        "plt.xscale('log')\n",
        "fig=plot.get_figure()\n",
        "# to save diagramme image\n",
        "#fig.savefig('label_description.png')"
      ],
      "metadata": {
        "colab": {
          "base_uri": "https://localhost:8080/",
          "height": 546
        },
        "id": "StpEi1Mhw_pz",
        "outputId": "de8568d0-5647-4275-bc50-90eae19b7814"
      },
      "execution_count": null,
      "outputs": [
        {
          "output_type": "display_data",
          "data": {
            "text/plain": [
              "<Figure size 1200x600 with 1 Axes>"
            ],
            "image/png": "[encoded data removed]"
          },
          "metadata": {}
        }
      ]
    },
    {
      "cell_type": "code",
      "source": [
        "# Labeling Benign as normal and all other classes as malicious for binary classification.\n",
        "df[\"Label\"] = np.where(df[\"Label\"] != \"BENIGN\", 'malicious','normal')"
      ],
      "metadata": {
        "id": "SznXmM-GlrCl"
      },
      "execution_count": null,
      "outputs": []
    },
    {
      "cell_type": "code",
      "source": [
        "sns.countplot(data=df,x=df['Label'])"
      ],
      "metadata": {
        "colab": {
          "base_uri": "https://localhost:8080/",
          "height": 482
        },
        "id": "_NG07q2qgl1G",
        "outputId": "1d0bf1bb-44d5-4c22-a1f3-32384b6d7967"
      },
      "execution_count": null,
      "outputs": [
        {
          "output_type": "execute_result",
          "data": {
            "text/plain": [
              "<Axes: xlabel='Label', ylabel='count'>"
            ]
          },
          "metadata": {},
          "execution_count": 41
        },
        {
          "output_type": "display_data",
          "data": {
            "text/plain": [
              "<Figure size 640x480 with 1 Axes>"
            ],
            "image/png": "[encoded data removed]"
          },
          "metadata": {}
        }
      ]
    },
    {
      "cell_type": "code",
      "source": [
        "df.Label.value_counts()"
      ],
      "metadata": {
        "colab": {
          "base_uri": "https://localhost:8080/"
        },
        "id": "gwA7pda00RKh",
        "outputId": "05a0de94-b6d8-434c-c730-17ad044a9eb7"
      },
      "execution_count": null,
      "outputs": [
        {
          "output_type": "execute_result",
          "data": {
            "text/plain": [
              "Label\n",
              "normal       2096484\n",
              "malicious     425878\n",
              "Name: count, dtype: int64"
            ]
          },
          "metadata": {},
          "execution_count": 42
        }
      ]
    },
    {
      "cell_type": "code",
      "source": [
        " # Converting categorical values of 'Label' to numerical values.\n",
        "le = LabelEncoder()\n",
        "df['Label']=le.fit_transform(df['Label'])"
      ],
      "metadata": {
        "id": "YS5Hw5YDl-QX"
      },
      "execution_count": null,
      "outputs": []
    },
    {
      "cell_type": "code",
      "source": [
        "sns.countplot(data=df,x=df['Label'])"
      ],
      "metadata": {
        "colab": {
          "base_uri": "https://localhost:8080/",
          "height": 482
        },
        "id": "KHRC6RwzmBWa",
        "outputId": "cc535690-a176-4692-871a-68225fa7236f"
      },
      "execution_count": null,
      "outputs": [
        {
          "output_type": "execute_result",
          "data": {
            "text/plain": [
              "<Axes: xlabel='Label', ylabel='count'>"
            ]
          },
          "metadata": {},
          "execution_count": 44
        },
        {
          "output_type": "display_data",
          "data": {
            "text/plain": [
              "<Figure size 640x480 with 1 Axes>"
            ],
            "image/png": "[encoded data removed]"
          },
          "metadata": {}
        }
      ]
    },
    {
      "cell_type": "code",
      "source": [
        "df.head()"
      ],
      "metadata": {
        "colab": {
          "base_uri": "https://localhost:8080/",
          "height": 278
        },
        "id": "KJTq9WZPNx0F",
        "outputId": "b6c5a996-ce2e-4d77-f059-3ab898de55fc"
      },
      "execution_count": null,
      "outputs": [
        {
          "output_type": "execute_result",
          "data": {
            "text/plain": [
              "    Destination Port   Flow Duration   Total Fwd Packets  \\\n",
              "0              54865               3                   2   \n",
              "1              55054             109                   1   \n",
              "2              55055              52                   1   \n",
              "3              46236              34                   1   \n",
              "4              54863               3                   2   \n",
              "\n",
              "    Total Backward Packets  Total Length of Fwd Packets  \\\n",
              "0                        0                           12   \n",
              "1                        1                            6   \n",
              "2                        1                            6   \n",
              "3                        1                            6   \n",
              "4                        0                           12   \n",
              "\n",
              "    Total Length of Bwd Packets   Fwd Packet Length Max  \\\n",
              "0                             0                       6   \n",
              "1                             6                       6   \n",
              "2                             6                       6   \n",
              "3                             6                       6   \n",
              "4                             0                       6   \n",
              "\n",
              "    Fwd Packet Length Min   Fwd Packet Length Mean   Fwd Packet Length Std  \\\n",
              "0                       6                      6.0                     0.0   \n",
              "1                       6                      6.0                     0.0   \n",
              "2                       6                      6.0                     0.0   \n",
              "3                       6                      6.0                     0.0   \n",
              "4                       6                      6.0                     0.0   \n",
              "\n",
              "   Bwd Packet Length Max   Bwd Packet Length Min   Bwd Packet Length Mean  \\\n",
              "0                      0                       0                      0.0   \n",
              "1                      6                       6                      6.0   \n",
              "2                      6                       6                      6.0   \n",
              "3                      6                       6                      6.0   \n",
              "4                      0                       0                      0.0   \n",
              "\n",
              "    Bwd Packet Length Std  Flow Bytes/s   Flow Packets/s   Flow IAT Mean  \\\n",
              "0                     0.0  4.000000e+06     666666.66670             3.0   \n",
              "1                     0.0  1.100917e+05      18348.62385           109.0   \n",
              "2                     0.0  2.307692e+05      38461.53846            52.0   \n",
              "3                     0.0  3.529412e+05      58823.52941            34.0   \n",
              "4                     0.0  4.000000e+06     666666.66670             3.0   \n",
              "\n",
              "    Flow IAT Std   Flow IAT Max   Flow IAT Min  Fwd IAT Total   Fwd IAT Mean  \\\n",
              "0            0.0              3              3              3            3.0   \n",
              "1            0.0            109            109              0            0.0   \n",
              "2            0.0             52             52              0            0.0   \n",
              "3            0.0             34             34              0            0.0   \n",
              "4            0.0              3              3              3            3.0   \n",
              "\n",
              "    Fwd IAT Std   Fwd IAT Max   Fwd IAT Min  Bwd IAT Total   Bwd IAT Mean  \\\n",
              "0           0.0             3             3              0            0.0   \n",
              "1           0.0             0             0              0            0.0   \n",
              "2           0.0             0             0              0            0.0   \n",
              "3           0.0             0             0              0            0.0   \n",
              "4           0.0             3             3              0            0.0   \n",
              "\n",
              "    Bwd IAT Std   Bwd IAT Max   Bwd IAT Min  Fwd PSH Flags   Bwd PSH Flags  \\\n",
              "0           0.0             0             0              0               0   \n",
              "1           0.0             0             0              0               0   \n",
              "2           0.0             0             0              0               0   \n",
              "3           0.0             0             0              0               0   \n",
              "4           0.0             0             0              0               0   \n",
              "\n",
              "    Fwd URG Flags   Bwd URG Flags   Fwd Header Length   Bwd Header Length  \\\n",
              "0               0               0                  40                   0   \n",
              "1               0               0                  20                  20   \n",
              "2               0               0                  20                  20   \n",
              "3               0               0                  20                  20   \n",
              "4               0               0                  40                   0   \n",
              "\n",
              "   Fwd Packets/s   Bwd Packets/s   Min Packet Length   Max Packet Length  \\\n",
              "0  666666.666700        0.000000                   6                   6   \n",
              "1    9174.311927     9174.311927                   6                   6   \n",
              "2   19230.769230    19230.769230                   6                   6   \n",
              "3   29411.764710    29411.764710                   6                   6   \n",
              "4  666666.666700        0.000000                   6                   6   \n",
              "\n",
              "    Packet Length Mean   Packet Length Std   Packet Length Variance  \\\n",
              "0                  6.0                 0.0                      0.0   \n",
              "1                  6.0                 0.0                      0.0   \n",
              "2                  6.0                 0.0                      0.0   \n",
              "3                  6.0                 0.0                      0.0   \n",
              "4                  6.0                 0.0                      0.0   \n",
              "\n",
              "   FIN Flag Count   SYN Flag Count   RST Flag Count   PSH Flag Count  \\\n",
              "0               0                0                0                0   \n",
              "1               0                0                0                0   \n",
              "2               0                0                0                0   \n",
              "3               0                0                0                0   \n",
              "4               0                0                0                0   \n",
              "\n",
              "    ACK Flag Count   URG Flag Count   CWE Flag Count   ECE Flag Count  \\\n",
              "0                1                0                0                0   \n",
              "1                1                1                0                0   \n",
              "2                1                1                0                0   \n",
              "3                1                1                0                0   \n",
              "4                1                0                0                0   \n",
              "\n",
              "    Down/Up Ratio   Average Packet Size   Avg Fwd Segment Size  \\\n",
              "0               0                   9.0                    6.0   \n",
              "1               1                   9.0                    6.0   \n",
              "2               1                   9.0                    6.0   \n",
              "3               1                   9.0                    6.0   \n",
              "4               0                   9.0                    6.0   \n",
              "\n",
              "    Avg Bwd Segment Size   Fwd Header Length.1  Fwd Avg Bytes/Bulk  \\\n",
              "0                    0.0                    40                   0   \n",
              "1                    6.0                    20                   0   \n",
              "2                    6.0                    20                   0   \n",
              "3                    6.0                    20                   0   \n",
              "4                    0.0                    40                   0   \n",
              "\n",
              "    Fwd Avg Packets/Bulk   Fwd Avg Bulk Rate   Bwd Avg Bytes/Bulk  \\\n",
              "0                      0                   0                    0   \n",
              "1                      0                   0                    0   \n",
              "2                      0                   0                    0   \n",
              "3                      0                   0                    0   \n",
              "4                      0                   0                    0   \n",
              "\n",
              "    Bwd Avg Packets/Bulk  Bwd Avg Bulk Rate  Subflow Fwd Packets  \\\n",
              "0                      0                  0                    2   \n",
              "1                      0                  0                    1   \n",
              "2                      0                  0                    1   \n",
              "3                      0                  0                    1   \n",
              "4                      0                  0                    2   \n",
              "\n",
              "    Subflow Fwd Bytes   Subflow Bwd Packets   Subflow Bwd Bytes  \\\n",
              "0                  12                     0                   0   \n",
              "1                   6                     1                   6   \n",
              "2                   6                     1                   6   \n",
              "3                   6                     1                   6   \n",
              "4                  12                     0                   0   \n",
              "\n",
              "   Init_Win_bytes_forward   Init_Win_bytes_backward   act_data_pkt_fwd  \\\n",
              "0                      33                        -1                  1   \n",
              "1                      29                       256                  0   \n",
              "2                      29                       256                  0   \n",
              "3                      31                       329                  0   \n",
              "4                      32                        -1                  1   \n",
              "\n",
              "    min_seg_size_forward  Active Mean   Active Std   Active Max   Active Min  \\\n",
              "0                     20          0.0          0.0            0            0   \n",
              "1                     20          0.0          0.0            0            0   \n",
              "2                     20          0.0          0.0            0            0   \n",
              "3                     20          0.0          0.0            0            0   \n",
              "4                     20          0.0          0.0            0            0   \n",
              "\n",
              "   Idle Mean   Idle Std   Idle Max   Idle Min  Label  \n",
              "0        0.0        0.0          0          0      1  \n",
              "1        0.0        0.0          0          0      1  \n",
              "2        0.0        0.0          0          0      1  \n",
              "3        0.0        0.0          0          0      1  \n",
              "4        0.0        0.0          0          0      1  "
            ],
            "text/html": [
              "<div>\n",
              "<style scoped>\n",
              "    .dataframe tbody tr th:only-of-type {\n",
              "        vertical-align: middle;\n",
              "    }\n",
              "\n",
              "    .dataframe tbody tr th {\n",
              "        vertical-align: top;\n",
              "    }\n",
              "\n",
              "    .dataframe thead th {\n",
              "        text-align: right;\n",
              "    }\n",
              "</style>\n",
              "<table border=\"1\" class=\"dataframe\">\n",
              "  <thead>\n",
              "    <tr style=\"text-align: right;\">\n",
              "      <th></th>\n",
              "      <th>Destination Port</th>\n",
              "      <th>Flow Duration</th>\n",
              "      <th>Total Fwd Packets</th>\n",
              "      <th>Total Backward Packets</th>\n",
              "      <th>Total Length of Fwd Packets</th>\n",
              "      <th>Total Length of Bwd Packets</th>\n",
              "      <th>Fwd Packet Length Max</th>\n",
              "      <th>Fwd Packet Length Min</th>\n",
              "      <th>Fwd Packet Length Mean</th>\n",
              "      <th>Fwd Packet Length Std</th>\n",
              "      <th>Bwd Packet Length Max</th>\n",
              "      <th>Bwd Packet Length Min</th>\n",
              "      <th>Bwd Packet Length Mean</th>\n",
              "      <th>Bwd Packet Length Std</th>\n",
              "      <th>Flow Bytes/s</th>\n",
              "      <th>Flow Packets/s</th>\n",
              "      <th>Flow IAT Mean</th>\n",
              "      <th>Flow IAT Std</th>\n",
              "      <th>Flow IAT Max</th>\n",
              "      <th>Flow IAT Min</th>\n",
              "      <th>Fwd IAT Total</th>\n",
              "      <th>Fwd IAT Mean</th>\n",
              "      <th>Fwd IAT Std</th>\n",
              "      <th>Fwd IAT Max</th>\n",
              "      <th>Fwd IAT Min</th>\n",
              "      <th>Bwd IAT Total</th>\n",
              "      <th>Bwd IAT Mean</th>\n",
              "      <th>Bwd IAT Std</th>\n",
              "      <th>Bwd IAT Max</th>\n",
              "      <th>Bwd IAT Min</th>\n",
              "      <th>Fwd PSH Flags</th>\n",
              "      <th>Bwd PSH Flags</th>\n",
              "      <th>Fwd URG Flags</th>\n",
              "      <th>Bwd URG Flags</th>\n",
              "      <th>Fwd Header Length</th>\n",
              "      <th>Bwd Header Length</th>\n",
              "      <th>Fwd Packets/s</th>\n",
              "      <th>Bwd Packets/s</th>\n",
              "      <th>Min Packet Length</th>\n",
              "      <th>Max Packet Length</th>\n",
              "      <th>Packet Length Mean</th>\n",
              "      <th>Packet Length Std</th>\n",
              "      <th>Packet Length Variance</th>\n",
              "      <th>FIN Flag Count</th>\n",
              "      <th>SYN Flag Count</th>\n",
              "      <th>RST Flag Count</th>\n",
              "      <th>PSH Flag Count</th>\n",
              "      <th>ACK Flag Count</th>\n",
              "      <th>URG Flag Count</th>\n",
              "      <th>CWE Flag Count</th>\n",
              "      <th>ECE Flag Count</th>\n",
              "      <th>Down/Up Ratio</th>\n",
              "      <th>Average Packet Size</th>\n",
              "      <th>Avg Fwd Segment Size</th>\n",
              "      <th>Avg Bwd Segment Size</th>\n",
              "      <th>Fwd Header Length.1</th>\n",
              "      <th>Fwd Avg Bytes/Bulk</th>\n",
              "      <th>Fwd Avg Packets/Bulk</th>\n",
              "      <th>Fwd Avg Bulk Rate</th>\n",
              "      <th>Bwd Avg Bytes/Bulk</th>\n",
              "      <th>Bwd Avg Packets/Bulk</th>\n",
              "      <th>Bwd Avg Bulk Rate</th>\n",
              "      <th>Subflow Fwd Packets</th>\n",
              "      <th>Subflow Fwd Bytes</th>\n",
              "      <th>Subflow Bwd Packets</th>\n",
              "      <th>Subflow Bwd Bytes</th>\n",
              "      <th>Init_Win_bytes_forward</th>\n",
              "      <th>Init_Win_bytes_backward</th>\n",
              "      <th>act_data_pkt_fwd</th>\n",
              "      <th>min_seg_size_forward</th>\n",
              "      <th>Active Mean</th>\n",
              "      <th>Active Std</th>\n",
              "      <th>Active Max</th>\n",
              "      <th>Active Min</th>\n",
              "      <th>Idle Mean</th>\n",
              "      <th>Idle Std</th>\n",
              "      <th>Idle Max</th>\n",
              "      <th>Idle Min</th>\n",
              "      <th>Label</th>\n",
              "    </tr>\n",
              "  </thead>\n",
              "  <tbody>\n",
              "    <tr>\n",
              "      <th>0</th>\n",
              "      <td>54865</td>\n",
              "      <td>3</td>\n",
              "      <td>2</td>\n",
              "      <td>0</td>\n",
              "      <td>12</td>\n",
              "      <td>0</td>\n",
              "      <td>6</td>\n",
              "      <td>6</td>\n",
              "      <td>6.0</td>\n",
              "      <td>0.0</td>\n",
              "      <td>0</td>\n",
              "      <td>0</td>\n",
              "      <td>0.0</td>\n",
              "      <td>0.0</td>\n",
              "      <td>4.000000e+06</td>\n",
              "      <td>666666.66670</td>\n",
              "      <td>3.0</td>\n",
              "      <td>0.0</td>\n",
              "      <td>3</td>\n",
              "      <td>3</td>\n",
              "      <td>3</td>\n",
              "      <td>3.0</td>\n",
              "      <td>0.0</td>\n",
              "      <td>3</td>\n",
              "      <td>3</td>\n",
              "      <td>0</td>\n",
              "      <td>0.0</td>\n",
              "      <td>0.0</td>\n",
              "      <td>0</td>\n",
              "      <td>0</td>\n",
              "      <td>0</td>\n",
              "      <td>0</td>\n",
              "      <td>0</td>\n",
              "      <td>0</td>\n",
              "      <td>40</td>\n",
              "      <td>0</td>\n",
              "      <td>666666.666700</td>\n",
              "      <td>0.000000</td>\n",
              "      <td>6</td>\n",
              "      <td>6</td>\n",
              "      <td>6.0</td>\n",
              "      <td>0.0</td>\n",
              "      <td>0.0</td>\n",
              "      <td>0</td>\n",
              "      <td>0</td>\n",
              "      <td>0</td>\n",
              "      <td>0</td>\n",
              "      <td>1</td>\n",
              "      <td>0</td>\n",
              "      <td>0</td>\n",
              "      <td>0</td>\n",
              "      <td>0</td>\n",
              "      <td>9.0</td>\n",
              "      <td>6.0</td>\n",
              "      <td>0.0</td>\n",
              "      <td>40</td>\n",
              "      <td>0</td>\n",
              "      <td>0</td>\n",
              "      <td>0</td>\n",
              "      <td>0</td>\n",
              "      <td>0</td>\n",
              "      <td>0</td>\n",
              "      <td>2</td>\n",
              "      <td>12</td>\n",
              "      <td>0</td>\n",
              "      <td>0</td>\n",
              "      <td>33</td>\n",
              "      <td>-1</td>\n",
              "      <td>1</td>\n",
              "      <td>20</td>\n",
              "      <td>0.0</td>\n",
              "      <td>0.0</td>\n",
              "      <td>0</td>\n",
              "      <td>0</td>\n",
              "      <td>0.0</td>\n",
              "      <td>0.0</td>\n",
              "      <td>0</td>\n",
              "      <td>0</td>\n",
              "      <td>1</td>\n",
              "    </tr>\n",
              "    <tr>\n",
              "      <th>1</th>\n",
              "      <td>55054</td>\n",
              "      <td>109</td>\n",
              "      <td>1</td>\n",
              "      <td>1</td>\n",
              "      <td>6</td>\n",
              "      <td>6</td>\n",
              "      <td>6</td>\n",
              "      <td>6</td>\n",
              "      <td>6.0</td>\n",
              "      <td>0.0</td>\n",
              "      <td>6</td>\n",
              "      <td>6</td>\n",
              "      <td>6.0</td>\n",
              "      <td>0.0</td>\n",
              "      <td>1.100917e+05</td>\n",
              "      <td>18348.62385</td>\n",
              "      <td>109.0</td>\n",
              "      <td>0.0</td>\n",
              "      <td>109</td>\n",
              "      <td>109</td>\n",
              "      <td>0</td>\n",
              "      <td>0.0</td>\n",
              "      <td>0.0</td>\n",
              "      <td>0</td>\n",
              "      <td>0</td>\n",
              "      <td>0</td>\n",
              "      <td>0.0</td>\n",
              "      <td>0.0</td>\n",
              "      <td>0</td>\n",
              "      <td>0</td>\n",
              "      <td>0</td>\n",
              "      <td>0</td>\n",
              "      <td>0</td>\n",
              "      <td>0</td>\n",
              "      <td>20</td>\n",
              "      <td>20</td>\n",
              "      <td>9174.311927</td>\n",
              "      <td>9174.311927</td>\n",
              "      <td>6</td>\n",
              "      <td>6</td>\n",
              "      <td>6.0</td>\n",
              "      <td>0.0</td>\n",
              "      <td>0.0</td>\n",
              "      <td>0</td>\n",
              "      <td>0</td>\n",
              "      <td>0</td>\n",
              "      <td>0</td>\n",
              "      <td>1</td>\n",
              "      <td>1</td>\n",
              "      <td>0</td>\n",
              "      <td>0</td>\n",
              "      <td>1</td>\n",
              "      <td>9.0</td>\n",
              "      <td>6.0</td>\n",
              "      <td>6.0</td>\n",
              "      <td>20</td>\n",
              "      <td>0</td>\n",
              "      <td>0</td>\n",
              "      <td>0</td>\n",
              "      <td>0</td>\n",
              "      <td>0</td>\n",
              "      <td>0</td>\n",
              "      <td>1</td>\n",
              "      <td>6</td>\n",
              "      <td>1</td>\n",
              "      <td>6</td>\n",
              "      <td>29</td>\n",
              "      <td>256</td>\n",
              "      <td>0</td>\n",
              "      <td>20</td>\n",
              "      <td>0.0</td>\n",
              "      <td>0.0</td>\n",
              "      <td>0</td>\n",
              "      <td>0</td>\n",
              "      <td>0.0</td>\n",
              "      <td>0.0</td>\n",
              "      <td>0</td>\n",
              "      <td>0</td>\n",
              "      <td>1</td>\n",
              "    </tr>\n",
              "    <tr>\n",
              "      <th>2</th>\n",
              "      <td>55055</td>\n",
              "      <td>52</td>\n",
              "      <td>1</td>\n",
              "      <td>1</td>\n",
              "      <td>6</td>\n",
              "      <td>6</td>\n",
              "      <td>6</td>\n",
              "      <td>6</td>\n",
              "      <td>6.0</td>\n",
              "      <td>0.0</td>\n",
              "      <td>6</td>\n",
              "      <td>6</td>\n",
              "      <td>6.0</td>\n",
              "      <td>0.0</td>\n",
              "      <td>2.307692e+05</td>\n",
              "      <td>38461.53846</td>\n",
              "      <td>52.0</td>\n",
              "      <td>0.0</td>\n",
              "      <td>52</td>\n",
              "      <td>52</td>\n",
              "      <td>0</td>\n",
              "      <td>0.0</td>\n",
              "      <td>0.0</td>\n",
              "      <td>0</td>\n",
              "      <td>0</td>\n",
              "      <td>0</td>\n",
              "      <td>0.0</td>\n",
              "      <td>0.0</td>\n",
              "      <td>0</td>\n",
              "      <td>0</td>\n",
              "      <td>0</td>\n",
              "      <td>0</td>\n",
              "      <td>0</td>\n",
              "      <td>0</td>\n",
              "      <td>20</td>\n",
              "      <td>20</td>\n",
              "      <td>19230.769230</td>\n",
              "      <td>19230.769230</td>\n",
              "      <td>6</td>\n",
              "      <td>6</td>\n",
              "      <td>6.0</td>\n",
              "      <td>0.0</td>\n",
              "      <td>0.0</td>\n",
              "      <td>0</td>\n",
              "      <td>0</td>\n",
              "      <td>0</td>\n",
              "      <td>0</td>\n",
              "      <td>1</td>\n",
              "      <td>1</td>\n",
              "      <td>0</td>\n",
              "      <td>0</td>\n",
              "      <td>1</td>\n",
              "      <td>9.0</td>\n",
              "      <td>6.0</td>\n",
              "      <td>6.0</td>\n",
              "      <td>20</td>\n",
              "      <td>0</td>\n",
              "      <td>0</td>\n",
              "      <td>0</td>\n",
              "      <td>0</td>\n",
              "      <td>0</td>\n",
              "      <td>0</td>\n",
              "      <td>1</td>\n",
              "      <td>6</td>\n",
              "      <td>1</td>\n",
              "      <td>6</td>\n",
              "      <td>29</td>\n",
              "      <td>256</td>\n",
              "      <td>0</td>\n",
              "      <td>20</td>\n",
              "      <td>0.0</td>\n",
              "      <td>0.0</td>\n",
              "      <td>0</td>\n",
              "      <td>0</td>\n",
              "      <td>0.0</td>\n",
              "      <td>0.0</td>\n",
              "      <td>0</td>\n",
              "      <td>0</td>\n",
              "      <td>1</td>\n",
              "    </tr>\n",
              "    <tr>\n",
              "      <th>3</th>\n",
              "      <td>46236</td>\n",
              "      <td>34</td>\n",
              "      <td>1</td>\n",
              "      <td>1</td>\n",
              "      <td>6</td>\n",
              "      <td>6</td>\n",
              "      <td>6</td>\n",
              "      <td>6</td>\n",
              "      <td>6.0</td>\n",
              "      <td>0.0</td>\n",
              "      <td>6</td>\n",
              "      <td>6</td>\n",
              "      <td>6.0</td>\n",
              "      <td>0.0</td>\n",
              "      <td>3.529412e+05</td>\n",
              "      <td>58823.52941</td>\n",
              "      <td>34.0</td>\n",
              "      <td>0.0</td>\n",
              "      <td>34</td>\n",
              "      <td>34</td>\n",
              "      <td>0</td>\n",
              "      <td>0.0</td>\n",
              "      <td>0.0</td>\n",
              "      <td>0</td>\n",
              "      <td>0</td>\n",
              "      <td>0</td>\n",
              "      <td>0.0</td>\n",
              "      <td>0.0</td>\n",
              "      <td>0</td>\n",
              "      <td>0</td>\n",
              "      <td>0</td>\n",
              "      <td>0</td>\n",
              "      <td>0</td>\n",
              "      <td>0</td>\n",
              "      <td>20</td>\n",
              "      <td>20</td>\n",
              "      <td>29411.764710</td>\n",
              "      <td>29411.764710</td>\n",
              "      <td>6</td>\n",
              "      <td>6</td>\n",
              "      <td>6.0</td>\n",
              "      <td>0.0</td>\n",
              "      <td>0.0</td>\n",
              "      <td>0</td>\n",
              "      <td>0</td>\n",
              "      <td>0</td>\n",
              "      <td>0</td>\n",
              "      <td>1</td>\n",
              "      <td>1</td>\n",
              "      <td>0</td>\n",
              "      <td>0</td>\n",
              "      <td>1</td>\n",
              "      <td>9.0</td>\n",
              "      <td>6.0</td>\n",
              "      <td>6.0</td>\n",
              "      <td>20</td>\n",
              "      <td>0</td>\n",
              "      <td>0</td>\n",
              "      <td>0</td>\n",
              "      <td>0</td>\n",
              "      <td>0</td>\n",
              "      <td>0</td>\n",
              "      <td>1</td>\n",
              "      <td>6</td>\n",
              "      <td>1</td>\n",
              "      <td>6</td>\n",
              "      <td>31</td>\n",
              "      <td>329</td>\n",
              "      <td>0</td>\n",
              "      <td>20</td>\n",
              "      <td>0.0</td>\n",
              "      <td>0.0</td>\n",
              "      <td>0</td>\n",
              "      <td>0</td>\n",
              "      <td>0.0</td>\n",
              "      <td>0.0</td>\n",
              "      <td>0</td>\n",
              "      <td>0</td>\n",
              "      <td>1</td>\n",
              "    </tr>\n",
              "    <tr>\n",
              "      <th>4</th>\n",
              "      <td>54863</td>\n",
              "      <td>3</td>\n",
              "      <td>2</td>\n",
              "      <td>0</td>\n",
              "      <td>12</td>\n",
              "      <td>0</td>\n",
              "      <td>6</td>\n",
              "      <td>6</td>\n",
              "      <td>6.0</td>\n",
              "      <td>0.0</td>\n",
              "      <td>0</td>\n",
              "      <td>0</td>\n",
              "      <td>0.0</td>\n",
              "      <td>0.0</td>\n",
              "      <td>4.000000e+06</td>\n",
              "      <td>666666.66670</td>\n",
              "      <td>3.0</td>\n",
              "      <td>0.0</td>\n",
              "      <td>3</td>\n",
              "      <td>3</td>\n",
              "      <td>3</td>\n",
              "      <td>3.0</td>\n",
              "      <td>0.0</td>\n",
              "      <td>3</td>\n",
              "      <td>3</td>\n",
              "      <td>0</td>\n",
              "      <td>0.0</td>\n",
              "      <td>0.0</td>\n",
              "      <td>0</td>\n",
              "      <td>0</td>\n",
              "      <td>0</td>\n",
              "      <td>0</td>\n",
              "      <td>0</td>\n",
              "      <td>0</td>\n",
              "      <td>40</td>\n",
              "      <td>0</td>\n",
              "      <td>666666.666700</td>\n",
              "      <td>0.000000</td>\n",
              "      <td>6</td>\n",
              "      <td>6</td>\n",
              "      <td>6.0</td>\n",
              "      <td>0.0</td>\n",
              "      <td>0.0</td>\n",
              "      <td>0</td>\n",
              "      <td>0</td>\n",
              "      <td>0</td>\n",
              "      <td>0</td>\n",
              "      <td>1</td>\n",
              "      <td>0</td>\n",
              "      <td>0</td>\n",
              "      <td>0</td>\n",
              "      <td>0</td>\n",
              "      <td>9.0</td>\n",
              "      <td>6.0</td>\n",
              "      <td>0.0</td>\n",
              "      <td>40</td>\n",
              "      <td>0</td>\n",
              "      <td>0</td>\n",
              "      <td>0</td>\n",
              "      <td>0</td>\n",
              "      <td>0</td>\n",
              "      <td>0</td>\n",
              "      <td>2</td>\n",
              "      <td>12</td>\n",
              "      <td>0</td>\n",
              "      <td>0</td>\n",
              "      <td>32</td>\n",
              "      <td>-1</td>\n",
              "      <td>1</td>\n",
              "      <td>20</td>\n",
              "      <td>0.0</td>\n",
              "      <td>0.0</td>\n",
              "      <td>0</td>\n",
              "      <td>0</td>\n",
              "      <td>0.0</td>\n",
              "      <td>0.0</td>\n",
              "      <td>0</td>\n",
              "      <td>0</td>\n",
              "      <td>1</td>\n",
              "    </tr>\n",
              "  </tbody>\n",
              "</table>\n",
              "</div>"
            ]
          },
          "metadata": {},
          "execution_count": 45
        }
      ]
    },
    {
      "cell_type": "code",
      "source": [
        "rows_with_label_0 = df.loc[df['Label'] == 0]\n",
        "rows_with_label_0.head()"
      ],
      "metadata": {
        "colab": {
          "base_uri": "https://localhost:8080/",
          "height": 278
        },
        "id": "ofUXap2rNVFi",
        "outputId": "182c89d2-6773-4e37-b501-c7bed3660ad8"
      },
      "execution_count": null,
      "outputs": [
        {
          "output_type": "execute_result",
          "data": {
            "text/plain": [
              "        Destination Port   Flow Duration   Total Fwd Packets  \\\n",
              "18883                 80         1293792                   3   \n",
              "18884                 80         4421382                   4   \n",
              "18885                 80         1083538                   3   \n",
              "18886                 80        80034360                   8   \n",
              "18887                 80          642654                   3   \n",
              "\n",
              "        Total Backward Packets  Total Length of Fwd Packets  \\\n",
              "18883                        7                           26   \n",
              "18884                        0                           24   \n",
              "18885                        6                           26   \n",
              "18886                        4                           56   \n",
              "18887                        6                           26   \n",
              "\n",
              "        Total Length of Bwd Packets   Fwd Packet Length Max  \\\n",
              "18883                         11607                      20   \n",
              "18884                             0                       6   \n",
              "18885                         11601                      20   \n",
              "18886                         11601                      20   \n",
              "18887                         11607                      20   \n",
              "\n",
              "        Fwd Packet Length Min   Fwd Packet Length Mean  \\\n",
              "18883                       0                 8.666667   \n",
              "18884                       6                 6.000000   \n",
              "18885                       0                 8.666667   \n",
              "18886                       0                 7.000000   \n",
              "18887                       0                 8.666667   \n",
              "\n",
              "        Fwd Packet Length Std  Bwd Packet Length Max   Bwd Packet Length Min  \\\n",
              "18883               10.263203                   5840                       0   \n",
              "18884                0.000000                      0                       0   \n",
              "18885               10.263203                   4380                       0   \n",
              "18886                5.656854                   8760                       0   \n",
              "18887               10.263203                   5840                       0   \n",
              "\n",
              "        Bwd Packet Length Mean   Bwd Packet Length Std  Flow Bytes/s  \\\n",
              "18883              1658.142857             2137.297080   8991.398927   \n",
              "18884                 0.000000                0.000000      5.428167   \n",
              "18885              1933.500000             1757.789948  10730.588130   \n",
              "18886              2900.250000             4128.319301    145.649943   \n",
              "18887              1934.500000             2538.919278  18101.497850   \n",
              "\n",
              "        Flow Packets/s   Flow IAT Mean   Flow IAT Std   Flow IAT Max  \\\n",
              "18883         7.729218    1.437547e+05   4.308658e+05        1292730   \n",
              "18884         0.904695    1.473794e+06   2.552043e+06        4420639   \n",
              "18885         8.306123    1.354422e+05   3.777253e+05        1070206   \n",
              "18886         0.149936    7.275851e+06   2.110000e+07       70600000   \n",
              "18887        14.004425    8.033175e+04   2.268247e+05         641694   \n",
              "\n",
              "        Flow IAT Min  Fwd IAT Total   Fwd IAT Mean   Fwd IAT Std  \\\n",
              "18883              2            747          373.5  5.239661e+02   \n",
              "18884            340        4421382      1473794.0  2.552043e+06   \n",
              "18885             41          12982         6491.0  8.165669e+03   \n",
              "18886              6       78700000     11200000.0  2.630000e+07   \n",
              "18887              3            801          400.5  5.409367e+02   \n",
              "\n",
              "        Fwd IAT Max   Fwd IAT Min  Bwd IAT Total   Bwd IAT Mean   Bwd IAT Std  \\\n",
              "18883           744             3        1293746    215624.3333   527671.9348   \n",
              "18884       4420639           340              0         0.0000        0.0000   \n",
              "18885         12265           717        1083407    216681.4000   477167.0977   \n",
              "18886      70600000           247        1354806    451602.0000   777575.2592   \n",
              "18887           783            18         642493    128498.6000   286885.1169   \n",
              "\n",
              "        Bwd IAT Max   Bwd IAT Min  Fwd PSH Flags   Bwd PSH Flags  \\\n",
              "18883       1292730             2              0               0   \n",
              "18884             0             0              0               0   \n",
              "18885       1070206            41              0               0   \n",
              "18886       1349464           190              0               0   \n",
              "18887        641694             3              0               0   \n",
              "\n",
              "        Fwd URG Flags   Bwd URG Flags   Fwd Header Length   Bwd Header Length  \\\n",
              "18883               0               0                  72                 152   \n",
              "18884               0               0                  80                   0   \n",
              "18885               0               0                  72                 132   \n",
              "18886               0               0                 172                  92   \n",
              "18887               0               0                  72                 132   \n",
              "\n",
              "       Fwd Packets/s   Bwd Packets/s   Min Packet Length   Max Packet Length  \\\n",
              "18883       2.318765        5.410452                   0                5840   \n",
              "18884       0.904695        0.000000                   6                   6   \n",
              "18885       2.768708        5.537415                   0                4380   \n",
              "18886       0.099957        0.049979                   0                8760   \n",
              "18887       4.668142        9.336284                   0                5840   \n",
              "\n",
              "        Packet Length Mean   Packet Length Std   Packet Length Variance  \\\n",
              "18883          1057.545455         1853.437529              3435230.673   \n",
              "18884             6.000000            0.000000                    0.000   \n",
              "18885          1162.700000         1645.241762              2706820.456   \n",
              "18886           897.153846         2488.507044              6192667.308   \n",
              "18887          1163.300000         2138.329153              4572451.567   \n",
              "\n",
              "       FIN Flag Count   SYN Flag Count   RST Flag Count   PSH Flag Count  \\\n",
              "18883               0                0                0                1   \n",
              "18884               0                0                0                0   \n",
              "18885               0                0                0                1   \n",
              "18886               0                0                0                0   \n",
              "18887               0                0                0                1   \n",
              "\n",
              "        ACK Flag Count   URG Flag Count   CWE Flag Count   ECE Flag Count  \\\n",
              "18883                0                0                0                0   \n",
              "18884                1                0                0                0   \n",
              "18885                0                0                0                0   \n",
              "18886                1                0                0                0   \n",
              "18887                0                0                0                0   \n",
              "\n",
              "        Down/Up Ratio   Average Packet Size   Avg Fwd Segment Size  \\\n",
              "18883               2           1163.300000               8.666667   \n",
              "18884               0              7.500000               6.000000   \n",
              "18885               2           1291.888889               8.666667   \n",
              "18886               0            971.916667               7.000000   \n",
              "18887               2           1292.555556               8.666667   \n",
              "\n",
              "        Avg Bwd Segment Size   Fwd Header Length.1  Fwd Avg Bytes/Bulk  \\\n",
              "18883            1658.142857                    72                   0   \n",
              "18884               0.000000                    80                   0   \n",
              "18885            1933.500000                    72                   0   \n",
              "18886            2900.250000                   172                   0   \n",
              "18887            1934.500000                    72                   0   \n",
              "\n",
              "        Fwd Avg Packets/Bulk   Fwd Avg Bulk Rate   Bwd Avg Bytes/Bulk  \\\n",
              "18883                      0                   0                    0   \n",
              "18884                      0                   0                    0   \n",
              "18885                      0                   0                    0   \n",
              "18886                      0                   0                    0   \n",
              "18887                      0                   0                    0   \n",
              "\n",
              "        Bwd Avg Packets/Bulk  Bwd Avg Bulk Rate  Subflow Fwd Packets  \\\n",
              "18883                      0                  0                    3   \n",
              "18884                      0                  0                    4   \n",
              "18885                      0                  0                    3   \n",
              "18886                      0                  0                    8   \n",
              "18887                      0                  0                    3   \n",
              "\n",
              "        Subflow Fwd Bytes   Subflow Bwd Packets   Subflow Bwd Bytes  \\\n",
              "18883                  26                     7               11607   \n",
              "18884                  24                     0                   0   \n",
              "18885                  26                     6               11601   \n",
              "18886                  56                     4               11601   \n",
              "18887                  26                     6               11607   \n",
              "\n",
              "       Init_Win_bytes_forward   Init_Win_bytes_backward   act_data_pkt_fwd  \\\n",
              "18883                    8192                       229                  2   \n",
              "18884                     256                        -1                  3   \n",
              "18885                    8192                       229                  2   \n",
              "18886                     256                       229                  6   \n",
              "18887                    8192                       229                  2   \n",
              "\n",
              "        min_seg_size_forward  Active Mean   Active Std   Active Max  \\\n",
              "18883                     20          0.0          0.0            0   \n",
              "18884                     20          0.0          0.0            0   \n",
              "18885                     20          0.0          0.0            0   \n",
              "18886                     20        939.0          0.0          939   \n",
              "18887                     20          0.0          0.0            0   \n",
              "\n",
              "        Active Min   Idle Mean    Idle Std   Idle Max   Idle Min  Label  \n",
              "18883            0         0.0         0.0          0          0      0  \n",
              "18884            0         0.0         0.0          0          0      0  \n",
              "18885            0         0.0         0.0          0          0      0  \n",
              "18886          939  39300000.0  44200000.0   70600000    8072664      0  \n",
              "18887            0         0.0         0.0          0          0      0  "
            ],
            "text/html": [
              "<div>\n",
              "<style scoped>\n",
              "    .dataframe tbody tr th:only-of-type {\n",
              "        vertical-align: middle;\n",
              "    }\n",
              "\n",
              "    .dataframe tbody tr th {\n",
              "        vertical-align: top;\n",
              "    }\n",
              "\n",
              "    .dataframe thead th {\n",
              "        text-align: right;\n",
              "    }\n",
              "</style>\n",
              "<table border=\"1\" class=\"dataframe\">\n",
              "  <thead>\n",
              "    <tr style=\"text-align: right;\">\n",
              "      <th></th>\n",
              "      <th>Destination Port</th>\n",
              "      <th>Flow Duration</th>\n",
              "      <th>Total Fwd Packets</th>\n",
              "      <th>Total Backward Packets</th>\n",
              "      <th>Total Length of Fwd Packets</th>\n",
              "      <th>Total Length of Bwd Packets</th>\n",
              "      <th>Fwd Packet Length Max</th>\n",
              "      <th>Fwd Packet Length Min</th>\n",
              "      <th>Fwd Packet Length Mean</th>\n",
              "      <th>Fwd Packet Length Std</th>\n",
              "      <th>Bwd Packet Length Max</th>\n",
              "      <th>Bwd Packet Length Min</th>\n",
              "      <th>Bwd Packet Length Mean</th>\n",
              "      <th>Bwd Packet Length Std</th>\n",
              "      <th>Flow Bytes/s</th>\n",
              "      <th>Flow Packets/s</th>\n",
              "      <th>Flow IAT Mean</th>\n",
              "      <th>Flow IAT Std</th>\n",
              "      <th>Flow IAT Max</th>\n",
              "      <th>Flow IAT Min</th>\n",
              "      <th>Fwd IAT Total</th>\n",
              "      <th>Fwd IAT Mean</th>\n",
              "      <th>Fwd IAT Std</th>\n",
              "      <th>Fwd IAT Max</th>\n",
              "      <th>Fwd IAT Min</th>\n",
              "      <th>Bwd IAT Total</th>\n",
              "      <th>Bwd IAT Mean</th>\n",
              "      <th>Bwd IAT Std</th>\n",
              "      <th>Bwd IAT Max</th>\n",
              "      <th>Bwd IAT Min</th>\n",
              "      <th>Fwd PSH Flags</th>\n",
              "      <th>Bwd PSH Flags</th>\n",
              "      <th>Fwd URG Flags</th>\n",
              "      <th>Bwd URG Flags</th>\n",
              "      <th>Fwd Header Length</th>\n",
              "      <th>Bwd Header Length</th>\n",
              "      <th>Fwd Packets/s</th>\n",
              "      <th>Bwd Packets/s</th>\n",
              "      <th>Min Packet Length</th>\n",
              "      <th>Max Packet Length</th>\n",
              "      <th>Packet Length Mean</th>\n",
              "      <th>Packet Length Std</th>\n",
              "      <th>Packet Length Variance</th>\n",
              "      <th>FIN Flag Count</th>\n",
              "      <th>SYN Flag Count</th>\n",
              "      <th>RST Flag Count</th>\n",
              "      <th>PSH Flag Count</th>\n",
              "      <th>ACK Flag Count</th>\n",
              "      <th>URG Flag Count</th>\n",
              "      <th>CWE Flag Count</th>\n",
              "      <th>ECE Flag Count</th>\n",
              "      <th>Down/Up Ratio</th>\n",
              "      <th>Average Packet Size</th>\n",
              "      <th>Avg Fwd Segment Size</th>\n",
              "      <th>Avg Bwd Segment Size</th>\n",
              "      <th>Fwd Header Length.1</th>\n",
              "      <th>Fwd Avg Bytes/Bulk</th>\n",
              "      <th>Fwd Avg Packets/Bulk</th>\n",
              "      <th>Fwd Avg Bulk Rate</th>\n",
              "      <th>Bwd Avg Bytes/Bulk</th>\n",
              "      <th>Bwd Avg Packets/Bulk</th>\n",
              "      <th>Bwd Avg Bulk Rate</th>\n",
              "      <th>Subflow Fwd Packets</th>\n",
              "      <th>Subflow Fwd Bytes</th>\n",
              "      <th>Subflow Bwd Packets</th>\n",
              "      <th>Subflow Bwd Bytes</th>\n",
              "      <th>Init_Win_bytes_forward</th>\n",
              "      <th>Init_Win_bytes_backward</th>\n",
              "      <th>act_data_pkt_fwd</th>\n",
              "      <th>min_seg_size_forward</th>\n",
              "      <th>Active Mean</th>\n",
              "      <th>Active Std</th>\n",
              "      <th>Active Max</th>\n",
              "      <th>Active Min</th>\n",
              "      <th>Idle Mean</th>\n",
              "      <th>Idle Std</th>\n",
              "      <th>Idle Max</th>\n",
              "      <th>Idle Min</th>\n",
              "      <th>Label</th>\n",
              "    </tr>\n",
              "  </thead>\n",
              "  <tbody>\n",
              "    <tr>\n",
              "      <th>18883</th>\n",
              "      <td>80</td>\n",
              "      <td>1293792</td>\n",
              "      <td>3</td>\n",
              "      <td>7</td>\n",
              "      <td>26</td>\n",
              "      <td>11607</td>\n",
              "      <td>20</td>\n",
              "      <td>0</td>\n",
              "      <td>8.666667</td>\n",
              "      <td>10.263203</td>\n",
              "      <td>5840</td>\n",
              "      <td>0</td>\n",
              "      <td>1658.142857</td>\n",
              "      <td>2137.297080</td>\n",
              "      <td>8991.398927</td>\n",
              "      <td>7.729218</td>\n",
              "      <td>1.437547e+05</td>\n",
              "      <td>4.308658e+05</td>\n",
              "      <td>1292730</td>\n",
              "      <td>2</td>\n",
              "      <td>747</td>\n",
              "      <td>373.5</td>\n",
              "      <td>5.239661e+02</td>\n",
              "      <td>744</td>\n",
              "      <td>3</td>\n",
              "      <td>1293746</td>\n",
              "      <td>215624.3333</td>\n",
              "      <td>527671.9348</td>\n",
              "      <td>1292730</td>\n",
              "      <td>2</td>\n",
              "      <td>0</td>\n",
              "      <td>0</td>\n",
              "      <td>0</td>\n",
              "      <td>0</td>\n",
              "      <td>72</td>\n",
              "      <td>152</td>\n",
              "      <td>2.318765</td>\n",
              "      <td>5.410452</td>\n",
              "      <td>0</td>\n",
              "      <td>5840</td>\n",
              "      <td>1057.545455</td>\n",
              "      <td>1853.437529</td>\n",
              "      <td>3435230.673</td>\n",
              "      <td>0</td>\n",
              "      <td>0</td>\n",
              "      <td>0</td>\n",
              "      <td>1</td>\n",
              "      <td>0</td>\n",
              "      <td>0</td>\n",
              "      <td>0</td>\n",
              "      <td>0</td>\n",
              "      <td>2</td>\n",
              "      <td>1163.300000</td>\n",
              "      <td>8.666667</td>\n",
              "      <td>1658.142857</td>\n",
              "      <td>72</td>\n",
              "      <td>0</td>\n",
              "      <td>0</td>\n",
              "      <td>0</td>\n",
              "      <td>0</td>\n",
              "      <td>0</td>\n",
              "      <td>0</td>\n",
              "      <td>3</td>\n",
              "      <td>26</td>\n",
              "      <td>7</td>\n",
              "      <td>11607</td>\n",
              "      <td>8192</td>\n",
              "      <td>229</td>\n",
              "      <td>2</td>\n",
              "      <td>20</td>\n",
              "      <td>0.0</td>\n",
              "      <td>0.0</td>\n",
              "      <td>0</td>\n",
              "      <td>0</td>\n",
              "      <td>0.0</td>\n",
              "      <td>0.0</td>\n",
              "      <td>0</td>\n",
              "      <td>0</td>\n",
              "      <td>0</td>\n",
              "    </tr>\n",
              "    <tr>\n",
              "      <th>18884</th>\n",
              "      <td>80</td>\n",
              "      <td>4421382</td>\n",
              "      <td>4</td>\n",
              "      <td>0</td>\n",
              "      <td>24</td>\n",
              "      <td>0</td>\n",
              "      <td>6</td>\n",
              "      <td>6</td>\n",
              "      <td>6.000000</td>\n",
              "      <td>0.000000</td>\n",
              "      <td>0</td>\n",
              "      <td>0</td>\n",
              "      <td>0.000000</td>\n",
              "      <td>0.000000</td>\n",
              "      <td>5.428167</td>\n",
              "      <td>0.904695</td>\n",
              "      <td>1.473794e+06</td>\n",
              "      <td>2.552043e+06</td>\n",
              "      <td>4420639</td>\n",
              "      <td>340</td>\n",
              "      <td>4421382</td>\n",
              "      <td>1473794.0</td>\n",
              "      <td>2.552043e+06</td>\n",
              "      <td>4420639</td>\n",
              "      <td>340</td>\n",
              "      <td>0</td>\n",
              "      <td>0.0000</td>\n",
              "      <td>0.0000</td>\n",
              "      <td>0</td>\n",
              "      <td>0</td>\n",
              "      <td>0</td>\n",
              "      <td>0</td>\n",
              "      <td>0</td>\n",
              "      <td>0</td>\n",
              "      <td>80</td>\n",
              "      <td>0</td>\n",
              "      <td>0.904695</td>\n",
              "      <td>0.000000</td>\n",
              "      <td>6</td>\n",
              "      <td>6</td>\n",
              "      <td>6.000000</td>\n",
              "      <td>0.000000</td>\n",
              "      <td>0.000</td>\n",
              "      <td>0</td>\n",
              "      <td>0</td>\n",
              "      <td>0</td>\n",
              "      <td>0</td>\n",
              "      <td>1</td>\n",
              "      <td>0</td>\n",
              "      <td>0</td>\n",
              "      <td>0</td>\n",
              "      <td>0</td>\n",
              "      <td>7.500000</td>\n",
              "      <td>6.000000</td>\n",
              "      <td>0.000000</td>\n",
              "      <td>80</td>\n",
              "      <td>0</td>\n",
              "      <td>0</td>\n",
              "      <td>0</td>\n",
              "      <td>0</td>\n",
              "      <td>0</td>\n",
              "      <td>0</td>\n",
              "      <td>4</td>\n",
              "      <td>24</td>\n",
              "      <td>0</td>\n",
              "      <td>0</td>\n",
              "      <td>256</td>\n",
              "      <td>-1</td>\n",
              "      <td>3</td>\n",
              "      <td>20</td>\n",
              "      <td>0.0</td>\n",
              "      <td>0.0</td>\n",
              "      <td>0</td>\n",
              "      <td>0</td>\n",
              "      <td>0.0</td>\n",
              "      <td>0.0</td>\n",
              "      <td>0</td>\n",
              "      <td>0</td>\n",
              "      <td>0</td>\n",
              "    </tr>\n",
              "    <tr>\n",
              "      <th>18885</th>\n",
              "      <td>80</td>\n",
              "      <td>1083538</td>\n",
              "      <td>3</td>\n",
              "      <td>6</td>\n",
              "      <td>26</td>\n",
              "      <td>11601</td>\n",
              "      <td>20</td>\n",
              "      <td>0</td>\n",
              "      <td>8.666667</td>\n",
              "      <td>10.263203</td>\n",
              "      <td>4380</td>\n",
              "      <td>0</td>\n",
              "      <td>1933.500000</td>\n",
              "      <td>1757.789948</td>\n",
              "      <td>10730.588130</td>\n",
              "      <td>8.306123</td>\n",
              "      <td>1.354422e+05</td>\n",
              "      <td>3.777253e+05</td>\n",
              "      <td>1070206</td>\n",
              "      <td>41</td>\n",
              "      <td>12982</td>\n",
              "      <td>6491.0</td>\n",
              "      <td>8.165669e+03</td>\n",
              "      <td>12265</td>\n",
              "      <td>717</td>\n",
              "      <td>1083407</td>\n",
              "      <td>216681.4000</td>\n",
              "      <td>477167.0977</td>\n",
              "      <td>1070206</td>\n",
              "      <td>41</td>\n",
              "      <td>0</td>\n",
              "      <td>0</td>\n",
              "      <td>0</td>\n",
              "      <td>0</td>\n",
              "      <td>72</td>\n",
              "      <td>132</td>\n",
              "      <td>2.768708</td>\n",
              "      <td>5.537415</td>\n",
              "      <td>0</td>\n",
              "      <td>4380</td>\n",
              "      <td>1162.700000</td>\n",
              "      <td>1645.241762</td>\n",
              "      <td>2706820.456</td>\n",
              "      <td>0</td>\n",
              "      <td>0</td>\n",
              "      <td>0</td>\n",
              "      <td>1</td>\n",
              "      <td>0</td>\n",
              "      <td>0</td>\n",
              "      <td>0</td>\n",
              "      <td>0</td>\n",
              "      <td>2</td>\n",
              "      <td>1291.888889</td>\n",
              "      <td>8.666667</td>\n",
              "      <td>1933.500000</td>\n",
              "      <td>72</td>\n",
              "      <td>0</td>\n",
              "      <td>0</td>\n",
              "      <td>0</td>\n",
              "      <td>0</td>\n",
              "      <td>0</td>\n",
              "      <td>0</td>\n",
              "      <td>3</td>\n",
              "      <td>26</td>\n",
              "      <td>6</td>\n",
              "      <td>11601</td>\n",
              "      <td>8192</td>\n",
              "      <td>229</td>\n",
              "      <td>2</td>\n",
              "      <td>20</td>\n",
              "      <td>0.0</td>\n",
              "      <td>0.0</td>\n",
              "      <td>0</td>\n",
              "      <td>0</td>\n",
              "      <td>0.0</td>\n",
              "      <td>0.0</td>\n",
              "      <td>0</td>\n",
              "      <td>0</td>\n",
              "      <td>0</td>\n",
              "    </tr>\n",
              "    <tr>\n",
              "      <th>18886</th>\n",
              "      <td>80</td>\n",
              "      <td>80034360</td>\n",
              "      <td>8</td>\n",
              "      <td>4</td>\n",
              "      <td>56</td>\n",
              "      <td>11601</td>\n",
              "      <td>20</td>\n",
              "      <td>0</td>\n",
              "      <td>7.000000</td>\n",
              "      <td>5.656854</td>\n",
              "      <td>8760</td>\n",
              "      <td>0</td>\n",
              "      <td>2900.250000</td>\n",
              "      <td>4128.319301</td>\n",
              "      <td>145.649943</td>\n",
              "      <td>0.149936</td>\n",
              "      <td>7.275851e+06</td>\n",
              "      <td>2.110000e+07</td>\n",
              "      <td>70600000</td>\n",
              "      <td>6</td>\n",
              "      <td>78700000</td>\n",
              "      <td>11200000.0</td>\n",
              "      <td>2.630000e+07</td>\n",
              "      <td>70600000</td>\n",
              "      <td>247</td>\n",
              "      <td>1354806</td>\n",
              "      <td>451602.0000</td>\n",
              "      <td>777575.2592</td>\n",
              "      <td>1349464</td>\n",
              "      <td>190</td>\n",
              "      <td>0</td>\n",
              "      <td>0</td>\n",
              "      <td>0</td>\n",
              "      <td>0</td>\n",
              "      <td>172</td>\n",
              "      <td>92</td>\n",
              "      <td>0.099957</td>\n",
              "      <td>0.049979</td>\n",
              "      <td>0</td>\n",
              "      <td>8760</td>\n",
              "      <td>897.153846</td>\n",
              "      <td>2488.507044</td>\n",
              "      <td>6192667.308</td>\n",
              "      <td>0</td>\n",
              "      <td>0</td>\n",
              "      <td>0</td>\n",
              "      <td>0</td>\n",
              "      <td>1</td>\n",
              "      <td>0</td>\n",
              "      <td>0</td>\n",
              "      <td>0</td>\n",
              "      <td>0</td>\n",
              "      <td>971.916667</td>\n",
              "      <td>7.000000</td>\n",
              "      <td>2900.250000</td>\n",
              "      <td>172</td>\n",
              "      <td>0</td>\n",
              "      <td>0</td>\n",
              "      <td>0</td>\n",
              "      <td>0</td>\n",
              "      <td>0</td>\n",
              "      <td>0</td>\n",
              "      <td>8</td>\n",
              "      <td>56</td>\n",
              "      <td>4</td>\n",
              "      <td>11601</td>\n",
              "      <td>256</td>\n",
              "      <td>229</td>\n",
              "      <td>6</td>\n",
              "      <td>20</td>\n",
              "      <td>939.0</td>\n",
              "      <td>0.0</td>\n",
              "      <td>939</td>\n",
              "      <td>939</td>\n",
              "      <td>39300000.0</td>\n",
              "      <td>44200000.0</td>\n",
              "      <td>70600000</td>\n",
              "      <td>8072664</td>\n",
              "      <td>0</td>\n",
              "    </tr>\n",
              "    <tr>\n",
              "      <th>18887</th>\n",
              "      <td>80</td>\n",
              "      <td>642654</td>\n",
              "      <td>3</td>\n",
              "      <td>6</td>\n",
              "      <td>26</td>\n",
              "      <td>11607</td>\n",
              "      <td>20</td>\n",
              "      <td>0</td>\n",
              "      <td>8.666667</td>\n",
              "      <td>10.263203</td>\n",
              "      <td>5840</td>\n",
              "      <td>0</td>\n",
              "      <td>1934.500000</td>\n",
              "      <td>2538.919278</td>\n",
              "      <td>18101.497850</td>\n",
              "      <td>14.004425</td>\n",
              "      <td>8.033175e+04</td>\n",
              "      <td>2.268247e+05</td>\n",
              "      <td>641694</td>\n",
              "      <td>3</td>\n",
              "      <td>801</td>\n",
              "      <td>400.5</td>\n",
              "      <td>5.409367e+02</td>\n",
              "      <td>783</td>\n",
              "      <td>18</td>\n",
              "      <td>642493</td>\n",
              "      <td>128498.6000</td>\n",
              "      <td>286885.1169</td>\n",
              "      <td>641694</td>\n",
              "      <td>3</td>\n",
              "      <td>0</td>\n",
              "      <td>0</td>\n",
              "      <td>0</td>\n",
              "      <td>0</td>\n",
              "      <td>72</td>\n",
              "      <td>132</td>\n",
              "      <td>4.668142</td>\n",
              "      <td>9.336284</td>\n",
              "      <td>0</td>\n",
              "      <td>5840</td>\n",
              "      <td>1163.300000</td>\n",
              "      <td>2138.329153</td>\n",
              "      <td>4572451.567</td>\n",
              "      <td>0</td>\n",
              "      <td>0</td>\n",
              "      <td>0</td>\n",
              "      <td>1</td>\n",
              "      <td>0</td>\n",
              "      <td>0</td>\n",
              "      <td>0</td>\n",
              "      <td>0</td>\n",
              "      <td>2</td>\n",
              "      <td>1292.555556</td>\n",
              "      <td>8.666667</td>\n",
              "      <td>1934.500000</td>\n",
              "      <td>72</td>\n",
              "      <td>0</td>\n",
              "      <td>0</td>\n",
              "      <td>0</td>\n",
              "      <td>0</td>\n",
              "      <td>0</td>\n",
              "      <td>0</td>\n",
              "      <td>3</td>\n",
              "      <td>26</td>\n",
              "      <td>6</td>\n",
              "      <td>11607</td>\n",
              "      <td>8192</td>\n",
              "      <td>229</td>\n",
              "      <td>2</td>\n",
              "      <td>20</td>\n",
              "      <td>0.0</td>\n",
              "      <td>0.0</td>\n",
              "      <td>0</td>\n",
              "      <td>0</td>\n",
              "      <td>0.0</td>\n",
              "      <td>0.0</td>\n",
              "      <td>0</td>\n",
              "      <td>0</td>\n",
              "      <td>0</td>\n",
              "    </tr>\n",
              "  </tbody>\n",
              "</table>\n",
              "</div>"
            ]
          },
          "metadata": {},
          "execution_count": 46
        }
      ]
    },
    {
      "cell_type": "markdown",
      "source": [
        "## ⚒ Pretraitement"
      ],
      "metadata": {
        "id": "V5-EspG6osje"
      }
    },
    {
      "cell_type": "code",
      "source": [
        "from itertools import combinations\n",
        "\n",
        "def data_cleaning(df):\n",
        "      df.columns=df.columns.str.strip()\n",
        "      print(\"Dataset Shape: \",df.shape)\n",
        "\n",
        "      num=df._get_numeric_data()\n",
        "      num[num<0]=0\n",
        "\n",
        "      zero_variance_cols=[]               # identify and delete columns in a DataFrame (df) that have zero variance (all values are the same)\n",
        "      for col in df.columns:\n",
        "          if len(df[col].unique()) == 1:\n",
        "            zero_variance_cols.append(col)\n",
        "      df.drop(columns=zero_variance_cols, axis=1, inplace=True)\n",
        "      print(\"Zero Variance Columns: \", zero_variance_cols, \"are dropped.\")\n",
        "      print(\"Shape after removing the zero varaince columns: \",df.shape)\n",
        "\n",
        "      df.replace([np.inf,-np.inf],np.nan,inplace=True)\n",
        "      print(df.isna().any(axis=1).sum(),\"rows dropped\")\n",
        "      df.dropna(inplace=True)\n",
        "      print(\"Shape after Removing NaN: \",df.shape)\n",
        "\n",
        "      df.drop_duplicates(inplace=True)\n",
        "      print(\"Shape after dropping duplicates: \",df.shape)\n",
        "\n",
        "      column_pairs = [(i,j) for i,j in combinations(df,2) if df[i].equals(df[j])]\n",
        "      ide_cols=[]\n",
        "      for col_pair in column_pairs:\n",
        "          ide_cols.append(col_pair[1])\n",
        "      df.drop(columns=ide_cols,axis=1,inplace=True)\n",
        "      print(\"Columns which have identical values: \",column_pairs,\" dropped!\")\n",
        "      print(\"Shape after removing identical value columns: \",df.shape)\n",
        "\n",
        "      return df\n",
        "\n",
        "df=data_cleaning(df)"
      ],
      "metadata": {
        "colab": {
          "base_uri": "https://localhost:8080/"
        },
        "id": "Nmd24A5Evg95",
        "outputId": "7ab3bb9f-3d7e-44fe-c3c9-aa4e9c0c6ce6"
      },
      "execution_count": null,
      "outputs": [
        {
          "output_type": "stream",
          "name": "stdout",
          "text": [
            "Dataset Shape:  (2522362, 79)\n",
            "Zero Variance Columns:  ['Bwd PSH Flags', 'Bwd URG Flags', 'Fwd Avg Bytes/Bulk', 'Fwd Avg Packets/Bulk', 'Fwd Avg Bulk Rate', 'Bwd Avg Bytes/Bulk', 'Bwd Avg Packets/Bulk', 'Bwd Avg Bulk Rate'] are dropped.\n",
            "Shape after removing the zero varaince columns:  (2522362, 71)\n",
            "1564 rows dropped\n",
            "Shape after Removing NaN:  (2520798, 71)\n",
            "Shape after dropping duplicates:  (2520798, 71)\n",
            "Columns which have identical values:  [('Total Fwd Packets', 'Subflow Fwd Packets'), ('Total Backward Packets', 'Subflow Bwd Packets'), ('Fwd PSH Flags', 'SYN Flag Count'), ('Fwd URG Flags', 'CWE Flag Count'), ('Fwd Header Length', 'Fwd Header Length.1')]  dropped!\n",
            "Shape after removing identical value columns:  (2520798, 66)\n"
          ]
        }
      ]
    },
    {
      "cell_type": "code",
      "source": [
        "# from itertools import combinations\n",
        "# column_pairs = [(i,j) for i,j in combinations(df,2) if df[i].equals(df[j])]\n",
        "# ide_cols=[]\n",
        "# for col_pair in column_pairs:\n",
        "#     ide_cols.append(col_pair[1])\n",
        "# df.drop(columns=ide_cols,axis=1,inplace=True)\n",
        "# print(\"Columns which have identical values: \",column_pairs,\" dropped!\")\n",
        "# print(\"Shape after removing identical value columns: \",df.shape)"
      ],
      "metadata": {
        "id": "sxX2w9Pt2MBE"
      },
      "execution_count": null,
      "outputs": []
    },
    {
      "cell_type": "code",
      "source": [
        "# df.info()"
      ],
      "metadata": {
        "id": "nguGyk9iCxGj"
      },
      "execution_count": null,
      "outputs": []
    },
    {
      "cell_type": "code",
      "source": [
        "# List of columns to drop\n",
        "columns_to_drop= [ ' CWE Flag Count',' Avg Fwd Segment Size', ' Avg Bwd Segment Size',\n",
        "                   'Fwd Avg Bytes/Bulk', ' Fwd Avg Packets/Bulk',\n",
        "                   ' Fwd Avg Bulk Rate', ' Bwd Avg Bytes/Bulk', ' Bwd Avg Packets/Bulk',\n",
        "                   'Bwd Avg Bulk Rate', 'Subflow Fwd Packets', ' Subflow Fwd Bytes',\n",
        "                   ' Subflow Bwd Packets', ' Subflow Bwd Bytes' ,\n",
        "                     ]\n",
        "\n",
        "existing_columns = [col for col in columns_to_drop if col in df.columns]\n",
        "\n",
        "# Dropping specified columns from the DataFrame\n",
        "pd.df = df.drop(existing_columns, axis=1)\n",
        "dropped_columns = list(set(existing_columns))  # Find the columns that were dropped\n",
        "\n",
        "# Displaying dropped columns\n",
        "print(\"Columns dropped:\")\n",
        "for col in dropped_columns:\n",
        "    print(col)\n",
        "\n",
        "# df.tail()"
      ],
      "metadata": {
        "id": "5ysSUr8n_AfG",
        "colab": {
          "base_uri": "https://localhost:8080/"
        },
        "outputId": "a0a4caac-e490-49c5-da36-ca7f9b6d808e"
      },
      "execution_count": null,
      "outputs": [
        {
          "output_type": "stream",
          "name": "stdout",
          "text": [
            "Columns dropped:\n"
          ]
        }
      ]
    },
    {
      "cell_type": "code",
      "source": [
        "df.drop(['Avg Fwd Segment Size' , 'Avg Bwd Segment Size', 'Subflow Fwd Bytes',\n",
        "                   'Subflow Bwd Bytes' , 'act_data_pkt_fwd', 'min_seg_size_forward' ] , axis = 1 , inplace=True)"
      ],
      "metadata": {
        "id": "TgwqvAq_KloM"
      },
      "execution_count": null,
      "outputs": []
    },
    {
      "cell_type": "code",
      "source": [
        "df.info()"
      ],
      "metadata": {
        "colab": {
          "base_uri": "https://localhost:8080/"
        },
        "id": "Pdf39xT5LmiB",
        "outputId": "681d6a5a-6c2e-4676-905e-62b78077ea5e"
      },
      "execution_count": null,
      "outputs": [
        {
          "output_type": "stream",
          "name": "stdout",
          "text": [
            "<class 'pandas.core.frame.DataFrame'>\n",
            "Index: 2520798 entries, 0 to 692702\n",
            "Data columns (total 60 columns):\n",
            " #   Column                       Dtype  \n",
            "---  ------                       -----  \n",
            " 0   Destination Port             int64  \n",
            " 1   Flow Duration                int64  \n",
            " 2   Total Fwd Packets            int64  \n",
            " 3   Total Backward Packets       int64  \n",
            " 4   Total Length of Fwd Packets  int64  \n",
            " 5   Total Length of Bwd Packets  int64  \n",
            " 6   Fwd Packet Length Max        int64  \n",
            " 7   Fwd Packet Length Min        int64  \n",
            " 8   Fwd Packet Length Mean       float64\n",
            " 9   Fwd Packet Length Std        float64\n",
            " 10  Bwd Packet Length Max        int64  \n",
            " 11  Bwd Packet Length Min        int64  \n",
            " 12  Bwd Packet Length Mean       float64\n",
            " 13  Bwd Packet Length Std        float64\n",
            " 14  Flow Bytes/s                 float64\n",
            " 15  Flow Packets/s               float64\n",
            " 16  Flow IAT Mean                float64\n",
            " 17  Flow IAT Std                 float64\n",
            " 18  Flow IAT Max                 int64  \n",
            " 19  Flow IAT Min                 int64  \n",
            " 20  Fwd IAT Total                int64  \n",
            " 21  Fwd IAT Mean                 float64\n",
            " 22  Fwd IAT Std                  float64\n",
            " 23  Fwd IAT Max                  int64  \n",
            " 24  Fwd IAT Min                  int64  \n",
            " 25  Bwd IAT Total                int64  \n",
            " 26  Bwd IAT Mean                 float64\n",
            " 27  Bwd IAT Std                  float64\n",
            " 28  Bwd IAT Max                  int64  \n",
            " 29  Bwd IAT Min                  int64  \n",
            " 30  Fwd PSH Flags                int64  \n",
            " 31  Fwd URG Flags                int64  \n",
            " 32  Fwd Header Length            int64  \n",
            " 33  Bwd Header Length            int64  \n",
            " 34  Fwd Packets/s                float64\n",
            " 35  Bwd Packets/s                float64\n",
            " 36  Min Packet Length            int64  \n",
            " 37  Max Packet Length            int64  \n",
            " 38  Packet Length Mean           float64\n",
            " 39  Packet Length Std            float64\n",
            " 40  Packet Length Variance       float64\n",
            " 41  FIN Flag Count               int64  \n",
            " 42  RST Flag Count               int64  \n",
            " 43  PSH Flag Count               int64  \n",
            " 44  ACK Flag Count               int64  \n",
            " 45  URG Flag Count               int64  \n",
            " 46  ECE Flag Count               int64  \n",
            " 47  Down/Up Ratio                int64  \n",
            " 48  Average Packet Size          float64\n",
            " 49  Init_Win_bytes_forward       int64  \n",
            " 50  Init_Win_bytes_backward      int64  \n",
            " 51  Active Mean                  float64\n",
            " 52  Active Std                   float64\n",
            " 53  Active Max                   int64  \n",
            " 54  Active Min                   int64  \n",
            " 55  Idle Mean                    float64\n",
            " 56  Idle Std                     float64\n",
            " 57  Idle Max                     int64  \n",
            " 58  Idle Min                     int64  \n",
            " 59  Label                        int32  \n",
            "dtypes: float64(22), int32(1), int64(37)\n",
            "memory usage: 1.1 GB\n"
          ]
        }
      ]
    },
    {
      "cell_type": "code",
      "source": [
        "df.isnull().sum().sort_values(ascending = False)"
      ],
      "metadata": {
        "id": "ScYZAqEEu2WQ",
        "colab": {
          "base_uri": "https://localhost:8080/"
        },
        "outputId": "896dc910-4f23-4b7a-f914-0d5fa52701ab"
      },
      "execution_count": null,
      "outputs": [
        {
          "output_type": "execute_result",
          "data": {
            "text/plain": [
              "Destination Port               0\n",
              "Flow Duration                  0\n",
              "Fwd Header Length              0\n",
              "Bwd Header Length              0\n",
              "Fwd Packets/s                  0\n",
              "Bwd Packets/s                  0\n",
              "Min Packet Length              0\n",
              "Max Packet Length              0\n",
              "Packet Length Mean             0\n",
              "Packet Length Std              0\n",
              "Packet Length Variance         0\n",
              "FIN Flag Count                 0\n",
              "RST Flag Count                 0\n",
              "PSH Flag Count                 0\n",
              "ACK Flag Count                 0\n",
              "URG Flag Count                 0\n",
              "ECE Flag Count                 0\n",
              "Down/Up Ratio                  0\n",
              "Average Packet Size            0\n",
              "Init_Win_bytes_forward         0\n",
              "Init_Win_bytes_backward        0\n",
              "Active Mean                    0\n",
              "Active Std                     0\n",
              "Active Max                     0\n",
              "Active Min                     0\n",
              "Idle Mean                      0\n",
              "Idle Std                       0\n",
              "Idle Max                       0\n",
              "Idle Min                       0\n",
              "Fwd URG Flags                  0\n",
              "Fwd PSH Flags                  0\n",
              "Bwd IAT Min                    0\n",
              "Flow Bytes/s                   0\n",
              "Total Fwd Packets              0\n",
              "Total Backward Packets         0\n",
              "Total Length of Fwd Packets    0\n",
              "Total Length of Bwd Packets    0\n",
              "Fwd Packet Length Max          0\n",
              "Fwd Packet Length Min          0\n",
              "Fwd Packet Length Mean         0\n",
              "Fwd Packet Length Std          0\n",
              "Bwd Packet Length Max          0\n",
              "Bwd Packet Length Min          0\n",
              "Bwd Packet Length Mean         0\n",
              "Bwd Packet Length Std          0\n",
              "Flow Packets/s                 0\n",
              "Bwd IAT Max                    0\n",
              "Flow IAT Mean                  0\n",
              "Flow IAT Std                   0\n",
              "Flow IAT Max                   0\n",
              "Flow IAT Min                   0\n",
              "Fwd IAT Total                  0\n",
              "Fwd IAT Mean                   0\n",
              "Fwd IAT Std                    0\n",
              "Fwd IAT Max                    0\n",
              "Fwd IAT Min                    0\n",
              "Bwd IAT Total                  0\n",
              "Bwd IAT Mean                   0\n",
              "Bwd IAT Std                    0\n",
              "Label                          0\n",
              "dtype: int64"
            ]
          },
          "metadata": {},
          "execution_count": 53
        }
      ]
    },
    {
      "cell_type": "code",
      "source": [
        "# Checking for large values.\n",
        "print(False in np.isfinite(df).values)"
      ],
      "metadata": {
        "id": "XZWeu8Mf00rA",
        "colab": {
          "base_uri": "https://localhost:8080/"
        },
        "outputId": "69f205c7-705a-455f-a65b-9693baf66ffd"
      },
      "execution_count": null,
      "outputs": [
        {
          "output_type": "stream",
          "name": "stdout",
          "text": [
            "False\n"
          ]
        }
      ]
    },
    {
      "cell_type": "code",
      "source": [
        "# Statistical description of the dataset.\n",
        "df.describe()"
      ],
      "metadata": {
        "id": "mFA1k-SH03jl",
        "colab": {
          "base_uri": "https://localhost:8080/",
          "height": 355
        },
        "outputId": "ec3b6341-f36f-49ae-8687-6b94c02f2996"
      },
      "execution_count": null,
      "outputs": [
        {
          "output_type": "execute_result",
          "data": {
            "text/plain": [
              "       Destination Port  Flow Duration  Total Fwd Packets  \\\n",
              "count      2.520798e+06   2.520798e+06       2.520798e+06   \n",
              "mean       8.690590e+03   1.659161e+07       1.028174e+01   \n",
              "std        1.901280e+04   3.523276e+07       7.944201e+02   \n",
              "min        0.000000e+00   0.000000e+00       1.000000e+00   \n",
              "25%        5.300000e+01   2.080000e+02       2.000000e+00   \n",
              "50%        8.000000e+01   5.062200e+04       2.000000e+00   \n",
              "75%        4.430000e+02   5.333340e+06       6.000000e+00   \n",
              "max        6.553500e+04   1.200000e+08       2.197590e+05   \n",
              "\n",
              "       Total Backward Packets  Total Length of Fwd Packets  \\\n",
              "count            2.520798e+06                 2.520798e+06   \n",
              "mean             1.157280e+01                 6.119477e+02   \n",
              "std              1.056922e+03                 1.058827e+04   \n",
              "min              0.000000e+00                 0.000000e+00   \n",
              "25%              1.000000e+00                 1.200000e+01   \n",
              "50%              2.000000e+00                 6.600000e+01   \n",
              "75%              5.000000e+00                 3.320000e+02   \n",
              "max              2.919220e+05                 1.290000e+07   \n",
              "\n",
              "       Total Length of Bwd Packets  Fwd Packet Length Max  \\\n",
              "count                 2.520798e+06           2.520798e+06   \n",
              "mean                  1.814440e+04           2.312292e+02   \n",
              "std                   2.398177e+06           7.563755e+02   \n",
              "min                   0.000000e+00           0.000000e+00   \n",
              "25%                   6.000000e+00           6.000000e+00   \n",
              "50%                   1.560000e+02           4.000000e+01   \n",
              "75%                   9.970000e+02           2.020000e+02   \n",
              "max                   6.554530e+08           2.482000e+04   \n",
              "\n",
              "       Fwd Packet Length Min  Fwd Packet Length Mean  Fwd Packet Length Std  \\\n",
              "count           2.520798e+06            2.520798e+06           2.520798e+06   \n",
              "mean            1.920349e+01            6.350497e+01           7.732347e+01   \n",
              "std             6.079834e+01            1.955526e+02           2.968814e+02   \n",
              "min             0.000000e+00            0.000000e+00           0.000000e+00   \n",
              "25%             0.000000e+00            6.000000e+00           0.000000e+00   \n",
              "50%             2.000000e+00            3.625000e+01           0.000000e+00   \n",
              "75%             3.700000e+01            5.200000e+01           7.419280e+01   \n",
              "max             2.325000e+03            5.940857e+03           7.125597e+03   \n",
              "\n",
              "       Bwd Packet Length Max  Bwd Packet Length Min  Bwd Packet Length Mean  \\\n",
              "count           2.520798e+06           2.520798e+06            2.520798e+06   \n",
              "mean            9.749726e+02           4.315945e+01            3.406225e+02   \n",
              "std             2.038347e+03           7.087972e+01            6.325636e+02   \n",
              "min             0.000000e+00           0.000000e+00            0.000000e+00   \n",
              "25%             6.000000e+00           0.000000e+00            6.000000e+00   \n",
              "50%             9.700000e+01           0.000000e+00            8.850000e+01   \n",
              "75%             7.460000e+02           8.200000e+01            2.182632e+02   \n",
              "max             1.953000e+04           2.896000e+03            5.800500e+03   \n",
              "\n",
              "       Bwd Packet Length Std  Flow Bytes/s  Flow Packets/s  Flow IAT Mean  \\\n",
              "count           2.520798e+06  2.520798e+06    2.520798e+06   2.520798e+06   \n",
              "mean            3.765453e+02  1.411175e+06    4.737320e+04   1.446142e+06   \n",
              "std             8.810547e+02  2.656997e+07    2.022194e+05   4.683197e+06   \n",
              "min             0.000000e+00  0.000000e+00    0.000000e+00   0.000000e+00   \n",
              "25%             0.000000e+00  1.194308e+02    2.023326e+00   8.300000e+01   \n",
              "50%             0.000000e+00  3.715038e+03    6.974224e+01   2.044067e+04   \n",
              "75%             2.644106e+02  1.071429e+05    1.785714e+04   5.576706e+05   \n",
              "max             8.194660e+03  2.071000e+09    4.000000e+06   1.200000e+08   \n",
              "\n",
              "       Flow IAT Std  Flow IAT Max  Flow IAT Min  Fwd IAT Total  Fwd IAT Mean  \\\n",
              "count  2.520798e+06  2.520798e+06  2.520798e+06   2.520798e+06  2.520798e+06   \n",
              "mean   3.278153e+06  1.029948e+07  1.704214e+05   1.625184e+07  2.919257e+06   \n",
              "std    8.456754e+06  2.568537e+07  3.014304e+06   3.516638e+07  1.001639e+07   \n",
              "min    0.000000e+00  0.000000e+00  0.000000e+00   0.000000e+00  0.000000e+00   \n",
              "25%    0.000000e+00  1.760000e+02  3.000000e+00   1.000000e+00  1.000000e+00   \n",
              "50%    1.239435e+04  4.654050e+04  4.000000e+00   4.900000e+01  4.900000e+01   \n",
              "75%    1.492018e+06  4.999655e+06  6.900000e+01   5.039350e+06  7.383423e+05   \n",
              "max    8.480026e+07  1.200000e+08  1.200000e+08   1.200000e+08  1.200000e+08   \n",
              "\n",
              "        Fwd IAT Std   Fwd IAT Max   Fwd IAT Min  Bwd IAT Total  Bwd IAT Mean  \\\n",
              "count  2.520798e+06  2.520798e+06  2.520798e+06   2.520798e+06  2.520798e+06   \n",
              "mean   3.668641e+06  1.014294e+07  1.135671e+06   1.111025e+07  2.027734e+06   \n",
              "std    1.014208e+07  2.576650e+07  9.059498e+06   3.022924e+07  9.393386e+06   \n",
              "min    0.000000e+00  0.000000e+00  0.000000e+00   0.000000e+00  0.000000e+00   \n",
              "25%    0.000000e+00  1.000000e+00  0.000000e+00   0.000000e+00  0.000000e+00   \n",
              "50%    0.000000e+00  4.900000e+01  3.000000e+00   3.000000e+00  3.000000e+00   \n",
              "75%    5.718941e+05  4.216112e+06  4.900000e+01   1.504670e+05  2.969500e+04   \n",
              "max    8.460293e+07  1.200000e+08  1.200000e+08   1.200000e+08  1.200000e+08   \n",
              "\n",
              "        Bwd IAT Std   Bwd IAT Max   Bwd IAT Min  Fwd PSH Flags  Fwd URG Flags  \\\n",
              "count  2.520798e+06  2.520798e+06  2.520798e+06   2.520798e+06   2.520798e+06   \n",
              "mean   1.668681e+06  5.260619e+06  1.086111e+06   4.866832e-02   3.173598e-05   \n",
              "std    6.630315e+06  1.810168e+07  8.797215e+06   2.151737e-01   5.633382e-03   \n",
              "min    0.000000e+00  0.000000e+00  0.000000e+00   0.000000e+00   0.000000e+00   \n",
              "25%    0.000000e+00  0.000000e+00  0.000000e+00   0.000000e+00   0.000000e+00   \n",
              "50%    0.000000e+00  3.000000e+00  3.000000e+00   0.000000e+00   0.000000e+00   \n",
              "75%    2.917766e+04  1.215048e+05  4.700000e+01   0.000000e+00   0.000000e+00   \n",
              "max    8.441801e+07  1.200000e+08  1.200000e+08   1.000000e+00   1.000000e+00   \n",
              "\n",
              "       Fwd Header Length  Bwd Header Length  Fwd Packets/s  Bwd Packets/s  \\\n",
              "count       2.520798e+06       2.520798e+06   2.520798e+06   2.520798e+06   \n",
              "mean        2.503860e+02       2.733500e+02   4.085969e+04   6.513513e+03   \n",
              "std         1.660853e+04       2.117853e+04   1.932655e+05   3.814460e+04   \n",
              "min         0.000000e+00       0.000000e+00   0.000000e+00   0.000000e+00   \n",
              "25%         4.000000e+01       2.000000e+01   1.218008e+00   1.682916e-01   \n",
              "50%         6.400000e+01       4.000000e+01   3.803188e+01   1.922473e+01   \n",
              "75%         1.440000e+02       1.320000e+02   9.433962e+03   2.094241e+03   \n",
              "max         4.644908e+06       5.838440e+06   3.000000e+06   2.000000e+06   \n",
              "\n",
              "       Min Packet Length  Max Packet Length  Packet Length Mean  \\\n",
              "count       2.520798e+06       2.520798e+06        2.520798e+06   \n",
              "mean        1.683200e+01       1.063750e+03        1.906548e+02   \n",
              "std         2.558415e+01       2.121693e+03        3.183562e+02   \n",
              "min         0.000000e+00       0.000000e+00        0.000000e+00   \n",
              "25%         0.000000e+00       6.000000e+00        6.000000e+00   \n",
              "50%         2.000000e+00       1.020000e+02        6.360000e+01   \n",
              "75%         3.700000e+01       1.118000e+03        1.557500e+02   \n",
              "max         1.448000e+03       2.482000e+04        3.337143e+03   \n",
              "\n",
              "       Packet Length Std  Packet Length Variance  FIN Flag Count  \\\n",
              "count       2.520798e+06            2.520798e+06    2.520798e+06   \n",
              "mean        3.302006e+02            5.457761e+05    3.209539e-02   \n",
              "std         6.608889e+02            1.736478e+06    1.762535e-01   \n",
              "min         0.000000e+00            0.000000e+00    0.000000e+00   \n",
              "25%         2.309401e+00            5.333333e+00    0.000000e+00   \n",
              "50%         3.233162e+01            1.045333e+03    0.000000e+00   \n",
              "75%         3.227910e+02            1.041940e+05    0.000000e+00   \n",
              "max         4.731522e+03            2.240000e+07    1.000000e+00   \n",
              "\n",
              "       RST Flag Count  PSH Flag Count  ACK Flag Count  URG Flag Count  \\\n",
              "count    2.520798e+06    2.520798e+06    2.520798e+06    2.520798e+06   \n",
              "mean     2.721360e-04    2.976085e-01    3.118723e-01    1.013929e-01   \n",
              "std      1.649430e-02    4.572065e-01    4.632581e-01    3.018483e-01   \n",
              "min      0.000000e+00    0.000000e+00    0.000000e+00    0.000000e+00   \n",
              "25%      0.000000e+00    0.000000e+00    0.000000e+00    0.000000e+00   \n",
              "50%      0.000000e+00    0.000000e+00    0.000000e+00    0.000000e+00   \n",
              "75%      0.000000e+00    1.000000e+00    1.000000e+00    0.000000e+00   \n",
              "max      1.000000e+00    1.000000e+00    1.000000e+00    1.000000e+00   \n",
              "\n",
              "       ECE Flag Count  Down/Up Ratio  Average Packet Size  \\\n",
              "count    2.520798e+06   2.520798e+06         2.520798e+06   \n",
              "mean     2.733261e-04   7.004476e-01         2.124358e+02   \n",
              "std      1.653032e-02   6.956600e-01         3.455032e+02   \n",
              "min      0.000000e+00   0.000000e+00         0.000000e+00   \n",
              "25%      0.000000e+00   0.000000e+00         9.000000e+00   \n",
              "50%      0.000000e+00   1.000000e+00         8.100000e+01   \n",
              "75%      0.000000e+00   1.000000e+00         1.799272e+02   \n",
              "max      1.000000e+00   1.560000e+02         3.893333e+03   \n",
              "\n",
              "       Init_Win_bytes_forward  Init_Win_bytes_backward   Active Mean  \\\n",
              "count            2.520798e+06             2.520798e+06  2.520798e+06   \n",
              "mean             7.265976e+03             2.229208e+03  9.157847e+04   \n",
              "std              1.459777e+04             8.924281e+03  6.866503e+05   \n",
              "min              0.000000e+00             0.000000e+00  0.000000e+00   \n",
              "25%              0.000000e+00             0.000000e+00  0.000000e+00   \n",
              "50%              2.510000e+02             0.000000e+00  0.000000e+00   \n",
              "75%              8.192000e+03             2.350000e+02  0.000000e+00   \n",
              "max              6.553500e+04             6.553500e+04  1.100000e+08   \n",
              "\n",
              "         Active Std    Active Max    Active Min     Idle Mean      Idle Std  \\\n",
              "count  2.520798e+06  2.520798e+06  2.520798e+06  2.520798e+06  2.520798e+06   \n",
              "mean   4.619177e+04  1.720171e+05  6.546359e+04  9.337367e+06  5.657941e+05   \n",
              "std    4.165844e+05  1.085571e+06  6.111585e+05  2.484818e+07  4.874169e+06   \n",
              "min    0.000000e+00  0.000000e+00  0.000000e+00  0.000000e+00  0.000000e+00   \n",
              "25%    0.000000e+00  0.000000e+00  0.000000e+00  0.000000e+00  0.000000e+00   \n",
              "50%    0.000000e+00  0.000000e+00  0.000000e+00  0.000000e+00  0.000000e+00   \n",
              "75%    0.000000e+00  0.000000e+00  0.000000e+00  0.000000e+00  0.000000e+00   \n",
              "max    7.420000e+07  1.100000e+08  1.100000e+08  1.200000e+08  7.690000e+07   \n",
              "\n",
              "           Idle Max      Idle Min         Label  \n",
              "count  2.520798e+06  2.520798e+06  2.520798e+06  \n",
              "mean   9.763770e+06  8.892671e+06  8.311086e-01  \n",
              "std    2.561746e+07  2.458143e+07  3.746560e-01  \n",
              "min    0.000000e+00  0.000000e+00  0.000000e+00  \n",
              "25%    0.000000e+00  0.000000e+00  1.000000e+00  \n",
              "50%    0.000000e+00  0.000000e+00  1.000000e+00  \n",
              "75%    0.000000e+00  0.000000e+00  1.000000e+00  \n",
              "max    1.200000e+08  1.200000e+08  1.000000e+00  "
            ],
            "text/html": [
              "<div>\n",
              "<style scoped>\n",
              "    .dataframe tbody tr th:only-of-type {\n",
              "        vertical-align: middle;\n",
              "    }\n",
              "\n",
              "    .dataframe tbody tr th {\n",
              "        vertical-align: top;\n",
              "    }\n",
              "\n",
              "    .dataframe thead th {\n",
              "        text-align: right;\n",
              "    }\n",
              "</style>\n",
              "<table border=\"1\" class=\"dataframe\">\n",
              "  <thead>\n",
              "    <tr style=\"text-align: right;\">\n",
              "      <th></th>\n",
              "      <th>Destination Port</th>\n",
              "      <th>Flow Duration</th>\n",
              "      <th>Total Fwd Packets</th>\n",
              "      <th>Total Backward Packets</th>\n",
              "      <th>Total Length of Fwd Packets</th>\n",
              "      <th>Total Length of Bwd Packets</th>\n",
              "      <th>Fwd Packet Length Max</th>\n",
              "      <th>Fwd Packet Length Min</th>\n",
              "      <th>Fwd Packet Length Mean</th>\n",
              "      <th>Fwd Packet Length Std</th>\n",
              "      <th>Bwd Packet Length Max</th>\n",
              "      <th>Bwd Packet Length Min</th>\n",
              "      <th>Bwd Packet Length Mean</th>\n",
              "      <th>Bwd Packet Length Std</th>\n",
              "      <th>Flow Bytes/s</th>\n",
              "      <th>Flow Packets/s</th>\n",
              "      <th>Flow IAT Mean</th>\n",
              "      <th>Flow IAT Std</th>\n",
              "      <th>Flow IAT Max</th>\n",
              "      <th>Flow IAT Min</th>\n",
              "      <th>Fwd IAT Total</th>\n",
              "      <th>Fwd IAT Mean</th>\n",
              "      <th>Fwd IAT Std</th>\n",
              "      <th>Fwd IAT Max</th>\n",
              "      <th>Fwd IAT Min</th>\n",
              "      <th>Bwd IAT Total</th>\n",
              "      <th>Bwd IAT Mean</th>\n",
              "      <th>Bwd IAT Std</th>\n",
              "      <th>Bwd IAT Max</th>\n",
              "      <th>Bwd IAT Min</th>\n",
              "      <th>Fwd PSH Flags</th>\n",
              "      <th>Fwd URG Flags</th>\n",
              "      <th>Fwd Header Length</th>\n",
              "      <th>Bwd Header Length</th>\n",
              "      <th>Fwd Packets/s</th>\n",
              "      <th>Bwd Packets/s</th>\n",
              "      <th>Min Packet Length</th>\n",
              "      <th>Max Packet Length</th>\n",
              "      <th>Packet Length Mean</th>\n",
              "      <th>Packet Length Std</th>\n",
              "      <th>Packet Length Variance</th>\n",
              "      <th>FIN Flag Count</th>\n",
              "      <th>RST Flag Count</th>\n",
              "      <th>PSH Flag Count</th>\n",
              "      <th>ACK Flag Count</th>\n",
              "      <th>URG Flag Count</th>\n",
              "      <th>ECE Flag Count</th>\n",
              "      <th>Down/Up Ratio</th>\n",
              "      <th>Average Packet Size</th>\n",
              "      <th>Init_Win_bytes_forward</th>\n",
              "      <th>Init_Win_bytes_backward</th>\n",
              "      <th>Active Mean</th>\n",
              "      <th>Active Std</th>\n",
              "      <th>Active Max</th>\n",
              "      <th>Active Min</th>\n",
              "      <th>Idle Mean</th>\n",
              "      <th>Idle Std</th>\n",
              "      <th>Idle Max</th>\n",
              "      <th>Idle Min</th>\n",
              "      <th>Label</th>\n",
              "    </tr>\n",
              "  </thead>\n",
              "  <tbody>\n",
              "    <tr>\n",
              "      <th>count</th>\n",
              "      <td>2.520798e+06</td>\n",
              "      <td>2.520798e+06</td>\n",
              "      <td>2.520798e+06</td>\n",
              "      <td>2.520798e+06</td>\n",
              "      <td>2.520798e+06</td>\n",
              "      <td>2.520798e+06</td>\n",
              "      <td>2.520798e+06</td>\n",
              "      <td>2.520798e+06</td>\n",
              "      <td>2.520798e+06</td>\n",
              "      <td>2.520798e+06</td>\n",
              "      <td>2.520798e+06</td>\n",
              "      <td>2.520798e+06</td>\n",
              "      <td>2.520798e+06</td>\n",
              "      <td>2.520798e+06</td>\n",
              "      <td>2.520798e+06</td>\n",
              "      <td>2.520798e+06</td>\n",
              "      <td>2.520798e+06</td>\n",
              "      <td>2.520798e+06</td>\n",
              "      <td>2.520798e+06</td>\n",
              "      <td>2.520798e+06</td>\n",
              "      <td>2.520798e+06</td>\n",
              "      <td>2.520798e+06</td>\n",
              "      <td>2.520798e+06</td>\n",
              "      <td>2.520798e+06</td>\n",
              "      <td>2.520798e+06</td>\n",
              "      <td>2.520798e+06</td>\n",
              "      <td>2.520798e+06</td>\n",
              "      <td>2.520798e+06</td>\n",
              "      <td>2.520798e+06</td>\n",
              "      <td>2.520798e+06</td>\n",
              "      <td>2.520798e+06</td>\n",
              "      <td>2.520798e+06</td>\n",
              "      <td>2.520798e+06</td>\n",
              "      <td>2.520798e+06</td>\n",
              "      <td>2.520798e+06</td>\n",
              "      <td>2.520798e+06</td>\n",
              "      <td>2.520798e+06</td>\n",
              "      <td>2.520798e+06</td>\n",
              "      <td>2.520798e+06</td>\n",
              "      <td>2.520798e+06</td>\n",
              "      <td>2.520798e+06</td>\n",
              "      <td>2.520798e+06</td>\n",
              "      <td>2.520798e+06</td>\n",
              "      <td>2.520798e+06</td>\n",
              "      <td>2.520798e+06</td>\n",
              "      <td>2.520798e+06</td>\n",
              "      <td>2.520798e+06</td>\n",
              "      <td>2.520798e+06</td>\n",
              "      <td>2.520798e+06</td>\n",
              "      <td>2.520798e+06</td>\n",
              "      <td>2.520798e+06</td>\n",
              "      <td>2.520798e+06</td>\n",
              "      <td>2.520798e+06</td>\n",
              "      <td>2.520798e+06</td>\n",
              "      <td>2.520798e+06</td>\n",
              "      <td>2.520798e+06</td>\n",
              "      <td>2.520798e+06</td>\n",
              "      <td>2.520798e+06</td>\n",
              "      <td>2.520798e+06</td>\n",
              "      <td>2.520798e+06</td>\n",
              "    </tr>\n",
              "    <tr>\n",
              "      <th>mean</th>\n",
              "      <td>8.690590e+03</td>\n",
              "      <td>1.659161e+07</td>\n",
              "      <td>1.028174e+01</td>\n",
              "      <td>1.157280e+01</td>\n",
              "      <td>6.119477e+02</td>\n",
              "      <td>1.814440e+04</td>\n",
              "      <td>2.312292e+02</td>\n",
              "      <td>1.920349e+01</td>\n",
              "      <td>6.350497e+01</td>\n",
              "      <td>7.732347e+01</td>\n",
              "      <td>9.749726e+02</td>\n",
              "      <td>4.315945e+01</td>\n",
              "      <td>3.406225e+02</td>\n",
              "      <td>3.765453e+02</td>\n",
              "      <td>1.411175e+06</td>\n",
              "      <td>4.737320e+04</td>\n",
              "      <td>1.446142e+06</td>\n",
              "      <td>3.278153e+06</td>\n",
              "      <td>1.029948e+07</td>\n",
              "      <td>1.704214e+05</td>\n",
              "      <td>1.625184e+07</td>\n",
              "      <td>2.919257e+06</td>\n",
              "      <td>3.668641e+06</td>\n",
              "      <td>1.014294e+07</td>\n",
              "      <td>1.135671e+06</td>\n",
              "      <td>1.111025e+07</td>\n",
              "      <td>2.027734e+06</td>\n",
              "      <td>1.668681e+06</td>\n",
              "      <td>5.260619e+06</td>\n",
              "      <td>1.086111e+06</td>\n",
              "      <td>4.866832e-02</td>\n",
              "      <td>3.173598e-05</td>\n",
              "      <td>2.503860e+02</td>\n",
              "      <td>2.733500e+02</td>\n",
              "      <td>4.085969e+04</td>\n",
              "      <td>6.513513e+03</td>\n",
              "      <td>1.683200e+01</td>\n",
              "      <td>1.063750e+03</td>\n",
              "      <td>1.906548e+02</td>\n",
              "      <td>3.302006e+02</td>\n",
              "      <td>5.457761e+05</td>\n",
              "      <td>3.209539e-02</td>\n",
              "      <td>2.721360e-04</td>\n",
              "      <td>2.976085e-01</td>\n",
              "      <td>3.118723e-01</td>\n",
              "      <td>1.013929e-01</td>\n",
              "      <td>2.733261e-04</td>\n",
              "      <td>7.004476e-01</td>\n",
              "      <td>2.124358e+02</td>\n",
              "      <td>7.265976e+03</td>\n",
              "      <td>2.229208e+03</td>\n",
              "      <td>9.157847e+04</td>\n",
              "      <td>4.619177e+04</td>\n",
              "      <td>1.720171e+05</td>\n",
              "      <td>6.546359e+04</td>\n",
              "      <td>9.337367e+06</td>\n",
              "      <td>5.657941e+05</td>\n",
              "      <td>9.763770e+06</td>\n",
              "      <td>8.892671e+06</td>\n",
              "      <td>8.311086e-01</td>\n",
              "    </tr>\n",
              "    <tr>\n",
              "      <th>std</th>\n",
              "      <td>1.901280e+04</td>\n",
              "      <td>3.523276e+07</td>\n",
              "      <td>7.944201e+02</td>\n",
              "      <td>1.056922e+03</td>\n",
              "      <td>1.058827e+04</td>\n",
              "      <td>2.398177e+06</td>\n",
              "      <td>7.563755e+02</td>\n",
              "      <td>6.079834e+01</td>\n",
              "      <td>1.955526e+02</td>\n",
              "      <td>2.968814e+02</td>\n",
              "      <td>2.038347e+03</td>\n",
              "      <td>7.087972e+01</td>\n",
              "      <td>6.325636e+02</td>\n",
              "      <td>8.810547e+02</td>\n",
              "      <td>2.656997e+07</td>\n",
              "      <td>2.022194e+05</td>\n",
              "      <td>4.683197e+06</td>\n",
              "      <td>8.456754e+06</td>\n",
              "      <td>2.568537e+07</td>\n",
              "      <td>3.014304e+06</td>\n",
              "      <td>3.516638e+07</td>\n",
              "      <td>1.001639e+07</td>\n",
              "      <td>1.014208e+07</td>\n",
              "      <td>2.576650e+07</td>\n",
              "      <td>9.059498e+06</td>\n",
              "      <td>3.022924e+07</td>\n",
              "      <td>9.393386e+06</td>\n",
              "      <td>6.630315e+06</td>\n",
              "      <td>1.810168e+07</td>\n",
              "      <td>8.797215e+06</td>\n",
              "      <td>2.151737e-01</td>\n",
              "      <td>5.633382e-03</td>\n",
              "      <td>1.660853e+04</td>\n",
              "      <td>2.117853e+04</td>\n",
              "      <td>1.932655e+05</td>\n",
              "      <td>3.814460e+04</td>\n",
              "      <td>2.558415e+01</td>\n",
              "      <td>2.121693e+03</td>\n",
              "      <td>3.183562e+02</td>\n",
              "      <td>6.608889e+02</td>\n",
              "      <td>1.736478e+06</td>\n",
              "      <td>1.762535e-01</td>\n",
              "      <td>1.649430e-02</td>\n",
              "      <td>4.572065e-01</td>\n",
              "      <td>4.632581e-01</td>\n",
              "      <td>3.018483e-01</td>\n",
              "      <td>1.653032e-02</td>\n",
              "      <td>6.956600e-01</td>\n",
              "      <td>3.455032e+02</td>\n",
              "      <td>1.459777e+04</td>\n",
              "      <td>8.924281e+03</td>\n",
              "      <td>6.866503e+05</td>\n",
              "      <td>4.165844e+05</td>\n",
              "      <td>1.085571e+06</td>\n",
              "      <td>6.111585e+05</td>\n",
              "      <td>2.484818e+07</td>\n",
              "      <td>4.874169e+06</td>\n",
              "      <td>2.561746e+07</td>\n",
              "      <td>2.458143e+07</td>\n",
              "      <td>3.746560e-01</td>\n",
              "    </tr>\n",
              "    <tr>\n",
              "      <th>min</th>\n",
              "      <td>0.000000e+00</td>\n",
              "      <td>0.000000e+00</td>\n",
              "      <td>1.000000e+00</td>\n",
              "      <td>0.000000e+00</td>\n",
              "      <td>0.000000e+00</td>\n",
              "      <td>0.000000e+00</td>\n",
              "      <td>0.000000e+00</td>\n",
              "      <td>0.000000e+00</td>\n",
              "      <td>0.000000e+00</td>\n",
              "      <td>0.000000e+00</td>\n",
              "      <td>0.000000e+00</td>\n",
              "      <td>0.000000e+00</td>\n",
              "      <td>0.000000e+00</td>\n",
              "      <td>0.000000e+00</td>\n",
              "      <td>0.000000e+00</td>\n",
              "      <td>0.000000e+00</td>\n",
              "      <td>0.000000e+00</td>\n",
              "      <td>0.000000e+00</td>\n",
              "      <td>0.000000e+00</td>\n",
              "      <td>0.000000e+00</td>\n",
              "      <td>0.000000e+00</td>\n",
              "      <td>0.000000e+00</td>\n",
              "      <td>0.000000e+00</td>\n",
              "      <td>0.000000e+00</td>\n",
              "      <td>0.000000e+00</td>\n",
              "      <td>0.000000e+00</td>\n",
              "      <td>0.000000e+00</td>\n",
              "      <td>0.000000e+00</td>\n",
              "      <td>0.000000e+00</td>\n",
              "      <td>0.000000e+00</td>\n",
              "      <td>0.000000e+00</td>\n",
              "      <td>0.000000e+00</td>\n",
              "      <td>0.000000e+00</td>\n",
              "      <td>0.000000e+00</td>\n",
              "      <td>0.000000e+00</td>\n",
              "      <td>0.000000e+00</td>\n",
              "      <td>0.000000e+00</td>\n",
              "      <td>0.000000e+00</td>\n",
              "      <td>0.000000e+00</td>\n",
              "      <td>0.000000e+00</td>\n",
              "      <td>0.000000e+00</td>\n",
              "      <td>0.000000e+00</td>\n",
              "      <td>0.000000e+00</td>\n",
              "      <td>0.000000e+00</td>\n",
              "      <td>0.000000e+00</td>\n",
              "      <td>0.000000e+00</td>\n",
              "      <td>0.000000e+00</td>\n",
              "      <td>0.000000e+00</td>\n",
              "      <td>0.000000e+00</td>\n",
              "      <td>0.000000e+00</td>\n",
              "      <td>0.000000e+00</td>\n",
              "      <td>0.000000e+00</td>\n",
              "      <td>0.000000e+00</td>\n",
              "      <td>0.000000e+00</td>\n",
              "      <td>0.000000e+00</td>\n",
              "      <td>0.000000e+00</td>\n",
              "      <td>0.000000e+00</td>\n",
              "      <td>0.000000e+00</td>\n",
              "      <td>0.000000e+00</td>\n",
              "      <td>0.000000e+00</td>\n",
              "    </tr>\n",
              "    <tr>\n",
              "      <th>25%</th>\n",
              "      <td>5.300000e+01</td>\n",
              "      <td>2.080000e+02</td>\n",
              "      <td>2.000000e+00</td>\n",
              "      <td>1.000000e+00</td>\n",
              "      <td>1.200000e+01</td>\n",
              "      <td>6.000000e+00</td>\n",
              "      <td>6.000000e+00</td>\n",
              "      <td>0.000000e+00</td>\n",
              "      <td>6.000000e+00</td>\n",
              "      <td>0.000000e+00</td>\n",
              "      <td>6.000000e+00</td>\n",
              "      <td>0.000000e+00</td>\n",
              "      <td>6.000000e+00</td>\n",
              "      <td>0.000000e+00</td>\n",
              "      <td>1.194308e+02</td>\n",
              "      <td>2.023326e+00</td>\n",
              "      <td>8.300000e+01</td>\n",
              "      <td>0.000000e+00</td>\n",
              "      <td>1.760000e+02</td>\n",
              "      <td>3.000000e+00</td>\n",
              "      <td>1.000000e+00</td>\n",
              "      <td>1.000000e+00</td>\n",
              "      <td>0.000000e+00</td>\n",
              "      <td>1.000000e+00</td>\n",
              "      <td>0.000000e+00</td>\n",
              "      <td>0.000000e+00</td>\n",
              "      <td>0.000000e+00</td>\n",
              "      <td>0.000000e+00</td>\n",
              "      <td>0.000000e+00</td>\n",
              "      <td>0.000000e+00</td>\n",
              "      <td>0.000000e+00</td>\n",
              "      <td>0.000000e+00</td>\n",
              "      <td>4.000000e+01</td>\n",
              "      <td>2.000000e+01</td>\n",
              "      <td>1.218008e+00</td>\n",
              "      <td>1.682916e-01</td>\n",
              "      <td>0.000000e+00</td>\n",
              "      <td>6.000000e+00</td>\n",
              "      <td>6.000000e+00</td>\n",
              "      <td>2.309401e+00</td>\n",
              "      <td>5.333333e+00</td>\n",
              "      <td>0.000000e+00</td>\n",
              "      <td>0.000000e+00</td>\n",
              "      <td>0.000000e+00</td>\n",
              "      <td>0.000000e+00</td>\n",
              "      <td>0.000000e+00</td>\n",
              "      <td>0.000000e+00</td>\n",
              "      <td>0.000000e+00</td>\n",
              "      <td>9.000000e+00</td>\n",
              "      <td>0.000000e+00</td>\n",
              "      <td>0.000000e+00</td>\n",
              "      <td>0.000000e+00</td>\n",
              "      <td>0.000000e+00</td>\n",
              "      <td>0.000000e+00</td>\n",
              "      <td>0.000000e+00</td>\n",
              "      <td>0.000000e+00</td>\n",
              "      <td>0.000000e+00</td>\n",
              "      <td>0.000000e+00</td>\n",
              "      <td>0.000000e+00</td>\n",
              "      <td>1.000000e+00</td>\n",
              "    </tr>\n",
              "    <tr>\n",
              "      <th>50%</th>\n",
              "      <td>8.000000e+01</td>\n",
              "      <td>5.062200e+04</td>\n",
              "      <td>2.000000e+00</td>\n",
              "      <td>2.000000e+00</td>\n",
              "      <td>6.600000e+01</td>\n",
              "      <td>1.560000e+02</td>\n",
              "      <td>4.000000e+01</td>\n",
              "      <td>2.000000e+00</td>\n",
              "      <td>3.625000e+01</td>\n",
              "      <td>0.000000e+00</td>\n",
              "      <td>9.700000e+01</td>\n",
              "      <td>0.000000e+00</td>\n",
              "      <td>8.850000e+01</td>\n",
              "      <td>0.000000e+00</td>\n",
              "      <td>3.715038e+03</td>\n",
              "      <td>6.974224e+01</td>\n",
              "      <td>2.044067e+04</td>\n",
              "      <td>1.239435e+04</td>\n",
              "      <td>4.654050e+04</td>\n",
              "      <td>4.000000e+00</td>\n",
              "      <td>4.900000e+01</td>\n",
              "      <td>4.900000e+01</td>\n",
              "      <td>0.000000e+00</td>\n",
              "      <td>4.900000e+01</td>\n",
              "      <td>3.000000e+00</td>\n",
              "      <td>3.000000e+00</td>\n",
              "      <td>3.000000e+00</td>\n",
              "      <td>0.000000e+00</td>\n",
              "      <td>3.000000e+00</td>\n",
              "      <td>3.000000e+00</td>\n",
              "      <td>0.000000e+00</td>\n",
              "      <td>0.000000e+00</td>\n",
              "      <td>6.400000e+01</td>\n",
              "      <td>4.000000e+01</td>\n",
              "      <td>3.803188e+01</td>\n",
              "      <td>1.922473e+01</td>\n",
              "      <td>2.000000e+00</td>\n",
              "      <td>1.020000e+02</td>\n",
              "      <td>6.360000e+01</td>\n",
              "      <td>3.233162e+01</td>\n",
              "      <td>1.045333e+03</td>\n",
              "      <td>0.000000e+00</td>\n",
              "      <td>0.000000e+00</td>\n",
              "      <td>0.000000e+00</td>\n",
              "      <td>0.000000e+00</td>\n",
              "      <td>0.000000e+00</td>\n",
              "      <td>0.000000e+00</td>\n",
              "      <td>1.000000e+00</td>\n",
              "      <td>8.100000e+01</td>\n",
              "      <td>2.510000e+02</td>\n",
              "      <td>0.000000e+00</td>\n",
              "      <td>0.000000e+00</td>\n",
              "      <td>0.000000e+00</td>\n",
              "      <td>0.000000e+00</td>\n",
              "      <td>0.000000e+00</td>\n",
              "      <td>0.000000e+00</td>\n",
              "      <td>0.000000e+00</td>\n",
              "      <td>0.000000e+00</td>\n",
              "      <td>0.000000e+00</td>\n",
              "      <td>1.000000e+00</td>\n",
              "    </tr>\n",
              "    <tr>\n",
              "      <th>75%</th>\n",
              "      <td>4.430000e+02</td>\n",
              "      <td>5.333340e+06</td>\n",
              "      <td>6.000000e+00</td>\n",
              "      <td>5.000000e+00</td>\n",
              "      <td>3.320000e+02</td>\n",
              "      <td>9.970000e+02</td>\n",
              "      <td>2.020000e+02</td>\n",
              "      <td>3.700000e+01</td>\n",
              "      <td>5.200000e+01</td>\n",
              "      <td>7.419280e+01</td>\n",
              "      <td>7.460000e+02</td>\n",
              "      <td>8.200000e+01</td>\n",
              "      <td>2.182632e+02</td>\n",
              "      <td>2.644106e+02</td>\n",
              "      <td>1.071429e+05</td>\n",
              "      <td>1.785714e+04</td>\n",
              "      <td>5.576706e+05</td>\n",
              "      <td>1.492018e+06</td>\n",
              "      <td>4.999655e+06</td>\n",
              "      <td>6.900000e+01</td>\n",
              "      <td>5.039350e+06</td>\n",
              "      <td>7.383423e+05</td>\n",
              "      <td>5.718941e+05</td>\n",
              "      <td>4.216112e+06</td>\n",
              "      <td>4.900000e+01</td>\n",
              "      <td>1.504670e+05</td>\n",
              "      <td>2.969500e+04</td>\n",
              "      <td>2.917766e+04</td>\n",
              "      <td>1.215048e+05</td>\n",
              "      <td>4.700000e+01</td>\n",
              "      <td>0.000000e+00</td>\n",
              "      <td>0.000000e+00</td>\n",
              "      <td>1.440000e+02</td>\n",
              "      <td>1.320000e+02</td>\n",
              "      <td>9.433962e+03</td>\n",
              "      <td>2.094241e+03</td>\n",
              "      <td>3.700000e+01</td>\n",
              "      <td>1.118000e+03</td>\n",
              "      <td>1.557500e+02</td>\n",
              "      <td>3.227910e+02</td>\n",
              "      <td>1.041940e+05</td>\n",
              "      <td>0.000000e+00</td>\n",
              "      <td>0.000000e+00</td>\n",
              "      <td>1.000000e+00</td>\n",
              "      <td>1.000000e+00</td>\n",
              "      <td>0.000000e+00</td>\n",
              "      <td>0.000000e+00</td>\n",
              "      <td>1.000000e+00</td>\n",
              "      <td>1.799272e+02</td>\n",
              "      <td>8.192000e+03</td>\n",
              "      <td>2.350000e+02</td>\n",
              "      <td>0.000000e+00</td>\n",
              "      <td>0.000000e+00</td>\n",
              "      <td>0.000000e+00</td>\n",
              "      <td>0.000000e+00</td>\n",
              "      <td>0.000000e+00</td>\n",
              "      <td>0.000000e+00</td>\n",
              "      <td>0.000000e+00</td>\n",
              "      <td>0.000000e+00</td>\n",
              "      <td>1.000000e+00</td>\n",
              "    </tr>\n",
              "    <tr>\n",
              "      <th>max</th>\n",
              "      <td>6.553500e+04</td>\n",
              "      <td>1.200000e+08</td>\n",
              "      <td>2.197590e+05</td>\n",
              "      <td>2.919220e+05</td>\n",
              "      <td>1.290000e+07</td>\n",
              "      <td>6.554530e+08</td>\n",
              "      <td>2.482000e+04</td>\n",
              "      <td>2.325000e+03</td>\n",
              "      <td>5.940857e+03</td>\n",
              "      <td>7.125597e+03</td>\n",
              "      <td>1.953000e+04</td>\n",
              "      <td>2.896000e+03</td>\n",
              "      <td>5.800500e+03</td>\n",
              "      <td>8.194660e+03</td>\n",
              "      <td>2.071000e+09</td>\n",
              "      <td>4.000000e+06</td>\n",
              "      <td>1.200000e+08</td>\n",
              "      <td>8.480026e+07</td>\n",
              "      <td>1.200000e+08</td>\n",
              "      <td>1.200000e+08</td>\n",
              "      <td>1.200000e+08</td>\n",
              "      <td>1.200000e+08</td>\n",
              "      <td>8.460293e+07</td>\n",
              "      <td>1.200000e+08</td>\n",
              "      <td>1.200000e+08</td>\n",
              "      <td>1.200000e+08</td>\n",
              "      <td>1.200000e+08</td>\n",
              "      <td>8.441801e+07</td>\n",
              "      <td>1.200000e+08</td>\n",
              "      <td>1.200000e+08</td>\n",
              "      <td>1.000000e+00</td>\n",
              "      <td>1.000000e+00</td>\n",
              "      <td>4.644908e+06</td>\n",
              "      <td>5.838440e+06</td>\n",
              "      <td>3.000000e+06</td>\n",
              "      <td>2.000000e+06</td>\n",
              "      <td>1.448000e+03</td>\n",
              "      <td>2.482000e+04</td>\n",
              "      <td>3.337143e+03</td>\n",
              "      <td>4.731522e+03</td>\n",
              "      <td>2.240000e+07</td>\n",
              "      <td>1.000000e+00</td>\n",
              "      <td>1.000000e+00</td>\n",
              "      <td>1.000000e+00</td>\n",
              "      <td>1.000000e+00</td>\n",
              "      <td>1.000000e+00</td>\n",
              "      <td>1.000000e+00</td>\n",
              "      <td>1.560000e+02</td>\n",
              "      <td>3.893333e+03</td>\n",
              "      <td>6.553500e+04</td>\n",
              "      <td>6.553500e+04</td>\n",
              "      <td>1.100000e+08</td>\n",
              "      <td>7.420000e+07</td>\n",
              "      <td>1.100000e+08</td>\n",
              "      <td>1.100000e+08</td>\n",
              "      <td>1.200000e+08</td>\n",
              "      <td>7.690000e+07</td>\n",
              "      <td>1.200000e+08</td>\n",
              "      <td>1.200000e+08</td>\n",
              "      <td>1.000000e+00</td>\n",
              "    </tr>\n",
              "  </tbody>\n",
              "</table>\n",
              "</div>"
            ]
          },
          "metadata": {},
          "execution_count": 55
        }
      ]
    },
    {
      "cell_type": "code",
      "source": [
        "df.columns"
      ],
      "metadata": {
        "id": "K13yHm4MejG4",
        "colab": {
          "base_uri": "https://localhost:8080/"
        },
        "outputId": "213d13e7-b282-44bf-eed3-6298985f3487"
      },
      "execution_count": null,
      "outputs": [
        {
          "output_type": "execute_result",
          "data": {
            "text/plain": [
              "Index(['Destination Port', 'Flow Duration', 'Total Fwd Packets',\n",
              "       'Total Backward Packets', 'Total Length of Fwd Packets',\n",
              "       'Total Length of Bwd Packets', 'Fwd Packet Length Max',\n",
              "       'Fwd Packet Length Min', 'Fwd Packet Length Mean',\n",
              "       'Fwd Packet Length Std', 'Bwd Packet Length Max',\n",
              "       'Bwd Packet Length Min', 'Bwd Packet Length Mean',\n",
              "       'Bwd Packet Length Std', 'Flow Bytes/s', 'Flow Packets/s',\n",
              "       'Flow IAT Mean', 'Flow IAT Std', 'Flow IAT Max', 'Flow IAT Min',\n",
              "       'Fwd IAT Total', 'Fwd IAT Mean', 'Fwd IAT Std', 'Fwd IAT Max',\n",
              "       'Fwd IAT Min', 'Bwd IAT Total', 'Bwd IAT Mean', 'Bwd IAT Std',\n",
              "       'Bwd IAT Max', 'Bwd IAT Min', 'Fwd PSH Flags', 'Fwd URG Flags',\n",
              "       'Fwd Header Length', 'Bwd Header Length', 'Fwd Packets/s',\n",
              "       'Bwd Packets/s', 'Min Packet Length', 'Max Packet Length',\n",
              "       'Packet Length Mean', 'Packet Length Std', 'Packet Length Variance',\n",
              "       'FIN Flag Count', 'RST Flag Count', 'PSH Flag Count', 'ACK Flag Count',\n",
              "       'URG Flag Count', 'ECE Flag Count', 'Down/Up Ratio',\n",
              "       'Average Packet Size', 'Init_Win_bytes_forward',\n",
              "       'Init_Win_bytes_backward', 'Active Mean', 'Active Std', 'Active Max',\n",
              "       'Active Min', 'Idle Mean', 'Idle Std', 'Idle Max', 'Idle Min', 'Label'],\n",
              "      dtype='object')"
            ]
          },
          "metadata": {},
          "execution_count": 56
        }
      ]
    },
    {
      "cell_type": "markdown",
      "source": [
        "\n",
        "## ⚛ Transformation de données"
      ],
      "metadata": {
        "id": "Hc5NE5gV1IkT"
      }
    },
    {
      "cell_type": "code",
      "source": [
        "t = pd.read_csv (\"transformed_data.csv\")\n",
        "df = t\n",
        "df.drop('Unnamed: 0', axis=1, inplace=True)"
      ],
      "metadata": {
        "id": "ZEprJiLvCmqG"
      },
      "execution_count": null,
      "outputs": []
    },
    {
      "cell_type": "code",
      "source": [
        "df.columns"
      ],
      "metadata": {
        "colab": {
          "base_uri": "https://localhost:8080/"
        },
        "id": "_2nZzKHTJ8gT",
        "outputId": "f41ab988-db56-48c6-eb13-bec2865700bd"
      },
      "execution_count": null,
      "outputs": [
        {
          "output_type": "execute_result",
          "data": {
            "text/plain": [
              "Index(['Destination Port', 'Flow Duration', 'Total Fwd Packets',\n",
              "       'Total Backward Packets', 'Total Length of Fwd Packets',\n",
              "       'Total Length of Bwd Packets', 'Fwd Packet Length Max',\n",
              "       'Fwd Packet Length Min', 'Fwd Packet Length Mean',\n",
              "       'Fwd Packet Length Std', 'Bwd Packet Length Max',\n",
              "       'Bwd Packet Length Min', 'Bwd Packet Length Mean',\n",
              "       'Bwd Packet Length Std', 'Flow Bytes/s', 'Flow Packets/s',\n",
              "       'Flow IAT Mean', 'Flow IAT Std', 'Flow IAT Max', 'Flow IAT Min',\n",
              "       'Fwd IAT Total', 'Fwd IAT Mean', 'Fwd IAT Std', 'Fwd IAT Max',\n",
              "       'Fwd IAT Min', 'Bwd IAT Total', 'Bwd IAT Mean', 'Bwd IAT Std',\n",
              "       'Bwd IAT Max', 'Bwd IAT Min', 'Fwd PSH Flags', 'Fwd URG Flags',\n",
              "       'Fwd Header Length', 'Bwd Header Length', 'Fwd Packets/s',\n",
              "       'Bwd Packets/s', 'Min Packet Length', 'Max Packet Length',\n",
              "       'Packet Length Mean', 'Packet Length Std', 'Packet Length Variance',\n",
              "       'FIN Flag Count', 'RST Flag Count', 'PSH Flag Count', 'ACK Flag Count',\n",
              "       'URG Flag Count', 'ECE Flag Count', 'Down/Up Ratio',\n",
              "       'Average Packet Size', 'Init_Win_bytes_forward',\n",
              "       'Init_Win_bytes_backward', 'Active Mean', 'Active Std', 'Active Max',\n",
              "       'Active Min', 'Idle Mean', 'Idle Std', 'Idle Max', 'Idle Min', 'Label'],\n",
              "      dtype='object')"
            ]
          },
          "metadata": {},
          "execution_count": 3
        }
      ]
    },
    {
      "cell_type": "code",
      "source": [
        "# Shuffle the entire DataFrame\n",
        "for i in range(3):\n",
        "  df = df.sample(frac=1)"
      ],
      "metadata": {
        "id": "kgq_zzCbql04"
      },
      "execution_count": null,
      "outputs": []
    },
    {
      "cell_type": "code",
      "source": [
        "x = df.drop(['Label'] , axis = 1).values\n",
        "y = df['Label'].values"
      ],
      "metadata": {
        "id": "_3kCA_hG1J4d"
      },
      "execution_count": null,
      "outputs": []
    },
    {
      "cell_type": "code",
      "source": [
        "x.shape"
      ],
      "metadata": {
        "colab": {
          "base_uri": "https://localhost:8080/"
        },
        "id": "nA79R9ttMBKv",
        "outputId": "da22a35c-e92e-4799-86da-01edd2f9a46e"
      },
      "execution_count": null,
      "outputs": [
        {
          "output_type": "execute_result",
          "data": {
            "text/plain": [
              "(2520798, 59)"
            ]
          },
          "metadata": {},
          "execution_count": 6
        }
      ]
    },
    {
      "cell_type": "code",
      "source": [
        "y.shape"
      ],
      "metadata": {
        "colab": {
          "base_uri": "https://localhost:8080/"
        },
        "id": "S8KMNrs_MR44",
        "outputId": "02851ef1-fa95-412d-eea6-8b28a899b3b1"
      },
      "execution_count": null,
      "outputs": [
        {
          "output_type": "execute_result",
          "data": {
            "text/plain": [
              "(2520798,)"
            ]
          },
          "metadata": {},
          "execution_count": 7
        }
      ]
    },
    {
      "cell_type": "code",
      "source": [
        "# scaling the dataset / redimensionnement\n",
        "\n",
        "ro_scaler = RobustScaler()\n",
        "x_scaled = ro_scaler.fit_transform(x)\n",
        "\n",
        "# échelonnage des données dans une plage donnée, par défaut entre 0 et 1\n",
        "scaler = MinMaxScaler()\n",
        "x_scaled = scaler.fit_transform(x_scaled)"
      ],
      "metadata": {
        "id": "daPmRtu91bPI"
      },
      "execution_count": null,
      "outputs": []
    },
    {
      "cell_type": "code",
      "source": [
        "x_train , x_test , y_train , y_test = train_test_split(x_scaled, y, test_size= 0.25 , random_state=42)"
      ],
      "metadata": {
        "id": "f8tUZfJC1mrF"
      },
      "execution_count": null,
      "outputs": []
    },
    {
      "cell_type": "code",
      "source": [
        "print('la taille de notre dataset de trainning : ',x_train.shape)\n",
        "print('la taille de notre dataset de test : ',x_test.shape)"
      ],
      "metadata": {
        "id": "sbfJWIWy1vfp",
        "colab": {
          "base_uri": "https://localhost:8080/"
        },
        "outputId": "9bae7841-ced7-4575-9ab8-80914b5d81a4"
      },
      "execution_count": null,
      "outputs": [
        {
          "output_type": "stream",
          "name": "stdout",
          "text": [
            "la taille de notre dataset de trainning :  (1890598, 59)\n",
            "la taille de notre dataset de test :  (630200, 59)\n"
          ]
        }
      ]
    },
    {
      "cell_type": "code",
      "source": [
        "x_train.shape"
      ],
      "metadata": {
        "colab": {
          "base_uri": "https://localhost:8080/"
        },
        "id": "5fcSms0eHk-Y",
        "outputId": "5c3954bb-11ac-43f3-fc1a-ff4985d49117"
      },
      "execution_count": null,
      "outputs": [
        {
          "output_type": "execute_result",
          "data": {
            "text/plain": [
              "(1890598, 59)"
            ]
          },
          "metadata": {},
          "execution_count": 11
        }
      ]
    },
    {
      "cell_type": "code",
      "source": [
        "y_test.shape"
      ],
      "metadata": {
        "colab": {
          "base_uri": "https://localhost:8080/"
        },
        "id": "gT0w-7pjHtqo",
        "outputId": "ece8bc09-76bc-45f2-d103-c36021904372"
      },
      "execution_count": null,
      "outputs": [
        {
          "output_type": "execute_result",
          "data": {
            "text/plain": [
              "(630200,)"
            ]
          },
          "metadata": {},
          "execution_count": 12
        }
      ]
    },
    {
      "cell_type": "markdown",
      "source": [
        "> *Balancing The Imbalanced Data* ⚓"
      ],
      "metadata": {
        "id": "lWC4qGcYrFTb"
      }
    },
    {
      "cell_type": "code",
      "source": [
        "# training data sampling\n",
        "from imblearn.over_sampling import SMOTE\n",
        "from imblearn.under_sampling import RandomUnderSampler\n",
        "from imblearn.pipeline import Pipeline\n",
        "from collections import Counter\n",
        "\n",
        "over = SMOTE(sampling_strategy='not majority', n_jobs=-1)\n",
        "\n",
        "steps = [('o', over)]\n",
        "pipeline = Pipeline(steps=steps)\n",
        "\n",
        "x_train, y_train = pipeline.fit_resample(x_train, y_train)\n",
        "counter = Counter(y_train)\n",
        "print(counter)"
      ],
      "metadata": {
        "id": "WoA5BsbHtY0a",
        "colab": {
          "base_uri": "https://localhost:8080/"
        },
        "outputId": "d20c5d83-da65-42df-9704-a07ab3ed0cf7"
      },
      "execution_count": null,
      "outputs": [
        {
          "output_type": "stream",
          "name": "stdout",
          "text": [
            "Counter({1: 1571473, 0: 1571473})\n"
          ]
        }
      ]
    },
    {
      "cell_type": "code",
      "source": [
        "counter = Counter(y_test)\n",
        "print(counter)"
      ],
      "metadata": {
        "colab": {
          "base_uri": "https://localhost:8080/"
        },
        "id": "kYeNfTwiBDFw",
        "outputId": "4fe500e4-dafb-44d4-f963-6121532be3cc"
      },
      "execution_count": null,
      "outputs": [
        {
          "output_type": "stream",
          "name": "stdout",
          "text": [
            "Counter({1: 523584, 0: 106616})\n"
          ]
        }
      ]
    },
    {
      "cell_type": "markdown",
      "source": [
        "## ☣ Entrainement des Models & Evaluation"
      ],
      "metadata": {
        "id": "DVWPGvY54l86"
      }
    },
    {
      "cell_type": "code",
      "source": [
        "def cross_val(x_train, y_train, model):\n",
        "    accuracies = cross_val_score(estimator = model, X = x_train, y = y_train, cv=5)\n",
        "    return accuracies.mean()\n",
        "\n",
        "def fit_and_evaluate(model, x_train , x_test , y_train , y_test):\n",
        "    model.fit(x_train, y_train)\n",
        "\n",
        "    model_pred = model.predict(x_test)\n",
        "    model_cross = cross_val(x_train, y_train, model)\n",
        "\n",
        "    return model_cross"
      ],
      "metadata": {
        "id": "XJo0kODskpAt"
      },
      "execution_count": null,
      "outputs": []
    },
    {
      "cell_type": "code",
      "source": [
        "x_traincpy = np.copy(x_train)\n",
        "y_traincpy = np.copy(y_train)\n",
        "x_testcpy  = np.copy(x_test)\n",
        "y_testcpy  = np.copy(y_test)"
      ],
      "metadata": {
        "id": "mJc2RyUN4uQf"
      },
      "execution_count": null,
      "outputs": []
    },
    {
      "cell_type": "code",
      "source": [
        "#Fitting Models\n",
        "from sklearn.svm import SVC\n",
        "from sklearn.naive_bayes import BernoulliNB\n",
        "from sklearn import tree\n",
        "from sklearn.model_selection import cross_val_score\n",
        "from sklearn.neighbors import KNeighborsClassifier\n",
        "from sklearn.linear_model import LogisticRegression"
      ],
      "metadata": {
        "id": "TQs00EPVUOd8"
      },
      "execution_count": null,
      "outputs": []
    },
    {
      "cell_type": "code",
      "source": [
        "# le modèle va entraîner 10 arbres de décision et les agréger pour prendre des décisions\n",
        "RF_Classifier = RandomForestClassifier(n_estimators = 10, criterion = 'entropy')\n",
        "random_eval = fit_and_evaluate(RF_Classifier, x_traincpy , x_testcpy , y_traincpy , y_testcpy)\n",
        "print(' Random Forest Performance on the test set : Cross Validation Score = %0.4f ' % random_eval)"
      ],
      "metadata": {
        "id": "iv48jhaoUU8f",
        "colab": {
          "base_uri": "https://localhost:8080/"
        },
        "outputId": "ff68cc85-6b0d-4b34-9138-4c612fb38d33"
      },
      "execution_count": null,
      "outputs": [
        {
          "output_type": "stream",
          "name": "stdout",
          "text": [
            " Random Forest Performance on the test set : Cross Validation Score = 0.9992 \n"
          ]
        }
      ]
    },
    {
      "cell_type": "code",
      "source": [
        "# Train LogisticRegression Model\n",
        "LGR_Classifier = LogisticRegression(n_jobs=-1, random_state=0)\n",
        "LGR_Classifier_eval = fit_and_evaluate(LGR_Classifier, x_traincpy , x_testcpy , y_traincpy , y_testcpy)\n",
        "print(' Logistic Regression Performance on the test set : Cross Validation Score = %0.4f ' % LGR_Classifier_eval)"
      ],
      "metadata": {
        "id": "60i30uPKUZol",
        "colab": {
          "base_uri": "https://localhost:8080/"
        },
        "outputId": "8b990e98-0dd3-4ccf-bf23-5df37cd31e6e"
      },
      "execution_count": null,
      "outputs": [
        {
          "output_type": "stream",
          "name": "stdout",
          "text": [
            " Logistic Regression Performance on the test set : Cross Validation Score = 0.9445 \n"
          ]
        }
      ]
    },
    {
      "cell_type": "code",
      "source": [
        "# Train KNeighborsClassifier Model\n",
        "KNN_Classifier = KNeighborsClassifier(n_jobs=-1)\n",
        "KNN_Classifier_eval = fit_and_evaluate(KNN_Classifier, x_traincpy , x_testcpy , y_traincpy , y_testcpy)\n",
        "print(' K-Neighbors Performance on the test set : Cross Validation Score = %0.4f ' % KNN_Classifier_eval)"
      ],
      "metadata": {
        "id": "0NQqsR3VUXyr"
      },
      "execution_count": null,
      "outputs": []
    },
    {
      "cell_type": "code",
      "source": [
        "# Train Gaussian Naive Baye Model\n",
        "BNB_Classifier = BernoulliNB()\n",
        "BNB_Classifier_eval = fit_and_evaluate(BNB_Classifier, x_traincpy , x_testcpy , y_traincpy , y_testcpy)\n",
        "print(' Gaussian Naive Baye Performance on the test set : Cross Validation Score = %0.4f ' % BNB_Classifier_eval)"
      ],
      "metadata": {
        "id": "nwYXQ4mtUbha",
        "colab": {
          "base_uri": "https://localhost:8080/"
        },
        "outputId": "38fa4d89-dec3-4423-a024-ba3f2f714666"
      },
      "execution_count": null,
      "outputs": [
        {
          "output_type": "stream",
          "name": "stdout",
          "text": [
            " Gaussian Naive Baye Performance on the test set : Cross Validation Score = 0.6990 \n"
          ]
        }
      ]
    },
    {
      "cell_type": "code",
      "source": [
        "# Train Decision Tree Model\n",
        "DTC_Classifier = tree.DecisionTreeClassifier(criterion='entropy', random_state=0)\n",
        "DTC_Classifier_eval = fit_and_evaluate(DTC_Classifier, x_traincpy , x_testcpy , y_traincpy , y_testcpy)\n",
        "print(' Decision Tree Performance on the test set : Cross Validation Score = %0.4f ' % DTC_Classifier_eval )"
      ],
      "metadata": {
        "id": "npC1QoNieg79",
        "colab": {
          "base_uri": "https://localhost:8080/"
        },
        "outputId": "f3ce8f1f-58e6-43c6-c153-fbc4b1e6cd54"
      },
      "execution_count": null,
      "outputs": [
        {
          "output_type": "stream",
          "name": "stdout",
          "text": [
            " Decision Tree Performance on the test set : Cross Validation Score = 0.9991 \n"
          ]
        }
      ]
    },
    {
      "cell_type": "markdown",
      "source": [
        "## ▶ Fichier PKL du modele"
      ],
      "metadata": {
        "id": "1u8NwxV_-Ohr"
      }
    },
    {
      "cell_type": "code",
      "source": [
        "# Random Forest Model\n",
        "modele = 'Random_Forest.pkl'\n",
        "with open(modele, 'wb') as fichier:\n",
        "    pickle.dump(RF_Classifier, fichier)\n",
        "    print(\"Modèle sauvegardé avec succès dans Random_Forest.pkl\")"
      ],
      "metadata": {
        "id": "H-oqENpp-ZLw",
        "colab": {
          "base_uri": "https://localhost:8080/"
        },
        "outputId": "080f807a-4b0d-4a7a-9b26-748cf689f346"
      },
      "execution_count": null,
      "outputs": [
        {
          "output_type": "stream",
          "name": "stdout",
          "text": [
            "Modèle sauvegardé avec succès dans Random_Forest.pkl\n"
          ]
        }
      ]
    },
    {
      "cell_type": "code",
      "source": [
        "# LogisticRegression Model\n",
        "modele = 'Logistic_Regression.pkl'\n",
        "with open(modele, 'wb') as fichier:\n",
        "    pickle.dump(LGR_Classifier, fichier)\n",
        "    print(\"Modèle sauvegardé avec succès dans Logistic_Regression.pkl\")"
      ],
      "metadata": {
        "colab": {
          "base_uri": "https://localhost:8080/"
        },
        "id": "tBe6TblwpVii",
        "outputId": "5f0281e6-bd0b-4353-8e67-5f6f294eb65d"
      },
      "execution_count": null,
      "outputs": [
        {
          "output_type": "stream",
          "name": "stdout",
          "text": [
            "Modèle sauvegardé avec succès dans Logistic_Regression.pkl\n"
          ]
        }
      ]
    },
    {
      "cell_type": "code",
      "source": [
        "# KNeighborsClassifier Model\n",
        "modele = 'KNeighborsC.pkl'\n",
        "with open(modele, 'wb') as fichier:\n",
        "    pickle.dump(KNN_Classifier, fichier)\n",
        "    print(\"Modèle sauvegardé avec succès dans KNeighborsC.pkl\")"
      ],
      "metadata": {
        "id": "Btnmu_w0pCIJ"
      },
      "execution_count": null,
      "outputs": []
    },
    {
      "cell_type": "code",
      "source": [
        "# Gaussian Naive Baye Model\n",
        "modele = 'Naive_Baye.pkl'\n",
        "with open(modele, 'wb') as fichier:\n",
        "    pickle.dump(BNB_Classifier, fichier)\n",
        "    print(\"Modèle sauvegardé avec succès dans Naive_Baye.pkl\")"
      ],
      "metadata": {
        "colab": {
          "base_uri": "https://localhost:8080/"
        },
        "id": "AS9kI022paNy",
        "outputId": "9c167d21-8f46-419b-c775-c37641d8577c"
      },
      "execution_count": null,
      "outputs": [
        {
          "output_type": "stream",
          "name": "stdout",
          "text": [
            "Modèle sauvegardé avec succès dans Naive_Baye.pkl\n"
          ]
        }
      ]
    },
    {
      "cell_type": "code",
      "source": [
        "# Decision Tree Model\n",
        "modele = 'Decision_Tree.pkl'\n",
        "with open(modele, 'wb') as fichier:\n",
        "    pickle.dump(DTC_Classifier, fichier)\n",
        "    print(\"Modèle sauvegardé avec succès dans Decision_Tree.pkl\")"
      ],
      "metadata": {
        "colab": {
          "base_uri": "https://localhost:8080/"
        },
        "id": "cG6Qr3y6p62i",
        "outputId": "ecd238c6-ee31-44e9-b17b-0185738142ed"
      },
      "execution_count": null,
      "outputs": [
        {
          "output_type": "stream",
          "name": "stdout",
          "text": [
            "Modèle sauvegardé avec succès dans Decision_Tree.pkl\n"
          ]
        }
      ]
    },
    {
      "cell_type": "markdown",
      "source": [
        "## ▶ Confusion Matrice & Raport"
      ],
      "metadata": {
        "id": "FokXOOmY7rtK"
      }
    },
    {
      "cell_type": "code",
      "source": [
        "# Random Forest Model\n",
        "y_pred = RF_Classifier.predict(x_testcpy)\n",
        "\n",
        "cm = confusion_matrix(y_testcpy, y_pred, labels=RF_Classifier.classes_)\n",
        "disp = ConfusionMatrixDisplay(confusion_matrix=cm, display_labels=RF_Classifier.classes_)\n",
        "disp.plot()\n",
        "plt.show()"
      ],
      "metadata": {
        "colab": {
          "base_uri": "https://localhost:8080/",
          "height": 449
        },
        "id": "VJeMk0vv7rVM",
        "outputId": "a106fe3a-5864-496d-e790-e4297903165d"
      },
      "execution_count": null,
      "outputs": [
        {
          "output_type": "display_data",
          "data": {
            "text/plain": [
              "<Figure size 640x480 with 2 Axes>"
            ],
            "image/png": "[encoded data removed]"
          },
          "metadata": {}
        }
      ]
    },
    {
      "cell_type": "code",
      "source": [
        "report = classification_report(y_testcpy, y_pred)\n",
        "\n",
        "# Print the classification report\n",
        "print(report)"
      ],
      "metadata": {
        "colab": {
          "base_uri": "https://localhost:8080/"
        },
        "id": "owkbY56tF18o",
        "outputId": "66b7b861-3b8e-4daf-eb69-faabc87c3ce2"
      },
      "execution_count": null,
      "outputs": [
        {
          "output_type": "stream",
          "name": "stdout",
          "text": [
            "              precision    recall  f1-score   support\n",
            "\n",
            "           0       0.99      1.00      1.00    106616\n",
            "           1       1.00      1.00      1.00    523584\n",
            "\n",
            "    accuracy                           1.00    630200\n",
            "   macro avg       1.00      1.00      1.00    630200\n",
            "weighted avg       1.00      1.00      1.00    630200\n",
            "\n"
          ]
        }
      ]
    },
    {
      "cell_type": "code",
      "source": [
        "# LogisticRegression Model\n",
        "y_pred = LGR_Classifier.predict(x_testcpy)\n",
        "\n",
        "cm = confusion_matrix(y_testcpy, y_pred, labels=LGR_Classifier.classes_)\n",
        "disp = ConfusionMatrixDisplay(confusion_matrix=cm, display_labels=LGR_Classifier.classes_)\n",
        "disp.plot()\n",
        "plt.show()"
      ],
      "metadata": {
        "colab": {
          "base_uri": "https://localhost:8080/",
          "height": 449
        },
        "id": "f4lSokkED-GC",
        "outputId": "cfa09623-1b6f-4788-c885-e4e9e228a344"
      },
      "execution_count": null,
      "outputs": [
        {
          "output_type": "display_data",
          "data": {
            "text/plain": [
              "<Figure size 640x480 with 2 Axes>"
            ],
            "image/png": "[encoded data removed]"
          },
          "metadata": {}
        }
      ]
    },
    {
      "cell_type": "code",
      "source": [
        "report = classification_report(y_testcpy, y_pred)\n",
        "\n",
        "# Print the classification report\n",
        "print(report)"
      ],
      "metadata": {
        "colab": {
          "base_uri": "https://localhost:8080/"
        },
        "id": "XC-Z5EI1GIO7",
        "outputId": "3dcb3279-af97-467b-a28e-cf9a2e512fd3"
      },
      "execution_count": null,
      "outputs": [
        {
          "output_type": "stream",
          "name": "stdout",
          "text": [
            "              precision    recall  f1-score   support\n",
            "\n",
            "           0       0.71      0.96      0.82    106616\n",
            "           1       0.99      0.92      0.96    523584\n",
            "\n",
            "    accuracy                           0.93    630200\n",
            "   macro avg       0.85      0.94      0.89    630200\n",
            "weighted avg       0.95      0.93      0.93    630200\n",
            "\n"
          ]
        }
      ]
    },
    {
      "cell_type": "code",
      "source": [
        "# Gaussian Naive Baye Model\n",
        "y_pred = BNB_Classifier.predict(x_testcpy)\n",
        "\n",
        "cm = confusion_matrix(y_testcpy, y_pred, labels=BNB_Classifier.classes_)\n",
        "disp = ConfusionMatrixDisplay(confusion_matrix=cm, display_labels=BNB_Classifier.classes_)\n",
        "disp.plot()\n",
        "plt.show()"
      ],
      "metadata": {
        "colab": {
          "base_uri": "https://localhost:8080/",
          "height": 449
        },
        "id": "d5b4xrGhD_GW",
        "outputId": "f56a5983-ce37-4106-8f95-38eea203af00"
      },
      "execution_count": null,
      "outputs": [
        {
          "output_type": "display_data",
          "data": {
            "text/plain": [
              "<Figure size 640x480 with 2 Axes>"
            ],
            "image/png": "[encoded data removed]"
          },
          "metadata": {}
        }
      ]
    },
    {
      "cell_type": "code",
      "source": [
        "report = classification_report(y_testcpy, y_pred)\n",
        "\n",
        "# Print the classification report\n",
        "print(report)"
      ],
      "metadata": {
        "colab": {
          "base_uri": "https://localhost:8080/"
        },
        "id": "5b8uPNSKGO3D",
        "outputId": "9c818a3c-5e63-48b7-dd5f-1c41642c5def"
      },
      "execution_count": null,
      "outputs": [
        {
          "output_type": "stream",
          "name": "stdout",
          "text": [
            "              precision    recall  f1-score   support\n",
            "\n",
            "           0       0.33      0.68      0.44    106616\n",
            "           1       0.92      0.72      0.80    523584\n",
            "\n",
            "    accuracy                           0.71    630200\n",
            "   macro avg       0.62      0.70      0.62    630200\n",
            "weighted avg       0.82      0.71      0.74    630200\n",
            "\n"
          ]
        }
      ]
    },
    {
      "cell_type": "code",
      "source": [
        "# Decision Tree Model\n",
        "y_pred = DTC_Classifier.predict(x_testcpy)\n",
        "\n",
        "cm = confusion_matrix(y_testcpy, y_pred, labels=DTC_Classifier.classes_)\n",
        "disp = ConfusionMatrixDisplay(confusion_matrix=cm, display_labels=DTC_Classifier.classes_)\n",
        "disp.plot()\n",
        "plt.show()"
      ],
      "metadata": {
        "colab": {
          "base_uri": "https://localhost:8080/",
          "height": 449
        },
        "id": "gO9zN9cOD_r5",
        "outputId": "96c3224f-c081-4f0a-bfd6-319054eabec4"
      },
      "execution_count": null,
      "outputs": [
        {
          "output_type": "display_data",
          "data": {
            "text/plain": [
              "<Figure size 640x480 with 2 Axes>"
            ],
            "image/png": "[encoded data removed]"
          },
          "metadata": {}
        }
      ]
    },
    {
      "cell_type": "code",
      "source": [
        "report = classification_report(y_testcpy, y_pred)\n",
        "\n",
        "# Print the classification report\n",
        "print(report)"
      ],
      "metadata": {
        "colab": {
          "base_uri": "https://localhost:8080/"
        },
        "id": "2-ERsQ5MGS5p",
        "outputId": "b22c88f6-b124-4c07-d363-124e87c47c33"
      },
      "execution_count": null,
      "outputs": [
        {
          "output_type": "stream",
          "name": "stdout",
          "text": [
            "              precision    recall  f1-score   support\n",
            "\n",
            "           0       1.00      1.00      1.00    106616\n",
            "           1       1.00      1.00      1.00    523584\n",
            "\n",
            "    accuracy                           1.00    630200\n",
            "   macro avg       1.00      1.00      1.00    630200\n",
            "weighted avg       1.00      1.00      1.00    630200\n",
            "\n"
          ]
        }
      ]
    }
  ]
}