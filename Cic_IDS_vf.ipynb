{
  "nbformat": 4,
  "nbformat_minor": 0,
  "metadata": {
    "colab": {
      "provenance": [],
      "collapsed_sections": [
        "zQJh5tI95HCN",
        "Hc5NE5gV1IkT",
        "DVWPGvY54l86",
        "1u8NwxV_-Ohr"
      ],
      "mount_file_id": "1NNfqGhp5I6nsLyBYtz2GrLH0vTwdOFjq",
      "authorship_tag": "ABX9TyOYfJPerNXfZbgWZ8DwJJTV",
      "include_colab_link": true
    },
    "kernelspec": {
      "name": "python3",
      "display_name": "Python 3"
    },
    "language_info": {
      "name": "python"
    }
  },
  "cells": [
    {
      "cell_type": "markdown",
      "metadata": {
        "id": "view-in-github",
        "colab_type": "text"
      },
      "source": [
        "<a href=\"https://colab.research.google.com/github/Zakaria-Ibenziane/cic-IDS/blob/main/Cic_IDS_vf.ipynb\" target=\"_parent\"><img src=\"https://colab.research.google.com/assets/colab-badge.svg\" alt=\"Open In Colab\"/></a>"
      ]
    },
    {
      "cell_type": "markdown",
      "source": [
        "# *Modele de detection d'intrusion :*\n"
      ],
      "metadata": {
        "id": "o9KiGztfcdpf"
      }
    },
    {
      "cell_type": "markdown",
      "source": [
        "# ⚒ Importation de data"
      ],
      "metadata": {
        "id": "zQJh5tI95HCN"
      }
    },
    {
      "cell_type": "code",
      "source": [
        "# from google.colab import drive\n",
        "# drive.mount('/content/drive/')"
      ],
      "metadata": {
        "id": "q0MINJ9iR578"
      },
      "execution_count": 21,
      "outputs": []
    },
    {
      "cell_type": "code",
      "execution_count": 22,
      "metadata": {
        "id": "HY2X5MNieCU_"
      },
      "outputs": [],
      "source": [
        "from mpl_toolkits.mplot3d import Axes3D\n",
        "from sklearn.preprocessing import StandardScaler, LabelEncoder, MinMaxScaler\n",
        "import matplotlib.pyplot as plt  ; plt.rcdefaults()\n",
        "import numpy as np # linear algebra\n",
        "import os # accessing directory structure\n",
        "import pandas as pd # data processing, CSV file I/O (e.g. pd.read_csv)\n",
        "%matplotlib inline\n",
        "\n",
        "from sklearn.preprocessing import RobustScaler\n",
        "from sklearn.model_selection import train_test_split\n",
        "\n",
        "from sklearn.metrics import mean_absolute_error,r2_score,mean_squared_error, accuracy_score\n",
        "from sklearn.metrics import classification_report, confusion_matrix, ConfusionMatrixDisplay\n",
        "\n",
        "import time\n",
        "seconds = time.time()\n",
        "\n",
        "from scipy import stats\n",
        "import seaborn as sns\n",
        "\n",
        "#from imblearn.under_sampling import RandomUnderSampler\n",
        "from sklearn import tree\n",
        "from sklearn.model_selection import cross_val_score\n",
        "\n",
        "from sklearn.ensemble import RandomForestClassifier\n",
        "\n",
        "from sklearn import metrics\n",
        "from sklearn.feature_selection import SelectKBest\n",
        "from sklearn.feature_selection import chi2\n",
        "\n",
        "import pickle\n",
        "import warnings\n",
        "warnings.filterwarnings('ignore')\n",
        "\n",
        "pd.set_option('display.max_columns', None)\n",
        "pd.set_option('display.max_rows', None)\n",
        "nRowsRead = None"
      ]
    },
    {
      "cell_type": "code",
      "source": [
        "df1 = pd.read_csv (\"OneDrive/Bureau/BCP/DataSet/MachineLearningCVE/Friday-WorkingHours-Afternoon-DDos.pcap_ISCX.csv\")\n",
        "df2 = pd.read_csv (\"OneDrive/Bureau/BCP/DataSet/MachineLearningCVE/Friday-WorkingHours-Afternoon-PortScan.pcap_ISCX.csv\")\n",
        "df3 = pd.read_csv (\"OneDrive/Bureau/BCP/DataSet/MachineLearningCVE/Friday-WorkingHours-Morning.pcap_ISCX.csv\")\n",
        "df4 = pd.read_csv (\"OneDrive/Bureau/BCP/DataSet/MachineLearningCVE/Monday-WorkingHours.pcap_ISCX.csv\")\n",
        "df5 = pd.read_csv (\"OneDrive/Bureau/BCP/DataSet/MachineLearningCVE/Thursday-WorkingHours-Afternoon-Infilteration.pcap_ISCX.csv\")\n",
        "df6 = pd.read_csv (\"OneDrive/Bureau/BCP/DataSet/MachineLearningCVE/Thursday-WorkingHours-Morning-WebAttacks.pcap_ISCX.csv\")\n",
        "df7 = pd.read_csv (\"OneDrive/Bureau/BCP/DataSet/MachineLearningCVE/Tuesday-WorkingHours.pcap_ISCX.csv\")\n",
        "df8 = pd.read_csv (\"OneDrive/Bureau/BCP/DataSet/MachineLearningCVE/Wednesday-workingHours.pcap_ISCX.csv\")"
      ],
      "metadata": {
        "id": "tcAaQktPy2I1"
      },
      "execution_count": 23,
      "outputs": []
    },
    {
      "cell_type": "code",
      "source": [
        "# df1 = pd.read_csv(\"/content/drive/MyDrive/MachineLearningCVE/Friday-WorkingHours-Afternoon-DDos.pcap_ISCX.csv\")\n",
        "# df2=pd.read_csv(\"/content/drive/MyDrive/MachineLearningCVE/Friday-WorkingHours-Afternoon-PortScan.pcap_ISCX.csv\")\n",
        "# df3=pd.read_csv(\"/content/drive/MyDrive/MachineLearningCVE/Friday-WorkingHours-Morning.pcap_ISCX.csv\")\n",
        "# df4=pd.read_csv(\"/content/drive/MyDrive/MachineLearningCVE/Monday-WorkingHours.pcap_ISCX.csv\")\n",
        "# df5=pd.read_csv(\"/content/drive/MyDrive/MachineLearningCVE/Thursday-WorkingHours-Afternoon-Infilteration.pcap_ISCX.csv\")\n",
        "# df6=pd.read_csv(\"/content/drive/MyDrive/MachineLearningCVE/Thursday-WorkingHours-Morning-WebAttacks.pcap_ISCX.csv\")\n",
        "# df7=pd.read_csv(\"/content/drive/MyDrive/MachineLearningCVE/Tuesday-WorkingHours.pcap_ISCX.csv\")\n",
        "# df8=pd.read_csv(\"/content/drive/MyDrive/MachineLearningCVE/Wednesday-workingHours.pcap_ISCX.csv\")\n",
        "\n",
        "\n",
        "df = pd.concat([df1,df2])\n",
        "del df1,df2\n",
        "df = pd.concat([df,df3])\n",
        "del df3\n",
        "df = pd.concat([df,df4])\n",
        "del df4\n",
        "df = pd.concat([df,df5])\n",
        "del df5\n",
        "df = pd.concat([df,df6])\n",
        "del df6\n",
        "df = pd.concat([df,df7])\n",
        "del df7\n",
        "df = pd.concat([df,df8])\n",
        "del df8\n",
        "\n",
        "nRow, nCol = df.shape\n",
        "\n",
        "print('la taille de notre dataset au debut : ', df.shape)\n",
        "print('le nombre de lignes duppliquees est : ', df.duplicated().sum())\n",
        "\n",
        "df =  df.drop_duplicates(keep=\"first\")\n",
        "\n",
        "print('le nombre de lignes duppliquees apres traitement est : ', df.duplicated().sum())\n",
        "print('la taille de notre dataset apres traitement des lignes duppliquees devient : ', df.shape)\n",
        "\n",
        "\n",
        "# df.tail()\n"
      ],
      "metadata": {
        "id": "JHaXe_6xeX5j",
        "colab": {
          "base_uri": "https://localhost:8080/"
        },
        "outputId": "c5a8878d-c0b4-4bfa-fb95-a1394fb37943"
      },
      "execution_count": 24,
      "outputs": [
        {
          "output_type": "stream",
          "name": "stdout",
          "text": [
            "la taille de notre dataset au debut :  (2830743, 79)\n",
            "le nombre de lignes duppliquees est :  308381\n",
            "le nombre de lignes duppliquees apres traitement est :  0\n",
            "la taille de notre dataset apres traitement des lignes duppliquees devient :  (2522362, 79)\n"
          ]
        }
      ]
    },
    {
      "cell_type": "markdown",
      "source": [
        "# ♾ Statistiques"
      ],
      "metadata": {
        "id": "KEQWl_M5pzhN"
      }
    },
    {
      "cell_type": "code",
      "source": [
        "df.rename(columns={' Label': 'Label'}, inplace=True)\n",
        "df['Label'].value_counts()"
      ],
      "metadata": {
        "colab": {
          "base_uri": "https://localhost:8080/"
        },
        "id": "aT8zrpHgqAlh",
        "outputId": "c4cff192-f2aa-48b5-cba3-35d2e95e6707"
      },
      "execution_count": 25,
      "outputs": [
        {
          "output_type": "execute_result",
          "data": {
            "text/plain": [
              "Label\n",
              "BENIGN                        2096484\n",
              "DoS Hulk                       172849\n",
              "DDoS                           128016\n",
              "PortScan                        90819\n",
              "DoS GoldenEye                   10286\n",
              "FTP-Patator                      5933\n",
              "DoS slowloris                    5385\n",
              "DoS Slowhttptest                 5228\n",
              "SSH-Patator                      3219\n",
              "Bot                              1953\n",
              "Web Attack � Brute Force         1470\n",
              "Web Attack � XSS                  652\n",
              "Infiltration                       36\n",
              "Web Attack � Sql Injection         21\n",
              "Heartbleed                         11\n",
              "Name: count, dtype: int64"
            ]
          },
          "metadata": {},
          "execution_count": 25
        }
      ]
    },
    {
      "cell_type": "code",
      "source": [
        "plt.figure(figsize=(12,6))\n",
        "plot=sns.countplot(data=df['Label'],y=df['Label'].loc[df['Label']!='BEGINE'])\n",
        "plt.xscale('log')\n",
        "fig=plot.get_figure()\n",
        "fig.savefig('label_description.png')"
      ],
      "metadata": {
        "colab": {
          "base_uri": "https://localhost:8080/",
          "height": 546
        },
        "id": "StpEi1Mhw_pz",
        "outputId": "faa687f7-3c0a-41eb-eb2d-d87e22dd0f15"
      },
      "execution_count": 26,
      "outputs": [
        {
          "output_type": "display_data",
          "data": {
            "text/plain": [
              "<Figure size 1200x600 with 1 Axes>"
            ],
            "image/png": "[encoded data removed]"
          },
          "metadata": {}
        }
      ]
    },
    {
      "cell_type": "code",
      "source": [
        "df.Label.value_counts()"
      ],
      "metadata": {
        "colab": {
          "base_uri": "https://localhost:8080/"
        },
        "id": "gwA7pda00RKh",
        "outputId": "5b006075-41c4-4384-cd03-6589e0e5b5ae"
      },
      "execution_count": 28,
      "outputs": [
        {
          "output_type": "execute_result",
          "data": {
            "text/plain": [
              "Label\n",
              "normal       2096484\n",
              "malicious     425878\n",
              "Name: count, dtype: int64"
            ]
          },
          "metadata": {},
          "execution_count": 28
        }
      ]
    },
    {
      "cell_type": "code",
      "source": [
        "df.Label.value_counts()\n",
        "\n",
        "\n",
        "# Labeling Benign as normal and all other classes as malicious for binary classification.\n",
        "df[\"Label\"] = np.where(df[\"Label\"] != \"BENIGN\", 'malicious','normal')\n",
        "\n",
        "sns.countplot(data=df,x=df['Label'])"
      ],
      "metadata": {
        "colab": {
          "base_uri": "https://localhost:8080/",
          "height": 482
        },
        "id": "IWh_tgpjySr1",
        "outputId": "e215970a-2e50-4212-f1f0-a1a0c0c1b870"
      },
      "execution_count": 27,
      "outputs": [
        {
          "output_type": "execute_result",
          "data": {
            "text/plain": [
              "<Axes: xlabel='Label', ylabel='count'>"
            ]
          },
          "metadata": {},
          "execution_count": 27
        },
        {
          "output_type": "display_data",
          "data": {
            "text/plain": [
              "<Figure size 640x480 with 1 Axes>"
            ],
            "image/png": "[encoded data removed]"
          },
          "metadata": {}
        }
      ]
    },
    {
      "cell_type": "markdown",
      "source": [
        "# ⚒ Pretraitement"
      ],
      "metadata": {
        "id": "V5-EspG6osje"
      }
    },
    {
      "cell_type": "code",
      "source": [
        "from itertools import combinations\n",
        "\n",
        "def data_cleaning(df):\n",
        "      df.columns=df.columns.str.strip()\n",
        "      print(\"Dataset Shape: \",df.shape)\n",
        "\n",
        "      num=df._get_numeric_data()\n",
        "      num[num<0]=0\n",
        "\n",
        "      zero_variance_cols=[]               # identify and delete columns in a DataFrame (df) that have zero variance (all values are the same)\n",
        "      for col in df.columns:\n",
        "          if len(df[col].unique()) == 1:\n",
        "            zero_variance_cols.append(col)\n",
        "      df.drop(columns=zero_variance_cols, axis=1, inplace=True)\n",
        "      print(\"Zero Variance Columns: \", zero_variance_cols, \"are dropped.\")\n",
        "      print(\"Shape after removing the zero varaince columns: \",df.shape)\n",
        "\n",
        "      df.replace([np.inf,-np.inf],np.nan,inplace=True)\n",
        "      print(df.isna().any(axis=1).sum(),\"rows dropped\")\n",
        "      df.dropna(inplace=True)\n",
        "      print(\"Shape after Removing NaN: \",df.shape)\n",
        "\n",
        "      df.drop_duplicates(inplace=True)\n",
        "      print(\"Shape after dropping duplicates: \",df.shape)\n",
        "\n",
        "      column_pairs = [(i,j) for i,j in combinations(df,2) if df[i].equals(df[j])]\n",
        "      ide_cols=[]\n",
        "      for col_pair in column_pairs:\n",
        "          ide_cols.append(col_pair[1])\n",
        "      df.drop(columns=ide_cols,axis=1,inplace=True)\n",
        "      print(\"Columns which have identical values: \",column_pairs,\" dropped!\")\n",
        "      print(\"Shape after removing identical value columns: \",df.shape)\n",
        "\n",
        "      return df\n",
        "\n",
        "df=data_cleaning(df)"
      ],
      "metadata": {
        "id": "Nmd24A5Evg95"
      },
      "execution_count": null,
      "outputs": []
    },
    {
      "cell_type": "code",
      "source": [
        "# from itertools import combinations\n",
        "# column_pairs = [(i,j) for i,j in combinations(df,2) if df[i].equals(df[j])]\n",
        "# ide_cols=[]\n",
        "# for col_pair in column_pairs:\n",
        "#     ide_cols.append(col_pair[1])\n",
        "# df.drop(columns=ide_cols,axis=1,inplace=True)\n",
        "# print(\"Columns which have identical values: \",column_pairs,\" dropped!\")\n",
        "# print(\"Shape after removing identical value columns: \",df.shape)"
      ],
      "metadata": {
        "colab": {
          "base_uri": "https://localhost:8080/"
        },
        "id": "sxX2w9Pt2MBE",
        "outputId": "38b7e003-ac38-4dc2-b2ea-88227cc06fda"
      },
      "execution_count": 32,
      "outputs": [
        {
          "output_type": "stream",
          "name": "stdout",
          "text": [
            "Columns which have identical values:  [('Total Fwd Packets', 'Subflow Fwd Packets'), ('Total Backward Packets', 'Subflow Bwd Packets'), ('Fwd PSH Flags', 'SYN Flag Count'), ('Fwd URG Flags', 'CWE Flag Count'), ('Fwd Header Length', 'Fwd Header Length.1')]  dropped!\n",
            "Shape after removing identical value columns:  (2520798, 66)\n"
          ]
        }
      ]
    },
    {
      "cell_type": "code",
      "source": [
        "# df.info()"
      ],
      "metadata": {
        "id": "nguGyk9iCxGj"
      },
      "execution_count": null,
      "outputs": []
    },
    {
      "cell_type": "code",
      "source": [
        "df.columns"
      ],
      "metadata": {
        "id": "en6NiBot6ARM",
        "colab": {
          "base_uri": "https://localhost:8080/"
        },
        "outputId": "a9a9daa4-6363-4a26-9995-2a1d34325fdf"
      },
      "execution_count": 33,
      "outputs": [
        {
          "output_type": "execute_result",
          "data": {
            "text/plain": [
              "Index(['Destination Port', 'Flow Duration', 'Total Fwd Packets',\n",
              "       'Total Backward Packets', 'Total Length of Fwd Packets',\n",
              "       'Total Length of Bwd Packets', 'Fwd Packet Length Max',\n",
              "       'Fwd Packet Length Min', 'Fwd Packet Length Mean',\n",
              "       'Fwd Packet Length Std', 'Bwd Packet Length Max',\n",
              "       'Bwd Packet Length Min', 'Bwd Packet Length Mean',\n",
              "       'Bwd Packet Length Std', 'Flow Bytes/s', 'Flow Packets/s',\n",
              "       'Flow IAT Mean', 'Flow IAT Std', 'Flow IAT Max', 'Flow IAT Min',\n",
              "       'Fwd IAT Total', 'Fwd IAT Mean', 'Fwd IAT Std', 'Fwd IAT Max',\n",
              "       'Fwd IAT Min', 'Bwd IAT Total', 'Bwd IAT Mean', 'Bwd IAT Std',\n",
              "       'Bwd IAT Max', 'Bwd IAT Min', 'Fwd PSH Flags', 'Fwd URG Flags',\n",
              "       'Fwd Header Length', 'Bwd Header Length', 'Fwd Packets/s',\n",
              "       'Bwd Packets/s', 'Min Packet Length', 'Max Packet Length',\n",
              "       'Packet Length Mean', 'Packet Length Std', 'Packet Length Variance',\n",
              "       'FIN Flag Count', 'RST Flag Count', 'PSH Flag Count', 'ACK Flag Count',\n",
              "       'URG Flag Count', 'ECE Flag Count', 'Down/Up Ratio',\n",
              "       'Average Packet Size', 'Avg Fwd Segment Size', 'Avg Bwd Segment Size',\n",
              "       'Subflow Fwd Bytes', 'Subflow Bwd Bytes', 'Init_Win_bytes_forward',\n",
              "       'Init_Win_bytes_backward', 'act_data_pkt_fwd', 'min_seg_size_forward',\n",
              "       'Active Mean', 'Active Std', 'Active Max', 'Active Min', 'Idle Mean',\n",
              "       'Idle Std', 'Idle Max', 'Idle Min', 'Label'],\n",
              "      dtype='object')"
            ]
          },
          "metadata": {},
          "execution_count": 33
        }
      ]
    },
    {
      "cell_type": "code",
      "source": [
        "# List of columns to drop\n",
        "columns_to_drop= [ ' CWE Flag Count',' Avg Fwd Segment Size', ' Avg Bwd Segment Size',\n",
        "                   'Fwd Avg Bytes/Bulk', ' Fwd Avg Packets/Bulk',\n",
        "                   ' Fwd Avg Bulk Rate', ' Bwd Avg Bytes/Bulk', ' Bwd Avg Packets/Bulk',\n",
        "                   'Bwd Avg Bulk Rate', 'Subflow Fwd Packets', ' Subflow Fwd Bytes',\n",
        "                   ' Subflow Bwd Packets', ' Subflow Bwd Bytes'  ]\n",
        "\n",
        "existing_columns = [col for col in columns_to_drop if col in df.columns]\n",
        "\n",
        "# Dropping specified columns from the DataFrame\n",
        "pd.df = df.drop(existing_columns, axis=1)\n",
        "dropped_columns = list(set(existing_columns))  # Find the columns that were dropped\n",
        "\n",
        "# Displaying dropped columns\n",
        "print(\"Columns dropped:\")\n",
        "for col in dropped_columns:\n",
        "    print(col)\n",
        "\n",
        "# df.tail()"
      ],
      "metadata": {
        "id": "5ysSUr8n_AfG",
        "colab": {
          "base_uri": "https://localhost:8080/"
        },
        "outputId": "71ab10f5-7dd8-47e8-904a-a6620cc2952f"
      },
      "execution_count": 35,
      "outputs": [
        {
          "output_type": "stream",
          "name": "stdout",
          "text": [
            "Columns dropped:\n"
          ]
        }
      ]
    },
    {
      "cell_type": "code",
      "source": [
        "df.isnull().sum().sort_values(ascending = False)"
      ],
      "metadata": {
        "id": "ScYZAqEEu2WQ",
        "colab": {
          "base_uri": "https://localhost:8080/"
        },
        "outputId": "f33ea9cb-1be5-4225-fa18-317edb6b48bc"
      },
      "execution_count": 36,
      "outputs": [
        {
          "output_type": "execute_result",
          "data": {
            "text/plain": [
              "Destination Port               0\n",
              "Avg Fwd Segment Size           0\n",
              "Bwd Packets/s                  0\n",
              "Min Packet Length              0\n",
              "Max Packet Length              0\n",
              "Packet Length Mean             0\n",
              "Packet Length Std              0\n",
              "Packet Length Variance         0\n",
              "FIN Flag Count                 0\n",
              "RST Flag Count                 0\n",
              "PSH Flag Count                 0\n",
              "ACK Flag Count                 0\n",
              "URG Flag Count                 0\n",
              "ECE Flag Count                 0\n",
              "Down/Up Ratio                  0\n",
              "Average Packet Size            0\n",
              "Avg Bwd Segment Size           0\n",
              "Flow Duration                  0\n",
              "Subflow Fwd Bytes              0\n",
              "Subflow Bwd Bytes              0\n",
              "Init_Win_bytes_forward         0\n",
              "Init_Win_bytes_backward        0\n",
              "act_data_pkt_fwd               0\n",
              "min_seg_size_forward           0\n",
              "Active Mean                    0\n",
              "Active Std                     0\n",
              "Active Max                     0\n",
              "Active Min                     0\n",
              "Idle Mean                      0\n",
              "Idle Std                       0\n",
              "Idle Max                       0\n",
              "Idle Min                       0\n",
              "Fwd Packets/s                  0\n",
              "Bwd Header Length              0\n",
              "Fwd Header Length              0\n",
              "Fwd URG Flags                  0\n",
              "Total Fwd Packets              0\n",
              "Total Backward Packets         0\n",
              "Total Length of Fwd Packets    0\n",
              "Total Length of Bwd Packets    0\n",
              "Fwd Packet Length Max          0\n",
              "Fwd Packet Length Min          0\n",
              "Fwd Packet Length Mean         0\n",
              "Fwd Packet Length Std          0\n",
              "Bwd Packet Length Max          0\n",
              "Bwd Packet Length Min          0\n",
              "Bwd Packet Length Mean         0\n",
              "Bwd Packet Length Std          0\n",
              "Flow Bytes/s                   0\n",
              "Flow Packets/s                 0\n",
              "Flow IAT Mean                  0\n",
              "Flow IAT Std                   0\n",
              "Flow IAT Max                   0\n",
              "Flow IAT Min                   0\n",
              "Fwd IAT Total                  0\n",
              "Fwd IAT Mean                   0\n",
              "Fwd IAT Std                    0\n",
              "Fwd IAT Max                    0\n",
              "Fwd IAT Min                    0\n",
              "Bwd IAT Total                  0\n",
              "Bwd IAT Mean                   0\n",
              "Bwd IAT Std                    0\n",
              "Bwd IAT Max                    0\n",
              "Bwd IAT Min                    0\n",
              "Fwd PSH Flags                  0\n",
              "Label                          0\n",
              "dtype: int64"
            ]
          },
          "metadata": {},
          "execution_count": 36
        }
      ]
    },
    {
      "cell_type": "code",
      "source": [
        "# Converting categorical values of 'Timestamp' and 'Label' to numerical values.\n",
        "le = LabelEncoder()\n",
        "df['Label']=le.fit_transform(df['Label'])"
      ],
      "metadata": {
        "id": "KLTFLQmo0Ql2"
      },
      "execution_count": 37,
      "outputs": []
    },
    {
      "cell_type": "code",
      "source": [
        "df.info()"
      ],
      "metadata": {
        "colab": {
          "base_uri": "https://localhost:8080/"
        },
        "id": "Ug8PTnzc41z6",
        "outputId": "1be63a18-62d3-476e-e07e-2b1e94a9dd05"
      },
      "execution_count": 39,
      "outputs": [
        {
          "output_type": "stream",
          "name": "stdout",
          "text": [
            "<class 'pandas.core.frame.DataFrame'>\n",
            "Index: 2520798 entries, 0 to 692702\n",
            "Data columns (total 66 columns):\n",
            " #   Column                       Dtype  \n",
            "---  ------                       -----  \n",
            " 0   Destination Port             int64  \n",
            " 1   Flow Duration                int64  \n",
            " 2   Total Fwd Packets            int64  \n",
            " 3   Total Backward Packets       int64  \n",
            " 4   Total Length of Fwd Packets  int64  \n",
            " 5   Total Length of Bwd Packets  int64  \n",
            " 6   Fwd Packet Length Max        int64  \n",
            " 7   Fwd Packet Length Min        int64  \n",
            " 8   Fwd Packet Length Mean       float64\n",
            " 9   Fwd Packet Length Std        float64\n",
            " 10  Bwd Packet Length Max        int64  \n",
            " 11  Bwd Packet Length Min        int64  \n",
            " 12  Bwd Packet Length Mean       float64\n",
            " 13  Bwd Packet Length Std        float64\n",
            " 14  Flow Bytes/s                 float64\n",
            " 15  Flow Packets/s               float64\n",
            " 16  Flow IAT Mean                float64\n",
            " 17  Flow IAT Std                 float64\n",
            " 18  Flow IAT Max                 int64  \n",
            " 19  Flow IAT Min                 int64  \n",
            " 20  Fwd IAT Total                int64  \n",
            " 21  Fwd IAT Mean                 float64\n",
            " 22  Fwd IAT Std                  float64\n",
            " 23  Fwd IAT Max                  int64  \n",
            " 24  Fwd IAT Min                  int64  \n",
            " 25  Bwd IAT Total                int64  \n",
            " 26  Bwd IAT Mean                 float64\n",
            " 27  Bwd IAT Std                  float64\n",
            " 28  Bwd IAT Max                  int64  \n",
            " 29  Bwd IAT Min                  int64  \n",
            " 30  Fwd PSH Flags                int64  \n",
            " 31  Fwd URG Flags                int64  \n",
            " 32  Fwd Header Length            int64  \n",
            " 33  Bwd Header Length            int64  \n",
            " 34  Fwd Packets/s                float64\n",
            " 35  Bwd Packets/s                float64\n",
            " 36  Min Packet Length            int64  \n",
            " 37  Max Packet Length            int64  \n",
            " 38  Packet Length Mean           float64\n",
            " 39  Packet Length Std            float64\n",
            " 40  Packet Length Variance       float64\n",
            " 41  FIN Flag Count               int64  \n",
            " 42  RST Flag Count               int64  \n",
            " 43  PSH Flag Count               int64  \n",
            " 44  ACK Flag Count               int64  \n",
            " 45  URG Flag Count               int64  \n",
            " 46  ECE Flag Count               int64  \n",
            " 47  Down/Up Ratio                int64  \n",
            " 48  Average Packet Size          float64\n",
            " 49  Avg Fwd Segment Size         float64\n",
            " 50  Avg Bwd Segment Size         float64\n",
            " 51  Subflow Fwd Bytes            int64  \n",
            " 52  Subflow Bwd Bytes            int64  \n",
            " 53  Init_Win_bytes_forward       int64  \n",
            " 54  Init_Win_bytes_backward      int64  \n",
            " 55  act_data_pkt_fwd             int64  \n",
            " 56  min_seg_size_forward         int64  \n",
            " 57  Active Mean                  float64\n",
            " 58  Active Std                   float64\n",
            " 59  Active Max                   int64  \n",
            " 60  Active Min                   int64  \n",
            " 61  Idle Mean                    float64\n",
            " 62  Idle Std                     float64\n",
            " 63  Idle Max                     int64  \n",
            " 64  Idle Min                     int64  \n",
            " 65  Label                        int32  \n",
            "dtypes: float64(24), int32(1), int64(41)\n",
            "memory usage: 1.2 GB\n"
          ]
        }
      ]
    },
    {
      "cell_type": "code",
      "source": [
        "# Checking for large values.\n",
        "print(False in np.isfinite(df).values)"
      ],
      "metadata": {
        "id": "XZWeu8Mf00rA",
        "colab": {
          "base_uri": "https://localhost:8080/"
        },
        "outputId": "89223404-c85e-4809-9a00-8c81d88ca983"
      },
      "execution_count": 40,
      "outputs": [
        {
          "output_type": "stream",
          "name": "stdout",
          "text": [
            "False\n"
          ]
        }
      ]
    },
    {
      "cell_type": "code",
      "source": [
        "# Statistical description of the dataset.\n",
        "df.describe()"
      ],
      "metadata": {
        "id": "mFA1k-SH03jl",
        "colab": {
          "base_uri": "https://localhost:8080/",
          "height": 355
        },
        "outputId": "9bc21dcf-5b7c-451e-83b5-426e655c9e67"
      },
      "execution_count": 41,
      "outputs": [
        {
          "output_type": "execute_result",
          "data": {
            "text/plain": [
              "       Destination Port  Flow Duration  Total Fwd Packets  \\\n",
              "count      2.520798e+06   2.520798e+06       2.520798e+06   \n",
              "mean       8.690590e+03   1.659161e+07       1.028174e+01   \n",
              "std        1.901280e+04   3.523276e+07       7.944201e+02   \n",
              "min        0.000000e+00   0.000000e+00       1.000000e+00   \n",
              "25%        5.300000e+01   2.080000e+02       2.000000e+00   \n",
              "50%        8.000000e+01   5.062200e+04       2.000000e+00   \n",
              "75%        4.430000e+02   5.333340e+06       6.000000e+00   \n",
              "max        6.553500e+04   1.200000e+08       2.197590e+05   \n",
              "\n",
              "       Total Backward Packets  Total Length of Fwd Packets  \\\n",
              "count            2.520798e+06                 2.520798e+06   \n",
              "mean             1.157280e+01                 6.119477e+02   \n",
              "std              1.056922e+03                 1.058827e+04   \n",
              "min              0.000000e+00                 0.000000e+00   \n",
              "25%              1.000000e+00                 1.200000e+01   \n",
              "50%              2.000000e+00                 6.600000e+01   \n",
              "75%              5.000000e+00                 3.320000e+02   \n",
              "max              2.919220e+05                 1.290000e+07   \n",
              "\n",
              "       Total Length of Bwd Packets  Fwd Packet Length Max  \\\n",
              "count                 2.520798e+06           2.520798e+06   \n",
              "mean                  1.814440e+04           2.312292e+02   \n",
              "std                   2.398177e+06           7.563755e+02   \n",
              "min                   0.000000e+00           0.000000e+00   \n",
              "25%                   6.000000e+00           6.000000e+00   \n",
              "50%                   1.560000e+02           4.000000e+01   \n",
              "75%                   9.970000e+02           2.020000e+02   \n",
              "max                   6.554530e+08           2.482000e+04   \n",
              "\n",
              "       Fwd Packet Length Min  Fwd Packet Length Mean  Fwd Packet Length Std  \\\n",
              "count           2.520798e+06            2.520798e+06           2.520798e+06   \n",
              "mean            1.920349e+01            6.350497e+01           7.732347e+01   \n",
              "std             6.079834e+01            1.955526e+02           2.968814e+02   \n",
              "min             0.000000e+00            0.000000e+00           0.000000e+00   \n",
              "25%             0.000000e+00            6.000000e+00           0.000000e+00   \n",
              "50%             2.000000e+00            3.625000e+01           0.000000e+00   \n",
              "75%             3.700000e+01            5.200000e+01           7.419280e+01   \n",
              "max             2.325000e+03            5.940857e+03           7.125597e+03   \n",
              "\n",
              "       Bwd Packet Length Max  Bwd Packet Length Min  Bwd Packet Length Mean  \\\n",
              "count           2.520798e+06           2.520798e+06            2.520798e+06   \n",
              "mean            9.749726e+02           4.315945e+01            3.406225e+02   \n",
              "std             2.038347e+03           7.087972e+01            6.325636e+02   \n",
              "min             0.000000e+00           0.000000e+00            0.000000e+00   \n",
              "25%             6.000000e+00           0.000000e+00            6.000000e+00   \n",
              "50%             9.700000e+01           0.000000e+00            8.850000e+01   \n",
              "75%             7.460000e+02           8.200000e+01            2.182632e+02   \n",
              "max             1.953000e+04           2.896000e+03            5.800500e+03   \n",
              "\n",
              "       Bwd Packet Length Std  Flow Bytes/s  Flow Packets/s  Flow IAT Mean  \\\n",
              "count           2.520798e+06  2.520798e+06    2.520798e+06   2.520798e+06   \n",
              "mean            3.765453e+02  1.411175e+06    4.737320e+04   1.446142e+06   \n",
              "std             8.810547e+02  2.656997e+07    2.022194e+05   4.683197e+06   \n",
              "min             0.000000e+00  0.000000e+00    0.000000e+00   0.000000e+00   \n",
              "25%             0.000000e+00  1.194308e+02    2.023326e+00   8.300000e+01   \n",
              "50%             0.000000e+00  3.715038e+03    6.974224e+01   2.044067e+04   \n",
              "75%             2.644106e+02  1.071429e+05    1.785714e+04   5.576706e+05   \n",
              "max             8.194660e+03  2.071000e+09    4.000000e+06   1.200000e+08   \n",
              "\n",
              "       Flow IAT Std  Flow IAT Max  Flow IAT Min  Fwd IAT Total  Fwd IAT Mean  \\\n",
              "count  2.520798e+06  2.520798e+06  2.520798e+06   2.520798e+06  2.520798e+06   \n",
              "mean   3.278153e+06  1.029948e+07  1.704214e+05   1.625184e+07  2.919257e+06   \n",
              "std    8.456754e+06  2.568537e+07  3.014304e+06   3.516638e+07  1.001639e+07   \n",
              "min    0.000000e+00  0.000000e+00  0.000000e+00   0.000000e+00  0.000000e+00   \n",
              "25%    0.000000e+00  1.760000e+02  3.000000e+00   1.000000e+00  1.000000e+00   \n",
              "50%    1.239435e+04  4.654050e+04  4.000000e+00   4.900000e+01  4.900000e+01   \n",
              "75%    1.492018e+06  4.999655e+06  6.900000e+01   5.039350e+06  7.383423e+05   \n",
              "max    8.480026e+07  1.200000e+08  1.200000e+08   1.200000e+08  1.200000e+08   \n",
              "\n",
              "        Fwd IAT Std   Fwd IAT Max   Fwd IAT Min  Bwd IAT Total  Bwd IAT Mean  \\\n",
              "count  2.520798e+06  2.520798e+06  2.520798e+06   2.520798e+06  2.520798e+06   \n",
              "mean   3.668641e+06  1.014294e+07  1.135671e+06   1.111025e+07  2.027734e+06   \n",
              "std    1.014208e+07  2.576650e+07  9.059498e+06   3.022924e+07  9.393386e+06   \n",
              "min    0.000000e+00  0.000000e+00  0.000000e+00   0.000000e+00  0.000000e+00   \n",
              "25%    0.000000e+00  1.000000e+00  0.000000e+00   0.000000e+00  0.000000e+00   \n",
              "50%    0.000000e+00  4.900000e+01  3.000000e+00   3.000000e+00  3.000000e+00   \n",
              "75%    5.718941e+05  4.216112e+06  4.900000e+01   1.504670e+05  2.969500e+04   \n",
              "max    8.460293e+07  1.200000e+08  1.200000e+08   1.200000e+08  1.200000e+08   \n",
              "\n",
              "        Bwd IAT Std   Bwd IAT Max   Bwd IAT Min  Fwd PSH Flags  Fwd URG Flags  \\\n",
              "count  2.520798e+06  2.520798e+06  2.520798e+06   2.520798e+06   2.520798e+06   \n",
              "mean   1.668681e+06  5.260619e+06  1.086111e+06   4.866832e-02   3.173598e-05   \n",
              "std    6.630315e+06  1.810168e+07  8.797215e+06   2.151737e-01   5.633382e-03   \n",
              "min    0.000000e+00  0.000000e+00  0.000000e+00   0.000000e+00   0.000000e+00   \n",
              "25%    0.000000e+00  0.000000e+00  0.000000e+00   0.000000e+00   0.000000e+00   \n",
              "50%    0.000000e+00  3.000000e+00  3.000000e+00   0.000000e+00   0.000000e+00   \n",
              "75%    2.917766e+04  1.215048e+05  4.700000e+01   0.000000e+00   0.000000e+00   \n",
              "max    8.441801e+07  1.200000e+08  1.200000e+08   1.000000e+00   1.000000e+00   \n",
              "\n",
              "       Fwd Header Length  Bwd Header Length  Fwd Packets/s  Bwd Packets/s  \\\n",
              "count       2.520798e+06       2.520798e+06   2.520798e+06   2.520798e+06   \n",
              "mean        2.503860e+02       2.733500e+02   4.085969e+04   6.513513e+03   \n",
              "std         1.660853e+04       2.117853e+04   1.932655e+05   3.814460e+04   \n",
              "min         0.000000e+00       0.000000e+00   0.000000e+00   0.000000e+00   \n",
              "25%         4.000000e+01       2.000000e+01   1.218008e+00   1.682916e-01   \n",
              "50%         6.400000e+01       4.000000e+01   3.803188e+01   1.922473e+01   \n",
              "75%         1.440000e+02       1.320000e+02   9.433962e+03   2.094241e+03   \n",
              "max         4.644908e+06       5.838440e+06   3.000000e+06   2.000000e+06   \n",
              "\n",
              "       Min Packet Length  Max Packet Length  Packet Length Mean  \\\n",
              "count       2.520798e+06       2.520798e+06        2.520798e+06   \n",
              "mean        1.683200e+01       1.063750e+03        1.906548e+02   \n",
              "std         2.558415e+01       2.121693e+03        3.183562e+02   \n",
              "min         0.000000e+00       0.000000e+00        0.000000e+00   \n",
              "25%         0.000000e+00       6.000000e+00        6.000000e+00   \n",
              "50%         2.000000e+00       1.020000e+02        6.360000e+01   \n",
              "75%         3.700000e+01       1.118000e+03        1.557500e+02   \n",
              "max         1.448000e+03       2.482000e+04        3.337143e+03   \n",
              "\n",
              "       Packet Length Std  Packet Length Variance  FIN Flag Count  \\\n",
              "count       2.520798e+06            2.520798e+06    2.520798e+06   \n",
              "mean        3.302006e+02            5.457761e+05    3.209539e-02   \n",
              "std         6.608889e+02            1.736478e+06    1.762535e-01   \n",
              "min         0.000000e+00            0.000000e+00    0.000000e+00   \n",
              "25%         2.309401e+00            5.333333e+00    0.000000e+00   \n",
              "50%         3.233162e+01            1.045333e+03    0.000000e+00   \n",
              "75%         3.227910e+02            1.041940e+05    0.000000e+00   \n",
              "max         4.731522e+03            2.240000e+07    1.000000e+00   \n",
              "\n",
              "       RST Flag Count  PSH Flag Count  ACK Flag Count  URG Flag Count  \\\n",
              "count    2.520798e+06    2.520798e+06    2.520798e+06    2.520798e+06   \n",
              "mean     2.721360e-04    2.976085e-01    3.118723e-01    1.013929e-01   \n",
              "std      1.649430e-02    4.572065e-01    4.632581e-01    3.018483e-01   \n",
              "min      0.000000e+00    0.000000e+00    0.000000e+00    0.000000e+00   \n",
              "25%      0.000000e+00    0.000000e+00    0.000000e+00    0.000000e+00   \n",
              "50%      0.000000e+00    0.000000e+00    0.000000e+00    0.000000e+00   \n",
              "75%      0.000000e+00    1.000000e+00    1.000000e+00    0.000000e+00   \n",
              "max      1.000000e+00    1.000000e+00    1.000000e+00    1.000000e+00   \n",
              "\n",
              "       ECE Flag Count  Down/Up Ratio  Average Packet Size  \\\n",
              "count    2.520798e+06   2.520798e+06         2.520798e+06   \n",
              "mean     2.733261e-04   7.004476e-01         2.124358e+02   \n",
              "std      1.653032e-02   6.956600e-01         3.455032e+02   \n",
              "min      0.000000e+00   0.000000e+00         0.000000e+00   \n",
              "25%      0.000000e+00   0.000000e+00         9.000000e+00   \n",
              "50%      0.000000e+00   1.000000e+00         8.100000e+01   \n",
              "75%      0.000000e+00   1.000000e+00         1.799272e+02   \n",
              "max      1.000000e+00   1.560000e+02         3.893333e+03   \n",
              "\n",
              "       Avg Fwd Segment Size  Avg Bwd Segment Size  Subflow Fwd Bytes  \\\n",
              "count          2.520798e+06          2.520798e+06       2.520798e+06   \n",
              "mean           6.350497e+01          3.406225e+02       6.119359e+02   \n",
              "std            1.955526e+02          6.325636e+02       1.057394e+04   \n",
              "min            0.000000e+00          0.000000e+00       0.000000e+00   \n",
              "25%            6.000000e+00          6.000000e+00       1.200000e+01   \n",
              "50%            3.625000e+01          8.850000e+01       6.600000e+01   \n",
              "75%            5.200000e+01          2.182632e+02       3.320000e+02   \n",
              "max            5.940857e+03          5.800500e+03       1.287034e+07   \n",
              "\n",
              "       Subflow Bwd Bytes  Init_Win_bytes_forward  Init_Win_bytes_backward  \\\n",
              "count       2.520798e+06            2.520798e+06             2.520798e+06   \n",
              "mean        1.814402e+04            7.265976e+03             2.229208e+03   \n",
              "std         2.398145e+06            1.459777e+04             8.924281e+03   \n",
              "min         0.000000e+00            0.000000e+00             0.000000e+00   \n",
              "25%         6.000000e+00            0.000000e+00             0.000000e+00   \n",
              "50%         1.560000e+02            2.510000e+02             0.000000e+00   \n",
              "75%         9.970000e+02            8.192000e+03             2.350000e+02   \n",
              "max         6.554530e+08            6.553500e+04             6.553500e+04   \n",
              "\n",
              "       act_data_pkt_fwd  min_seg_size_forward   Active Mean    Active Std  \\\n",
              "count      2.520798e+06          2.520798e+06  2.520798e+06  2.520798e+06   \n",
              "mean       6.009478e+00          2.588550e+01  9.157847e+04  4.619177e+04   \n",
              "std        6.744150e+02          6.525341e+00  6.866503e+05  4.165844e+05   \n",
              "min        0.000000e+00          0.000000e+00  0.000000e+00  0.000000e+00   \n",
              "25%        0.000000e+00          2.000000e+01  0.000000e+00  0.000000e+00   \n",
              "50%        1.000000e+00          2.000000e+01  0.000000e+00  0.000000e+00   \n",
              "75%        3.000000e+00          3.200000e+01  0.000000e+00  0.000000e+00   \n",
              "max        2.135570e+05          1.380000e+02  1.100000e+08  7.420000e+07   \n",
              "\n",
              "         Active Max    Active Min     Idle Mean      Idle Std      Idle Max  \\\n",
              "count  2.520798e+06  2.520798e+06  2.520798e+06  2.520798e+06  2.520798e+06   \n",
              "mean   1.720171e+05  6.546359e+04  9.337367e+06  5.657941e+05  9.763770e+06   \n",
              "std    1.085571e+06  6.111585e+05  2.484818e+07  4.874169e+06  2.561746e+07   \n",
              "min    0.000000e+00  0.000000e+00  0.000000e+00  0.000000e+00  0.000000e+00   \n",
              "25%    0.000000e+00  0.000000e+00  0.000000e+00  0.000000e+00  0.000000e+00   \n",
              "50%    0.000000e+00  0.000000e+00  0.000000e+00  0.000000e+00  0.000000e+00   \n",
              "75%    0.000000e+00  0.000000e+00  0.000000e+00  0.000000e+00  0.000000e+00   \n",
              "max    1.100000e+08  1.100000e+08  1.200000e+08  7.690000e+07  1.200000e+08   \n",
              "\n",
              "           Idle Min         Label  \n",
              "count  2.520798e+06  2.520798e+06  \n",
              "mean   8.892671e+06  8.311086e-01  \n",
              "std    2.458143e+07  3.746560e-01  \n",
              "min    0.000000e+00  0.000000e+00  \n",
              "25%    0.000000e+00  1.000000e+00  \n",
              "50%    0.000000e+00  1.000000e+00  \n",
              "75%    0.000000e+00  1.000000e+00  \n",
              "max    1.200000e+08  1.000000e+00  "
            ],
            "text/html": [
              "<div>\n",
              "<style scoped>\n",
              "    .dataframe tbody tr th:only-of-type {\n",
              "        vertical-align: middle;\n",
              "    }\n",
              "\n",
              "    .dataframe tbody tr th {\n",
              "        vertical-align: top;\n",
              "    }\n",
              "\n",
              "    .dataframe thead th {\n",
              "        text-align: right;\n",
              "    }\n",
              "</style>\n",
              "<table border=\"1\" class=\"dataframe\">\n",
              "  <thead>\n",
              "    <tr style=\"text-align: right;\">\n",
              "      <th></th>\n",
              "      <th>Destination Port</th>\n",
              "      <th>Flow Duration</th>\n",
              "      <th>Total Fwd Packets</th>\n",
              "      <th>Total Backward Packets</th>\n",
              "      <th>Total Length of Fwd Packets</th>\n",
              "      <th>Total Length of Bwd Packets</th>\n",
              "      <th>Fwd Packet Length Max</th>\n",
              "      <th>Fwd Packet Length Min</th>\n",
              "      <th>Fwd Packet Length Mean</th>\n",
              "      <th>Fwd Packet Length Std</th>\n",
              "      <th>Bwd Packet Length Max</th>\n",
              "      <th>Bwd Packet Length Min</th>\n",
              "      <th>Bwd Packet Length Mean</th>\n",
              "      <th>Bwd Packet Length Std</th>\n",
              "      <th>Flow Bytes/s</th>\n",
              "      <th>Flow Packets/s</th>\n",
              "      <th>Flow IAT Mean</th>\n",
              "      <th>Flow IAT Std</th>\n",
              "      <th>Flow IAT Max</th>\n",
              "      <th>Flow IAT Min</th>\n",
              "      <th>Fwd IAT Total</th>\n",
              "      <th>Fwd IAT Mean</th>\n",
              "      <th>Fwd IAT Std</th>\n",
              "      <th>Fwd IAT Max</th>\n",
              "      <th>Fwd IAT Min</th>\n",
              "      <th>Bwd IAT Total</th>\n",
              "      <th>Bwd IAT Mean</th>\n",
              "      <th>Bwd IAT Std</th>\n",
              "      <th>Bwd IAT Max</th>\n",
              "      <th>Bwd IAT Min</th>\n",
              "      <th>Fwd PSH Flags</th>\n",
              "      <th>Fwd URG Flags</th>\n",
              "      <th>Fwd Header Length</th>\n",
              "      <th>Bwd Header Length</th>\n",
              "      <th>Fwd Packets/s</th>\n",
              "      <th>Bwd Packets/s</th>\n",
              "      <th>Min Packet Length</th>\n",
              "      <th>Max Packet Length</th>\n",
              "      <th>Packet Length Mean</th>\n",
              "      <th>Packet Length Std</th>\n",
              "      <th>Packet Length Variance</th>\n",
              "      <th>FIN Flag Count</th>\n",
              "      <th>RST Flag Count</th>\n",
              "      <th>PSH Flag Count</th>\n",
              "      <th>ACK Flag Count</th>\n",
              "      <th>URG Flag Count</th>\n",
              "      <th>ECE Flag Count</th>\n",
              "      <th>Down/Up Ratio</th>\n",
              "      <th>Average Packet Size</th>\n",
              "      <th>Avg Fwd Segment Size</th>\n",
              "      <th>Avg Bwd Segment Size</th>\n",
              "      <th>Subflow Fwd Bytes</th>\n",
              "      <th>Subflow Bwd Bytes</th>\n",
              "      <th>Init_Win_bytes_forward</th>\n",
              "      <th>Init_Win_bytes_backward</th>\n",
              "      <th>act_data_pkt_fwd</th>\n",
              "      <th>min_seg_size_forward</th>\n",
              "      <th>Active Mean</th>\n",
              "      <th>Active Std</th>\n",
              "      <th>Active Max</th>\n",
              "      <th>Active Min</th>\n",
              "      <th>Idle Mean</th>\n",
              "      <th>Idle Std</th>\n",
              "      <th>Idle Max</th>\n",
              "      <th>Idle Min</th>\n",
              "      <th>Label</th>\n",
              "    </tr>\n",
              "  </thead>\n",
              "  <tbody>\n",
              "    <tr>\n",
              "      <th>count</th>\n",
              "      <td>2.520798e+06</td>\n",
              "      <td>2.520798e+06</td>\n",
              "      <td>2.520798e+06</td>\n",
              "      <td>2.520798e+06</td>\n",
              "      <td>2.520798e+06</td>\n",
              "      <td>2.520798e+06</td>\n",
              "      <td>2.520798e+06</td>\n",
              "      <td>2.520798e+06</td>\n",
              "      <td>2.520798e+06</td>\n",
              "      <td>2.520798e+06</td>\n",
              "      <td>2.520798e+06</td>\n",
              "      <td>2.520798e+06</td>\n",
              "      <td>2.520798e+06</td>\n",
              "      <td>2.520798e+06</td>\n",
              "      <td>2.520798e+06</td>\n",
              "      <td>2.520798e+06</td>\n",
              "      <td>2.520798e+06</td>\n",
              "      <td>2.520798e+06</td>\n",
              "      <td>2.520798e+06</td>\n",
              "      <td>2.520798e+06</td>\n",
              "      <td>2.520798e+06</td>\n",
              "      <td>2.520798e+06</td>\n",
              "      <td>2.520798e+06</td>\n",
              "      <td>2.520798e+06</td>\n",
              "      <td>2.520798e+06</td>\n",
              "      <td>2.520798e+06</td>\n",
              "      <td>2.520798e+06</td>\n",
              "      <td>2.520798e+06</td>\n",
              "      <td>2.520798e+06</td>\n",
              "      <td>2.520798e+06</td>\n",
              "      <td>2.520798e+06</td>\n",
              "      <td>2.520798e+06</td>\n",
              "      <td>2.520798e+06</td>\n",
              "      <td>2.520798e+06</td>\n",
              "      <td>2.520798e+06</td>\n",
              "      <td>2.520798e+06</td>\n",
              "      <td>2.520798e+06</td>\n",
              "      <td>2.520798e+06</td>\n",
              "      <td>2.520798e+06</td>\n",
              "      <td>2.520798e+06</td>\n",
              "      <td>2.520798e+06</td>\n",
              "      <td>2.520798e+06</td>\n",
              "      <td>2.520798e+06</td>\n",
              "      <td>2.520798e+06</td>\n",
              "      <td>2.520798e+06</td>\n",
              "      <td>2.520798e+06</td>\n",
              "      <td>2.520798e+06</td>\n",
              "      <td>2.520798e+06</td>\n",
              "      <td>2.520798e+06</td>\n",
              "      <td>2.520798e+06</td>\n",
              "      <td>2.520798e+06</td>\n",
              "      <td>2.520798e+06</td>\n",
              "      <td>2.520798e+06</td>\n",
              "      <td>2.520798e+06</td>\n",
              "      <td>2.520798e+06</td>\n",
              "      <td>2.520798e+06</td>\n",
              "      <td>2.520798e+06</td>\n",
              "      <td>2.520798e+06</td>\n",
              "      <td>2.520798e+06</td>\n",
              "      <td>2.520798e+06</td>\n",
              "      <td>2.520798e+06</td>\n",
              "      <td>2.520798e+06</td>\n",
              "      <td>2.520798e+06</td>\n",
              "      <td>2.520798e+06</td>\n",
              "      <td>2.520798e+06</td>\n",
              "      <td>2.520798e+06</td>\n",
              "    </tr>\n",
              "    <tr>\n",
              "      <th>mean</th>\n",
              "      <td>8.690590e+03</td>\n",
              "      <td>1.659161e+07</td>\n",
              "      <td>1.028174e+01</td>\n",
              "      <td>1.157280e+01</td>\n",
              "      <td>6.119477e+02</td>\n",
              "      <td>1.814440e+04</td>\n",
              "      <td>2.312292e+02</td>\n",
              "      <td>1.920349e+01</td>\n",
              "      <td>6.350497e+01</td>\n",
              "      <td>7.732347e+01</td>\n",
              "      <td>9.749726e+02</td>\n",
              "      <td>4.315945e+01</td>\n",
              "      <td>3.406225e+02</td>\n",
              "      <td>3.765453e+02</td>\n",
              "      <td>1.411175e+06</td>\n",
              "      <td>4.737320e+04</td>\n",
              "      <td>1.446142e+06</td>\n",
              "      <td>3.278153e+06</td>\n",
              "      <td>1.029948e+07</td>\n",
              "      <td>1.704214e+05</td>\n",
              "      <td>1.625184e+07</td>\n",
              "      <td>2.919257e+06</td>\n",
              "      <td>3.668641e+06</td>\n",
              "      <td>1.014294e+07</td>\n",
              "      <td>1.135671e+06</td>\n",
              "      <td>1.111025e+07</td>\n",
              "      <td>2.027734e+06</td>\n",
              "      <td>1.668681e+06</td>\n",
              "      <td>5.260619e+06</td>\n",
              "      <td>1.086111e+06</td>\n",
              "      <td>4.866832e-02</td>\n",
              "      <td>3.173598e-05</td>\n",
              "      <td>2.503860e+02</td>\n",
              "      <td>2.733500e+02</td>\n",
              "      <td>4.085969e+04</td>\n",
              "      <td>6.513513e+03</td>\n",
              "      <td>1.683200e+01</td>\n",
              "      <td>1.063750e+03</td>\n",
              "      <td>1.906548e+02</td>\n",
              "      <td>3.302006e+02</td>\n",
              "      <td>5.457761e+05</td>\n",
              "      <td>3.209539e-02</td>\n",
              "      <td>2.721360e-04</td>\n",
              "      <td>2.976085e-01</td>\n",
              "      <td>3.118723e-01</td>\n",
              "      <td>1.013929e-01</td>\n",
              "      <td>2.733261e-04</td>\n",
              "      <td>7.004476e-01</td>\n",
              "      <td>2.124358e+02</td>\n",
              "      <td>6.350497e+01</td>\n",
              "      <td>3.406225e+02</td>\n",
              "      <td>6.119359e+02</td>\n",
              "      <td>1.814402e+04</td>\n",
              "      <td>7.265976e+03</td>\n",
              "      <td>2.229208e+03</td>\n",
              "      <td>6.009478e+00</td>\n",
              "      <td>2.588550e+01</td>\n",
              "      <td>9.157847e+04</td>\n",
              "      <td>4.619177e+04</td>\n",
              "      <td>1.720171e+05</td>\n",
              "      <td>6.546359e+04</td>\n",
              "      <td>9.337367e+06</td>\n",
              "      <td>5.657941e+05</td>\n",
              "      <td>9.763770e+06</td>\n",
              "      <td>8.892671e+06</td>\n",
              "      <td>8.311086e-01</td>\n",
              "    </tr>\n",
              "    <tr>\n",
              "      <th>std</th>\n",
              "      <td>1.901280e+04</td>\n",
              "      <td>3.523276e+07</td>\n",
              "      <td>7.944201e+02</td>\n",
              "      <td>1.056922e+03</td>\n",
              "      <td>1.058827e+04</td>\n",
              "      <td>2.398177e+06</td>\n",
              "      <td>7.563755e+02</td>\n",
              "      <td>6.079834e+01</td>\n",
              "      <td>1.955526e+02</td>\n",
              "      <td>2.968814e+02</td>\n",
              "      <td>2.038347e+03</td>\n",
              "      <td>7.087972e+01</td>\n",
              "      <td>6.325636e+02</td>\n",
              "      <td>8.810547e+02</td>\n",
              "      <td>2.656997e+07</td>\n",
              "      <td>2.022194e+05</td>\n",
              "      <td>4.683197e+06</td>\n",
              "      <td>8.456754e+06</td>\n",
              "      <td>2.568537e+07</td>\n",
              "      <td>3.014304e+06</td>\n",
              "      <td>3.516638e+07</td>\n",
              "      <td>1.001639e+07</td>\n",
              "      <td>1.014208e+07</td>\n",
              "      <td>2.576650e+07</td>\n",
              "      <td>9.059498e+06</td>\n",
              "      <td>3.022924e+07</td>\n",
              "      <td>9.393386e+06</td>\n",
              "      <td>6.630315e+06</td>\n",
              "      <td>1.810168e+07</td>\n",
              "      <td>8.797215e+06</td>\n",
              "      <td>2.151737e-01</td>\n",
              "      <td>5.633382e-03</td>\n",
              "      <td>1.660853e+04</td>\n",
              "      <td>2.117853e+04</td>\n",
              "      <td>1.932655e+05</td>\n",
              "      <td>3.814460e+04</td>\n",
              "      <td>2.558415e+01</td>\n",
              "      <td>2.121693e+03</td>\n",
              "      <td>3.183562e+02</td>\n",
              "      <td>6.608889e+02</td>\n",
              "      <td>1.736478e+06</td>\n",
              "      <td>1.762535e-01</td>\n",
              "      <td>1.649430e-02</td>\n",
              "      <td>4.572065e-01</td>\n",
              "      <td>4.632581e-01</td>\n",
              "      <td>3.018483e-01</td>\n",
              "      <td>1.653032e-02</td>\n",
              "      <td>6.956600e-01</td>\n",
              "      <td>3.455032e+02</td>\n",
              "      <td>1.955526e+02</td>\n",
              "      <td>6.325636e+02</td>\n",
              "      <td>1.057394e+04</td>\n",
              "      <td>2.398145e+06</td>\n",
              "      <td>1.459777e+04</td>\n",
              "      <td>8.924281e+03</td>\n",
              "      <td>6.744150e+02</td>\n",
              "      <td>6.525341e+00</td>\n",
              "      <td>6.866503e+05</td>\n",
              "      <td>4.165844e+05</td>\n",
              "      <td>1.085571e+06</td>\n",
              "      <td>6.111585e+05</td>\n",
              "      <td>2.484818e+07</td>\n",
              "      <td>4.874169e+06</td>\n",
              "      <td>2.561746e+07</td>\n",
              "      <td>2.458143e+07</td>\n",
              "      <td>3.746560e-01</td>\n",
              "    </tr>\n",
              "    <tr>\n",
              "      <th>min</th>\n",
              "      <td>0.000000e+00</td>\n",
              "      <td>0.000000e+00</td>\n",
              "      <td>1.000000e+00</td>\n",
              "      <td>0.000000e+00</td>\n",
              "      <td>0.000000e+00</td>\n",
              "      <td>0.000000e+00</td>\n",
              "      <td>0.000000e+00</td>\n",
              "      <td>0.000000e+00</td>\n",
              "      <td>0.000000e+00</td>\n",
              "      <td>0.000000e+00</td>\n",
              "      <td>0.000000e+00</td>\n",
              "      <td>0.000000e+00</td>\n",
              "      <td>0.000000e+00</td>\n",
              "      <td>0.000000e+00</td>\n",
              "      <td>0.000000e+00</td>\n",
              "      <td>0.000000e+00</td>\n",
              "      <td>0.000000e+00</td>\n",
              "      <td>0.000000e+00</td>\n",
              "      <td>0.000000e+00</td>\n",
              "      <td>0.000000e+00</td>\n",
              "      <td>0.000000e+00</td>\n",
              "      <td>0.000000e+00</td>\n",
              "      <td>0.000000e+00</td>\n",
              "      <td>0.000000e+00</td>\n",
              "      <td>0.000000e+00</td>\n",
              "      <td>0.000000e+00</td>\n",
              "      <td>0.000000e+00</td>\n",
              "      <td>0.000000e+00</td>\n",
              "      <td>0.000000e+00</td>\n",
              "      <td>0.000000e+00</td>\n",
              "      <td>0.000000e+00</td>\n",
              "      <td>0.000000e+00</td>\n",
              "      <td>0.000000e+00</td>\n",
              "      <td>0.000000e+00</td>\n",
              "      <td>0.000000e+00</td>\n",
              "      <td>0.000000e+00</td>\n",
              "      <td>0.000000e+00</td>\n",
              "      <td>0.000000e+00</td>\n",
              "      <td>0.000000e+00</td>\n",
              "      <td>0.000000e+00</td>\n",
              "      <td>0.000000e+00</td>\n",
              "      <td>0.000000e+00</td>\n",
              "      <td>0.000000e+00</td>\n",
              "      <td>0.000000e+00</td>\n",
              "      <td>0.000000e+00</td>\n",
              "      <td>0.000000e+00</td>\n",
              "      <td>0.000000e+00</td>\n",
              "      <td>0.000000e+00</td>\n",
              "      <td>0.000000e+00</td>\n",
              "      <td>0.000000e+00</td>\n",
              "      <td>0.000000e+00</td>\n",
              "      <td>0.000000e+00</td>\n",
              "      <td>0.000000e+00</td>\n",
              "      <td>0.000000e+00</td>\n",
              "      <td>0.000000e+00</td>\n",
              "      <td>0.000000e+00</td>\n",
              "      <td>0.000000e+00</td>\n",
              "      <td>0.000000e+00</td>\n",
              "      <td>0.000000e+00</td>\n",
              "      <td>0.000000e+00</td>\n",
              "      <td>0.000000e+00</td>\n",
              "      <td>0.000000e+00</td>\n",
              "      <td>0.000000e+00</td>\n",
              "      <td>0.000000e+00</td>\n",
              "      <td>0.000000e+00</td>\n",
              "      <td>0.000000e+00</td>\n",
              "    </tr>\n",
              "    <tr>\n",
              "      <th>25%</th>\n",
              "      <td>5.300000e+01</td>\n",
              "      <td>2.080000e+02</td>\n",
              "      <td>2.000000e+00</td>\n",
              "      <td>1.000000e+00</td>\n",
              "      <td>1.200000e+01</td>\n",
              "      <td>6.000000e+00</td>\n",
              "      <td>6.000000e+00</td>\n",
              "      <td>0.000000e+00</td>\n",
              "      <td>6.000000e+00</td>\n",
              "      <td>0.000000e+00</td>\n",
              "      <td>6.000000e+00</td>\n",
              "      <td>0.000000e+00</td>\n",
              "      <td>6.000000e+00</td>\n",
              "      <td>0.000000e+00</td>\n",
              "      <td>1.194308e+02</td>\n",
              "      <td>2.023326e+00</td>\n",
              "      <td>8.300000e+01</td>\n",
              "      <td>0.000000e+00</td>\n",
              "      <td>1.760000e+02</td>\n",
              "      <td>3.000000e+00</td>\n",
              "      <td>1.000000e+00</td>\n",
              "      <td>1.000000e+00</td>\n",
              "      <td>0.000000e+00</td>\n",
              "      <td>1.000000e+00</td>\n",
              "      <td>0.000000e+00</td>\n",
              "      <td>0.000000e+00</td>\n",
              "      <td>0.000000e+00</td>\n",
              "      <td>0.000000e+00</td>\n",
              "      <td>0.000000e+00</td>\n",
              "      <td>0.000000e+00</td>\n",
              "      <td>0.000000e+00</td>\n",
              "      <td>0.000000e+00</td>\n",
              "      <td>4.000000e+01</td>\n",
              "      <td>2.000000e+01</td>\n",
              "      <td>1.218008e+00</td>\n",
              "      <td>1.682916e-01</td>\n",
              "      <td>0.000000e+00</td>\n",
              "      <td>6.000000e+00</td>\n",
              "      <td>6.000000e+00</td>\n",
              "      <td>2.309401e+00</td>\n",
              "      <td>5.333333e+00</td>\n",
              "      <td>0.000000e+00</td>\n",
              "      <td>0.000000e+00</td>\n",
              "      <td>0.000000e+00</td>\n",
              "      <td>0.000000e+00</td>\n",
              "      <td>0.000000e+00</td>\n",
              "      <td>0.000000e+00</td>\n",
              "      <td>0.000000e+00</td>\n",
              "      <td>9.000000e+00</td>\n",
              "      <td>6.000000e+00</td>\n",
              "      <td>6.000000e+00</td>\n",
              "      <td>1.200000e+01</td>\n",
              "      <td>6.000000e+00</td>\n",
              "      <td>0.000000e+00</td>\n",
              "      <td>0.000000e+00</td>\n",
              "      <td>0.000000e+00</td>\n",
              "      <td>2.000000e+01</td>\n",
              "      <td>0.000000e+00</td>\n",
              "      <td>0.000000e+00</td>\n",
              "      <td>0.000000e+00</td>\n",
              "      <td>0.000000e+00</td>\n",
              "      <td>0.000000e+00</td>\n",
              "      <td>0.000000e+00</td>\n",
              "      <td>0.000000e+00</td>\n",
              "      <td>0.000000e+00</td>\n",
              "      <td>1.000000e+00</td>\n",
              "    </tr>\n",
              "    <tr>\n",
              "      <th>50%</th>\n",
              "      <td>8.000000e+01</td>\n",
              "      <td>5.062200e+04</td>\n",
              "      <td>2.000000e+00</td>\n",
              "      <td>2.000000e+00</td>\n",
              "      <td>6.600000e+01</td>\n",
              "      <td>1.560000e+02</td>\n",
              "      <td>4.000000e+01</td>\n",
              "      <td>2.000000e+00</td>\n",
              "      <td>3.625000e+01</td>\n",
              "      <td>0.000000e+00</td>\n",
              "      <td>9.700000e+01</td>\n",
              "      <td>0.000000e+00</td>\n",
              "      <td>8.850000e+01</td>\n",
              "      <td>0.000000e+00</td>\n",
              "      <td>3.715038e+03</td>\n",
              "      <td>6.974224e+01</td>\n",
              "      <td>2.044067e+04</td>\n",
              "      <td>1.239435e+04</td>\n",
              "      <td>4.654050e+04</td>\n",
              "      <td>4.000000e+00</td>\n",
              "      <td>4.900000e+01</td>\n",
              "      <td>4.900000e+01</td>\n",
              "      <td>0.000000e+00</td>\n",
              "      <td>4.900000e+01</td>\n",
              "      <td>3.000000e+00</td>\n",
              "      <td>3.000000e+00</td>\n",
              "      <td>3.000000e+00</td>\n",
              "      <td>0.000000e+00</td>\n",
              "      <td>3.000000e+00</td>\n",
              "      <td>3.000000e+00</td>\n",
              "      <td>0.000000e+00</td>\n",
              "      <td>0.000000e+00</td>\n",
              "      <td>6.400000e+01</td>\n",
              "      <td>4.000000e+01</td>\n",
              "      <td>3.803188e+01</td>\n",
              "      <td>1.922473e+01</td>\n",
              "      <td>2.000000e+00</td>\n",
              "      <td>1.020000e+02</td>\n",
              "      <td>6.360000e+01</td>\n",
              "      <td>3.233162e+01</td>\n",
              "      <td>1.045333e+03</td>\n",
              "      <td>0.000000e+00</td>\n",
              "      <td>0.000000e+00</td>\n",
              "      <td>0.000000e+00</td>\n",
              "      <td>0.000000e+00</td>\n",
              "      <td>0.000000e+00</td>\n",
              "      <td>0.000000e+00</td>\n",
              "      <td>1.000000e+00</td>\n",
              "      <td>8.100000e+01</td>\n",
              "      <td>3.625000e+01</td>\n",
              "      <td>8.850000e+01</td>\n",
              "      <td>6.600000e+01</td>\n",
              "      <td>1.560000e+02</td>\n",
              "      <td>2.510000e+02</td>\n",
              "      <td>0.000000e+00</td>\n",
              "      <td>1.000000e+00</td>\n",
              "      <td>2.000000e+01</td>\n",
              "      <td>0.000000e+00</td>\n",
              "      <td>0.000000e+00</td>\n",
              "      <td>0.000000e+00</td>\n",
              "      <td>0.000000e+00</td>\n",
              "      <td>0.000000e+00</td>\n",
              "      <td>0.000000e+00</td>\n",
              "      <td>0.000000e+00</td>\n",
              "      <td>0.000000e+00</td>\n",
              "      <td>1.000000e+00</td>\n",
              "    </tr>\n",
              "    <tr>\n",
              "      <th>75%</th>\n",
              "      <td>4.430000e+02</td>\n",
              "      <td>5.333340e+06</td>\n",
              "      <td>6.000000e+00</td>\n",
              "      <td>5.000000e+00</td>\n",
              "      <td>3.320000e+02</td>\n",
              "      <td>9.970000e+02</td>\n",
              "      <td>2.020000e+02</td>\n",
              "      <td>3.700000e+01</td>\n",
              "      <td>5.200000e+01</td>\n",
              "      <td>7.419280e+01</td>\n",
              "      <td>7.460000e+02</td>\n",
              "      <td>8.200000e+01</td>\n",
              "      <td>2.182632e+02</td>\n",
              "      <td>2.644106e+02</td>\n",
              "      <td>1.071429e+05</td>\n",
              "      <td>1.785714e+04</td>\n",
              "      <td>5.576706e+05</td>\n",
              "      <td>1.492018e+06</td>\n",
              "      <td>4.999655e+06</td>\n",
              "      <td>6.900000e+01</td>\n",
              "      <td>5.039350e+06</td>\n",
              "      <td>7.383423e+05</td>\n",
              "      <td>5.718941e+05</td>\n",
              "      <td>4.216112e+06</td>\n",
              "      <td>4.900000e+01</td>\n",
              "      <td>1.504670e+05</td>\n",
              "      <td>2.969500e+04</td>\n",
              "      <td>2.917766e+04</td>\n",
              "      <td>1.215048e+05</td>\n",
              "      <td>4.700000e+01</td>\n",
              "      <td>0.000000e+00</td>\n",
              "      <td>0.000000e+00</td>\n",
              "      <td>1.440000e+02</td>\n",
              "      <td>1.320000e+02</td>\n",
              "      <td>9.433962e+03</td>\n",
              "      <td>2.094241e+03</td>\n",
              "      <td>3.700000e+01</td>\n",
              "      <td>1.118000e+03</td>\n",
              "      <td>1.557500e+02</td>\n",
              "      <td>3.227910e+02</td>\n",
              "      <td>1.041940e+05</td>\n",
              "      <td>0.000000e+00</td>\n",
              "      <td>0.000000e+00</td>\n",
              "      <td>1.000000e+00</td>\n",
              "      <td>1.000000e+00</td>\n",
              "      <td>0.000000e+00</td>\n",
              "      <td>0.000000e+00</td>\n",
              "      <td>1.000000e+00</td>\n",
              "      <td>1.799272e+02</td>\n",
              "      <td>5.200000e+01</td>\n",
              "      <td>2.182632e+02</td>\n",
              "      <td>3.320000e+02</td>\n",
              "      <td>9.970000e+02</td>\n",
              "      <td>8.192000e+03</td>\n",
              "      <td>2.350000e+02</td>\n",
              "      <td>3.000000e+00</td>\n",
              "      <td>3.200000e+01</td>\n",
              "      <td>0.000000e+00</td>\n",
              "      <td>0.000000e+00</td>\n",
              "      <td>0.000000e+00</td>\n",
              "      <td>0.000000e+00</td>\n",
              "      <td>0.000000e+00</td>\n",
              "      <td>0.000000e+00</td>\n",
              "      <td>0.000000e+00</td>\n",
              "      <td>0.000000e+00</td>\n",
              "      <td>1.000000e+00</td>\n",
              "    </tr>\n",
              "    <tr>\n",
              "      <th>max</th>\n",
              "      <td>6.553500e+04</td>\n",
              "      <td>1.200000e+08</td>\n",
              "      <td>2.197590e+05</td>\n",
              "      <td>2.919220e+05</td>\n",
              "      <td>1.290000e+07</td>\n",
              "      <td>6.554530e+08</td>\n",
              "      <td>2.482000e+04</td>\n",
              "      <td>2.325000e+03</td>\n",
              "      <td>5.940857e+03</td>\n",
              "      <td>7.125597e+03</td>\n",
              "      <td>1.953000e+04</td>\n",
              "      <td>2.896000e+03</td>\n",
              "      <td>5.800500e+03</td>\n",
              "      <td>8.194660e+03</td>\n",
              "      <td>2.071000e+09</td>\n",
              "      <td>4.000000e+06</td>\n",
              "      <td>1.200000e+08</td>\n",
              "      <td>8.480026e+07</td>\n",
              "      <td>1.200000e+08</td>\n",
              "      <td>1.200000e+08</td>\n",
              "      <td>1.200000e+08</td>\n",
              "      <td>1.200000e+08</td>\n",
              "      <td>8.460293e+07</td>\n",
              "      <td>1.200000e+08</td>\n",
              "      <td>1.200000e+08</td>\n",
              "      <td>1.200000e+08</td>\n",
              "      <td>1.200000e+08</td>\n",
              "      <td>8.441801e+07</td>\n",
              "      <td>1.200000e+08</td>\n",
              "      <td>1.200000e+08</td>\n",
              "      <td>1.000000e+00</td>\n",
              "      <td>1.000000e+00</td>\n",
              "      <td>4.644908e+06</td>\n",
              "      <td>5.838440e+06</td>\n",
              "      <td>3.000000e+06</td>\n",
              "      <td>2.000000e+06</td>\n",
              "      <td>1.448000e+03</td>\n",
              "      <td>2.482000e+04</td>\n",
              "      <td>3.337143e+03</td>\n",
              "      <td>4.731522e+03</td>\n",
              "      <td>2.240000e+07</td>\n",
              "      <td>1.000000e+00</td>\n",
              "      <td>1.000000e+00</td>\n",
              "      <td>1.000000e+00</td>\n",
              "      <td>1.000000e+00</td>\n",
              "      <td>1.000000e+00</td>\n",
              "      <td>1.000000e+00</td>\n",
              "      <td>1.560000e+02</td>\n",
              "      <td>3.893333e+03</td>\n",
              "      <td>5.940857e+03</td>\n",
              "      <td>5.800500e+03</td>\n",
              "      <td>1.287034e+07</td>\n",
              "      <td>6.554530e+08</td>\n",
              "      <td>6.553500e+04</td>\n",
              "      <td>6.553500e+04</td>\n",
              "      <td>2.135570e+05</td>\n",
              "      <td>1.380000e+02</td>\n",
              "      <td>1.100000e+08</td>\n",
              "      <td>7.420000e+07</td>\n",
              "      <td>1.100000e+08</td>\n",
              "      <td>1.100000e+08</td>\n",
              "      <td>1.200000e+08</td>\n",
              "      <td>7.690000e+07</td>\n",
              "      <td>1.200000e+08</td>\n",
              "      <td>1.200000e+08</td>\n",
              "      <td>1.000000e+00</td>\n",
              "    </tr>\n",
              "  </tbody>\n",
              "</table>\n",
              "</div>"
            ]
          },
          "metadata": {},
          "execution_count": 41
        }
      ]
    },
    {
      "cell_type": "markdown",
      "source": [
        "\n",
        "# ⚛ Transformation de données"
      ],
      "metadata": {
        "id": "Hc5NE5gV1IkT"
      }
    },
    {
      "cell_type": "code",
      "source": [
        "x = df.drop(['Label'] , axis = 1).values\n",
        "y = df['Label'].values"
      ],
      "metadata": {
        "id": "_3kCA_hG1J4d"
      },
      "execution_count": 42,
      "outputs": []
    },
    {
      "cell_type": "code",
      "source": [
        "# scaling the dataset / redimensionnement\n",
        "\n",
        "# ro_scaler = RobustScaler()\n",
        "# x_scaled = ro_scaler.fit_transform(x)\n",
        "\n",
        "# échelonnage des données dans une plage donnée, par défaut entre 0 et 1\n",
        "scaler = MinMaxScaler()\n",
        "x_scaled = scaler.fit_transform(x_scaled)"
      ],
      "metadata": {
        "id": "daPmRtu91bPI"
      },
      "execution_count": 43,
      "outputs": []
    },
    {
      "cell_type": "code",
      "source": [
        "x_train , x_test , y_train , y_test = train_test_split(x_scaled, y, test_size= 0.3 , random_state=42)"
      ],
      "metadata": {
        "id": "f8tUZfJC1mrF"
      },
      "execution_count": 44,
      "outputs": []
    },
    {
      "cell_type": "code",
      "source": [
        "print('la taille de notre dataset de trainning : ',x_train.shape)\n",
        "print('la taille de notre dataset de test : ',x_test.shape)"
      ],
      "metadata": {
        "id": "sbfJWIWy1vfp",
        "colab": {
          "base_uri": "https://localhost:8080/"
        },
        "outputId": "f28fb318-13fc-4b95-ac83-90d03e27ca9a"
      },
      "execution_count": 45,
      "outputs": [
        {
          "output_type": "stream",
          "name": "stdout",
          "text": [
            "la taille de notre dataset de trainning :  (1764558, 65)\n",
            "la taille de notre dataset de test :  (756240, 65)\n"
          ]
        }
      ]
    },
    {
      "cell_type": "code",
      "source": [
        "def cross_val(x_train, y_train, model):\n",
        "    accuracies = cross_val_score(estimator = model, X = x_train, y = y_train, cv=5)\n",
        "    return accuracies.mean()\n",
        "\n",
        "def fit_and_evaluate(model, x_train , x_test , y_train , y_test):\n",
        "    model.fit(x_train, y_train)\n",
        "\n",
        "    model_pred = model.predict(x_test)\n",
        "    model_cross = cross_val(x_train, y_train, model)\n",
        "\n",
        "    return model_cross\n",
        "\n",
        "def run_experiment(model, x_train , x_test , y_train , y_test):\n",
        "    model.fit(x_train, y_train)\n",
        "    y_pred = model.predict(x_test)\n",
        "    print(\"R^2 : \", r2_score(y_test, y_pred))\n",
        "    # precision, recall , f1score , accuracy\n",
        "    report=classification_report(y_test,y_pred)\n",
        "    print(report)"
      ],
      "metadata": {
        "id": "bBnKojdj4Gvx"
      },
      "execution_count": 46,
      "outputs": []
    },
    {
      "cell_type": "markdown",
      "source": [
        "# ☣ Random Forest"
      ],
      "metadata": {
        "id": "DVWPGvY54l86"
      }
    },
    {
      "cell_type": "code",
      "source": [
        "x_traincpy = np.copy(x_train)\n",
        "y_traincpy = np.copy(y_train)\n",
        "x_testcpy  = np.copy(x_test)\n",
        "y_testcpy  = np.copy(y_test)\n",
        "\n",
        "# le modèle va entraîner 10 arbres de décision et les agréger pour prendre des décisions\n",
        "random = RandomForestClassifier(n_estimators = 10, criterion = 'entropy')\n",
        "random_cross = fit_and_evaluate(random, x_traincpy , x_testcpy , y_traincpy , y_testcpy)\n",
        "\n",
        "print(' Random Forest Performance on the test set : Cross Validation Score = %0.4f ' % random_cross)"
      ],
      "metadata": {
        "id": "mJc2RyUN4uQf",
        "colab": {
          "base_uri": "https://localhost:8080/"
        },
        "outputId": "adaecb7f-6c19-4a3d-9584-0aaa9fbacef1"
      },
      "execution_count": 47,
      "outputs": [
        {
          "output_type": "stream",
          "name": "stdout",
          "text": [
            " Random Forest Performance on the test set : Cross Validation Score = 0.9987 \n"
          ]
        }
      ]
    },
    {
      "cell_type": "code",
      "source": [
        "y_pred = random.predict(x_testcpy)\n",
        "print(\"Accuracy: \", accuracy_score(y_testcpy, y_pred))"
      ],
      "metadata": {
        "id": "IjrR5szz455y",
        "colab": {
          "base_uri": "https://localhost:8080/"
        },
        "outputId": "abe974ce-e427-41b4-f7cb-8688701f665e"
      },
      "execution_count": 48,
      "outputs": [
        {
          "output_type": "stream",
          "name": "stdout",
          "text": [
            "Accuracy:  0.9988892415106315\n"
          ]
        }
      ]
    },
    {
      "cell_type": "code",
      "source": [
        "cm = confusion_matrix(y_testcpy, y_pred, labels=random.classes_)\n",
        "disp = ConfusionMatrixDisplay(confusion_matrix=cm, display_labels=random.classes_)\n",
        "disp.plot()\n",
        "plt.show()"
      ],
      "metadata": {
        "id": "2AxURQXc49AO",
        "colab": {
          "base_uri": "https://localhost:8080/",
          "height": 449
        },
        "outputId": "d888aed9-382e-475b-9047-a740553b55de"
      },
      "execution_count": 49,
      "outputs": [
        {
          "output_type": "display_data",
          "data": {
            "text/plain": [
              "<Figure size 640x480 with 2 Axes>"
            ],
            "image/png": "[encoded data removed]"
          },
          "metadata": {}
        }
      ]
    },
    {
      "cell_type": "markdown",
      "source": [
        "# ▶ Fichier PKL du modele"
      ],
      "metadata": {
        "id": "1u8NwxV_-Ohr"
      }
    },
    {
      "cell_type": "code",
      "source": [
        "modele = 'modele.pkl'\n",
        "with open(modele, 'wb') as fichier:\n",
        "    pickle.dump(random, fichier)\n",
        "    print(\"Modèle sauvegardé avec succès dans model.pkl\")\n",
        "\n"
      ],
      "metadata": {
        "id": "H-oqENpp-ZLw",
        "colab": {
          "base_uri": "https://localhost:8080/"
        },
        "outputId": "a71a49f6-8d0f-446e-9d1b-7fbf69f4792f"
      },
      "execution_count": 50,
      "outputs": [
        {
          "output_type": "stream",
          "name": "stdout",
          "text": [
            "Modèle sauvegardé avec succès dans model.pkl\n"
          ]
        }
      ]
    }
  ]
}